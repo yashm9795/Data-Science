{
 "cells": [
  {
   "cell_type": "markdown",
   "metadata": {
    "ein.tags": "worksheet-0",
    "slideshow": {
     "slide_type": "-"
    }
   },
   "source": [
    "# Problem Set 1\n",
    "Due January 29th midnight\n",
    "\n",
    "### Before You Start\n",
    "\n",
    "Make sure to at least take a basic tutorial in the IPython notebook,\n",
    "otherwise you'll be totally lost.  For this problem set, you should\n",
    "download flights.csv.bz2 and weather.csv.bz2 datasets from\n",
    "Canvas (files-data).   Rename the notebook to\n",
    "LASTNAME_FIRSTNAME-PS1.ipynb.\n",
    "\n",
    "When done, please submit\n",
    "1. the notebook itself\n",
    "2. the rendered html or pdf of it.\n",
    "\n",
    "It is all fine to discuss the problems and way how to solve these with\n",
    "your classmates and instructors.  However, the solutions must be your\n",
    "own.  Don't copy-paste each other solutions!"
   ]
  },
  {
   "cell_type": "markdown",
   "metadata": {
    "ein.tags": "worksheet-0",
    "slideshow": {
     "slide_type": "-"
    }
   },
   "source": [
    "## About the Problem Set: \n",
    "\n",
    "This problem set is rather similar to ones used for R, dplyr, and\n",
    "flights data.  Just we use python and pandas.\n",
    "\n",
    "Your task is to analyze the nycflights13 data (in the R package of the\n",
    "                                               same name).  The\n",
    "                                               necessary csv\n",
    "files are provided on canvas (in files/data).  An easy way to get the\n",
    "explanations is on the the [package page on R documentation](https://www.rdocumentation.org/packages/nycflights13/versions/1.0.0). \n",
    "\n",
    "In this problem set you will perform a basic exploratory analysis on\n",
    "an example dataset, bringing to bear all of your new skills in data\n",
    "manipulation and visualization. You will be required to submit well\n",
    "commented python code, documenting all code used in this problem set,\n",
    "along with a write up answering all questions below. Use figures as\n",
    "appropriate to support your answers, and when required by the problem.\n",
    "\n",
    "Always comment your results, preferably in a separate markdown cell.\n"
   ]
  },
  {
   "cell_type": "markdown",
   "metadata": {
    "ein.tags": "worksheet-0",
    "slideshow": {
     "slide_type": "-"
    }
   },
   "source": [
    "## Preliminaries\n",
    "\n",
    "You should also make sure the following libraries load correctly.\n",
    "Below are a few basic data description tasks already done for you. "
   ]
  },
  {
   "cell_type": "code",
   "execution_count": 18,
   "metadata": {
    "autoscroll": false,
    "ein.tags": "worksheet-0",
    "slideshow": {
     "slide_type": "-"
    }
   },
   "outputs": [
    {
     "name": "stdout",
     "output_type": "stream",
     "text": [
      "IPython version:       6.2.1 (need at least 1.0)\n",
      "Numpy version:        1.14.0 (need at least 1.7.1)\n",
      "SciPy version:         1.0.0 (need at least 0.12.0)\n",
      "Pandas version:       0.22.0 (need at least 0.11.0)\n",
      "Mapltolib version:     2.1.2 (need at least 1.2.1)\n",
      "Scikit-Learn version: 0.19.1 (need at least 0.13.1)\n"
     ]
    }
   ],
   "source": [
    "#IPython is what you are using now to run the notebook\n",
    "import IPython\n",
    "print( \"IPython version:      %6.6s (need at least 1.0)\" % IPython.__version__)\n",
    "\n",
    "# Numpy is a library for working with arrays and matrices\n",
    "import numpy as np\n",
    "print( \"Numpy version:        %6.6s (need at least 1.7.1)\" % np.__version__)\n",
    "\n",
    "# SciPy implements many different numerical algorithms\n",
    "import scipy as sp\n",
    "print( \"SciPy version:        %6.6s (need at least 0.12.0)\" % sp.__version__)\n",
    "\n",
    "# Pandas makes working with data tables easier\n",
    "import pandas as pd\n",
    "print( \"Pandas version:       %6.6s (need at least 0.11.0)\" % pd.__version__)\n",
    "\n",
    "# Module for plotting\n",
    "import matplotlib.pyplot as plt  \n",
    "from pylab import *\n",
    "print( \"Mapltolib version:    %6.6s (need at least 1.2.1)\" %\n",
    "       matplotlib.__version__)\n",
    "%matplotlib inline\n",
    "# necessary for in-line graphics\n",
    "\n",
    "# SciKit Learn implements several Machine Learning algorithms\n",
    "import sklearn\n",
    "print( \"Scikit-Learn version: %6.6s (need at least 0.13.1)\" %\n",
    "       sklearn.__version__)\n",
    "import os\n",
    "# for certain system-related functions"
   ]
  },
  {
   "cell_type": "code",
   "execution_count": 19,
   "metadata": {
    "autoscroll": false,
    "ein.tags": "worksheet-0",
    "slideshow": {
     "slide_type": "-"
    }
   },
   "outputs": [
    {
     "name": "stdout",
     "output_type": "stream",
     "text": [
      "/Users/Admin/Downloads\n"
     ]
    }
   ],
   "source": [
    "## Let's read the data and print some summary information\n",
    "## adjust the path for your file system!\n",
    "## you can find the path like this:\n",
    "path = os.getcwd()\n",
    "print(path)\n",
    "flights_df= pd.read_csv('/Users/Admin/Downloads/flights.csv.bz2')\n",
    "\n"
   ]
  },
  {
   "cell_type": "code",
   "execution_count": 20,
   "metadata": {
    "autoscroll": false,
    "ein.tags": "worksheet-0",
    "slideshow": {
     "slide_type": "-"
    }
   },
   "outputs": [
    {
     "name": "stdout",
     "output_type": "stream",
     "text": [
      "(336776, 17)\n",
      "Index(['Unnamed: 0', 'year', 'month', 'day', 'dep_time', 'dep_delay',\n",
      "       'arr_time', 'arr_delay', 'carrier', 'tailnum', 'flight', 'origin',\n",
      "       'dest', 'air_time', 'distance', 'hour', 'minute'],\n",
      "      dtype='object')\n",
      "Unnamed: 0      int64\n",
      "year            int64\n",
      "month           int64\n",
      "day             int64\n",
      "dep_time      float64\n",
      "dep_delay     float64\n",
      "arr_time      float64\n",
      "arr_delay     float64\n",
      "carrier        object\n",
      "tailnum        object\n",
      "flight          int64\n",
      "origin         object\n",
      "dest           object\n",
      "air_time      float64\n",
      "distance        int64\n",
      "hour          float64\n",
      "minute        float64\n",
      "dtype: object\n"
     ]
    }
   ],
   "source": [
    "## Extract some basic information about the data like number of rows,\n",
    "## columns, column names, data types\n",
    "\n",
    "print(flights_df.shape)\n",
    "print(flights_df.columns)\n",
    "print(flights_df.dtypes)"
   ]
  },
  {
   "cell_type": "code",
   "execution_count": 67,
   "metadata": {
    "autoscroll": false,
    "ein.tags": "worksheet-0",
    "slideshow": {
     "slide_type": "-"
    }
   },
   "outputs": [
    {
     "name": "stdout",
     "output_type": "stream",
     "text": [
      "head\n",
      "    Unnamed: 0  year  month  day  dep_time  dep_delay  arr_time  arr_delay  \\\n",
      "0           1  2013      1    1     517.0        2.0     830.0       11.0   \n",
      "1           2  2013      1    1     533.0        4.0     850.0       20.0   \n",
      "2           3  2013      1    1     542.0        2.0     923.0       33.0   \n",
      "3           4  2013      1    1     544.0       -1.0    1004.0      -18.0   \n",
      "4           5  2013      1    1     554.0       -6.0     812.0      -25.0   \n",
      "\n",
      "  carrier tailnum  flight origin dest  air_time  distance  hour  minute  \n",
      "0      UA  N14228    1545    EWR  IAH     227.0      1400   5.0    17.0  \n",
      "1      UA  N24211    1714    LGA  IAH     227.0      1416   5.0    33.0  \n",
      "2      AA  N619AA    1141    JFK  MIA     160.0      1089   5.0    42.0  \n",
      "3      B6  N804JB     725    JFK  BQN     183.0      1576   5.0    44.0  \n",
      "4      DL  N668DN     461    LGA  ATL     116.0       762   5.0    54.0  \n",
      "tail\n",
      "         Unnamed: 0  year  month  day  dep_time  dep_delay  arr_time  \\\n",
      "336771      336772  2013      9   30       NaN        NaN       NaN   \n",
      "336772      336773  2013      9   30       NaN        NaN       NaN   \n",
      "336773      336774  2013      9   30       NaN        NaN       NaN   \n",
      "336774      336775  2013      9   30       NaN        NaN       NaN   \n",
      "336775      336776  2013      9   30       NaN        NaN       NaN   \n",
      "\n",
      "        arr_delay carrier tailnum  flight origin dest  air_time  distance  \\\n",
      "336771        NaN      9E     NaN    3393    JFK  DCA       NaN       213   \n",
      "336772        NaN      9E     NaN    3525    LGA  SYR       NaN       198   \n",
      "336773        NaN      MQ  N535MQ    3461    LGA  BNA       NaN       764   \n",
      "336774        NaN      MQ  N511MQ    3572    LGA  CLE       NaN       419   \n",
      "336775        NaN      MQ  N839MQ    3531    LGA  RDU       NaN       431   \n",
      "\n",
      "        hour  minute  \n",
      "336771   NaN     NaN  \n",
      "336772   NaN     NaN  \n",
      "336773   NaN     NaN  \n",
      "336774   NaN     NaN  \n",
      "336775   NaN     NaN  \n",
      "destinations:\n",
      " ['IAH' 'MIA' 'BQN' 'ATL' 'ORD' 'FLL' 'IAD' 'MCO' 'PBI' 'TPA' 'LAX' 'SFO'\n",
      " 'DFW' 'BOS' 'LAS' 'MSP' 'DTW' 'RSW' 'SJU' 'PHX' 'BWI' 'CLT' 'BUF' 'DEN'\n",
      " 'SNA' 'MSY' 'SLC' 'XNA' 'MKE' 'SEA' 'ROC' 'SYR' 'SRQ' 'RDU' 'CMH' 'JAX'\n",
      " 'CHS' 'MEM' 'PIT' 'SAN' 'DCA' 'CLE' 'STL' 'MYR' 'JAC' 'MDW' 'HNL' 'BNA'\n",
      " 'AUS' 'BTV' 'PHL' 'STT' 'EGE' 'AVL' 'PWM' 'IND' 'SAV' 'CAK' 'HOU' 'LGB'\n",
      " 'DAY' 'ALB' 'BDL' 'MHT' 'MSN' 'GSO' 'CVG' 'BUR' 'RIC' 'GSP' 'GRR' 'MCI'\n",
      " 'ORF' 'SAT' 'SDF' 'PDX' 'SJC' 'OMA' 'CRW' 'OAK' 'SMF' 'TUL' 'TYS' 'OKC'\n",
      " 'PVD' 'DSM' 'PSE' 'BHM' 'CAE' 'HDN' 'BZN' 'MTJ' 'EYW' 'PSP' 'ACK' 'BGR'\n",
      " 'ABQ' 'ILM' 'MVY' 'SBN' 'LEX' 'CHO' 'TVC' 'ANC' 'LGA']\n"
     ]
    }
   ],
   "source": [
    "## print the first and last few lines of the data\n",
    "print(\"head\\n\", flights_df.head())\n",
    "print(\"tail\\n\", flights_df.tail())\n",
    "## Find the number of unique destinations in the data ('dest')\n",
    "print(\"destinations:\\n\", flights_df.dest.unique())\n"
   ]
  },
  {
   "cell_type": "markdown",
   "metadata": {
    "ein.tags": "worksheet-0",
    "slideshow": {
     "slide_type": "-"
    }
   },
   "source": [
    "## Some Tips\n",
    "\n",
    "* This assignment involves extensive Data frame splitting and\n",
    "  aggregation. You should look into the details of the methods\n",
    "  groupby, transform, sum, count, mean etc \n",
    "* Many of the tasks in the assignment can be done either through the\n",
    "  Pandas Data Frame or by converting the data frames to Series. Many\n",
    "  of the methods in the numpy are applicable to Series only. When\n",
    "  stuck, try to explore the type of object (Pandas Data Frame or Numpy\n",
    "  Series) you are dealing with. "
   ]
  },
  {
   "cell_type": "markdown",
   "metadata": {
    "ein.tags": "worksheet-0",
    "slideshow": {
     "slide_type": "-"
    }
   },
   "source": [
    "## Question 1\n",
    "\n",
    "Let’s explore flights from NYC to LA. Use the flights dataset to answer the following questions.\n",
    "\n",
    "### (a)\n",
    "\n",
    "How many flights were there from NYC airports to Los Angeles International Airport (LAX) in 2013?"
   ]
  },
  {
   "cell_type": "code",
   "execution_count": 21,
   "metadata": {
    "autoscroll": false,
    "ein.tags": "worksheet-0",
    "slideshow": {
     "slide_type": "-"
    }
   },
   "outputs": [
    {
     "name": "stdout",
     "output_type": "stream",
     "text": [
      "(16174, 17)\n",
      "    Unnamed: 0  year  month  day  dep_time  dep_delay  arr_time  arr_delay  \\\n",
      "12          13  2013      1    1     558.0       -2.0     924.0        7.0   \n",
      "37          38  2013      1    1     628.0       -2.0    1016.0       29.0   \n",
      "63          64  2013      1    1     658.0       -2.0    1027.0        2.0   \n",
      "69          70  2013      1    1     702.0        2.0    1058.0       44.0   \n",
      "91          92  2013      1    1     743.0       13.0    1107.0        7.0   \n",
      "\n",
      "   carrier tailnum  flight origin dest  air_time  distance  hour  minute  \n",
      "12      UA  N29129     194    JFK  LAX     345.0      2475   5.0    58.0  \n",
      "37      UA  N33289    1665    EWR  LAX     366.0      2454   6.0    28.0  \n",
      "63      VX  N627VA     399    JFK  LAX     361.0      2475   6.0    58.0  \n",
      "69      B6  N779JB     671    JFK  LAX     381.0      2475   7.0     2.0  \n",
      "91      AA  N338AA      33    JFK  LAX     358.0      2475   7.0    43.0  \n"
     ]
    }
   ],
   "source": [
    "# Your code here\n",
    "flights_df\n",
    "\n",
    "flights_nyc=flights_df[flights_df['dest']==\"LAX\"]\n",
    "print(flights_nyc.shape)\n",
    "print(flights_nyc.head())\n",
    "#print(flights_nyc.head())"
   ]
  },
  {
   "cell_type": "markdown",
   "metadata": {
    "ein.tags": "worksheet-0",
    "slideshow": {
     "slide_type": "-"
    }
   },
   "source": [
    "### (b)\n",
    "\n",
    "Which airline ('carrier') has the most flights from NYC to LAX? Which one has the least number of flights? Report the numbers respectively. "
   ]
  },
  {
   "cell_type": "code",
   "execution_count": 22,
   "metadata": {
    "autoscroll": false,
    "ein.tags": "worksheet-0",
    "slideshow": {
     "slide_type": "-"
    }
   },
   "outputs": [
    {
     "name": "stdout",
     "output_type": "stream",
     "text": [
      "['UA' 'VX' 'B6' 'AA' 'DL']\n",
      "(5823, 17)\n",
      "(2580, 17)\n",
      "(1688, 17)\n",
      "(3582, 17)\n",
      "(2501, 17)\n"
     ]
    }
   ],
   "source": [
    "# Your code here\n",
    "# Check number of flights for each airline\n",
    "print(flights_nyc.carrier.unique())\n",
    "print(flights_nyc[flights_nyc['carrier']==\"UA\"].shape)\n",
    "print(flights_nyc[flights_nyc['carrier']==\"VX\"].shape)\n",
    "print(flights_nyc[flights_nyc['carrier']==\"B6\"].shape)\n",
    "print(flights_nyc[flights_nyc['carrier']==\"AA\"].shape)\n",
    "print(flights_nyc[flights_nyc['carrier']==\"DL\"].shape)"
   ]
  },
  {
   "cell_type": "markdown",
   "metadata": {
    "ein.tags": "worksheet-0",
    "slideshow": {
     "slide_type": "-"
    }
   },
   "source": [
    "### (c)\n",
    "\n",
    "How many unique air planes fly from NYC to LAX?\n",
    "(Hint: use 'tailnum', essentially the license plate of airplane)"
   ]
  },
  {
   "cell_type": "code",
   "execution_count": 23,
   "metadata": {
    "autoscroll": false,
    "ein.tags": "worksheet-0",
    "slideshow": {
     "slide_type": "-"
    }
   },
   "outputs": [
    {
     "name": "stdout",
     "output_type": "stream",
     "text": [
      "(992,)\n"
     ]
    }
   ],
   "source": [
    "# Your code here\n",
    "print(flights_nyc.tailnum.unique().shape)\n",
    "\n",
    "\n"
   ]
  },
  {
   "cell_type": "markdown",
   "metadata": {
    "ein.tags": "worksheet-0",
    "slideshow": {
     "slide_type": "-"
    }
   },
   "source": [
    "### (d)\n",
    "\n",
    "What is the average arrival delay for flights from NYC to LAX?"
   ]
  },
  {
   "cell_type": "code",
   "execution_count": 24,
   "metadata": {
    "autoscroll": false,
    "ein.tags": "worksheet-0",
    "slideshow": {
     "slide_type": "-"
    }
   },
   "outputs": [
    {
     "data": {
      "text/plain": [
       "0.5471109447148383"
      ]
     },
     "execution_count": 24,
     "metadata": {},
     "output_type": "execute_result"
    }
   ],
   "source": [
    "# Your code here\n",
    "flights_nyc.columns\n",
    "flights_nyc['arr_delay'].mean()"
   ]
  },
  {
   "cell_type": "markdown",
   "metadata": {
    "ein.tags": "worksheet-0",
    "slideshow": {
     "slide_type": "-"
    }
   },
   "source": [
    "### (e)\n",
    "\n",
    "What proportion of flights to LAX come from each NYC airport?"
   ]
  },
  {
   "cell_type": "code",
   "execution_count": 25,
   "metadata": {
    "autoscroll": false,
    "ein.tags": "worksheet-0",
    "slideshow": {
     "slide_type": "-"
    }
   },
   "outputs": [
    {
     "data": {
      "text/plain": [
       "273096"
      ]
     },
     "execution_count": 25,
     "metadata": {},
     "output_type": "execute_result"
    }
   ],
   "source": [
    "# Your code here\n",
    "#flights_nyc_jfk=flights_nyc[flights_nyc['origin']==\"JFK\"]\n",
    "#JFK_val=flights_nyc_jfk['origin'].value_counts()\n",
    "count_nonzero(flights_nyc)\n",
    "\n"
   ]
  },
  {
   "cell_type": "markdown",
   "metadata": {
    "ein.tags": "worksheet-0",
    "slideshow": {
     "slide_type": "-"
    }
   },
   "source": [
    "## Question 2\n",
    "\n",
    "Now let's explore the entire NYC flight dataset. Flights are often delayed. Consider the following questions exploring delay patterns.\n",
    "\n",
    "### (a)\n",
    "\n",
    "Which date has the largest average departure delay? Which date has the largest average arrival delay?"
   ]
  },
  {
   "cell_type": "code",
   "execution_count": 26,
   "metadata": {
    "autoscroll": false,
    "ein.tags": "worksheet-0",
    "slideshow": {
     "slide_type": "-"
    }
   },
   "outputs": [
    {
     "name": "stdout",
     "output_type": "stream",
     "text": [
      "          Unnamed: 0    year  month  day     dep_time  dep_delay     arr_time  \\\n",
      "date                                                                            \n",
      "2013-3-8    143267.0  2013.0    3.0  8.0  1416.659574  83.536921  1503.931078   \n",
      "\n",
      "          arr_delay       flight    air_time     distance       hour  \\\n",
      "date                                                                   \n",
      "2013-3-8  85.862155  2013.537283  153.746867  1002.540347  13.867334   \n",
      "\n",
      "             minute  \n",
      "date                 \n",
      "2013-3-8  29.926158  \n",
      "----\n",
      "          Unnamed: 0    year  month  day     dep_time  dep_delay     arr_time  \\\n",
      "date                                                                            \n",
      "2013-3-8    143267.0  2013.0    3.0  8.0  1416.659574  83.536921  1503.931078   \n",
      "\n",
      "          arr_delay       flight    air_time     distance       hour  \\\n",
      "date                                                                   \n",
      "2013-3-8  85.862155  2013.537283  153.746867  1002.540347  13.867334   \n",
      "\n",
      "             minute  \n",
      "date                 \n",
      "2013-3-8  29.926158  \n"
     ]
    }
   ],
   "source": [
    "# Your code here\n",
    "\n",
    "#computing largest average deaprture delay and arrival delay\n",
    "import pandas as pd\n",
    "flights_df.head()\n",
    "flights_df.tail()\n",
    "flights_df.columns\n",
    "flights_df['date']=flights_df['year'].astype(str)+\"-\"+flights_df['month'].astype(str)+\"-\"+flights_df['day'].astype(str)\n",
    "\n",
    "avg=pd.DataFrame(flights_df.groupby('date').mean())\n",
    "#print(avg)\n",
    "\n",
    "print(avg.sort_values(['dep_delay'], ascending =False).head(1))\n",
    "print(\"----\")\n",
    "print(avg.sort_values(['arr_delay'],ascending=False).head(1))\n",
    "#flights_df.describe()"
   ]
  },
  {
   "cell_type": "markdown",
   "metadata": {
    "ein.tags": "worksheet-0",
    "slideshow": {
     "slide_type": "-"
    }
   },
   "source": [
    "### (b)\n",
    "\n",
    "What was the worst day and the best day to fly out of NYC in 2013\n",
    "if you dislike delayed flights?\n",
    "\n",
    "Note: we ask the largest delay given there was a (positive) delay, we\n",
    "don't care about flights that were in time or early."
   ]
  },
  {
   "cell_type": "code",
   "execution_count": 27,
   "metadata": {
    "autoscroll": false,
    "ein.tags": "worksheet-0",
    "scrolled": true,
    "slideshow": {
     "slide_type": "-"
    }
   },
   "outputs": [
    {
     "name": "stdout",
     "output_type": "stream",
     "text": [
      "The worst day to fly out of NYC was\n",
      "date\n",
      "2013-3-8    83.536921\n",
      "Name: dep_delay, dtype: float64\n",
      "The best day to fly out of NYC was\n",
      "date\n",
      "2013-9-24   -1.329832\n",
      "Name: dep_delay, dtype: float64\n"
     ]
    }
   ],
   "source": [
    "# Your code her\n",
    "\n",
    "\n",
    "print(\"The worst day to fly out of NYC was\" )\n",
    "\n",
    "worst_day=avg.sort_values(['dep_delay'], ascending=False)['dep_delay'].head(1)\n",
    "print(worst_day)\n",
    "\n",
    "print(\"The best day to fly out of NYC was\")\n",
    "\n",
    "best_day=avg.sort_values(['dep_delay'], ascending=True)['dep_delay'].head(1)\n",
    "print(best_day)"
   ]
  },
  {
   "cell_type": "code",
   "execution_count": null,
   "metadata": {},
   "outputs": [],
   "source": []
  },
  {
   "cell_type": "markdown",
   "metadata": {
    "ein.tags": "worksheet-0",
    "slideshow": {
     "slide_type": "-"
    }
   },
   "source": [
    "### (c)\n",
    "\n",
    "On average which airline has the lowest departure delay for\n",
    "   their NYC flights in 2013 in this dataset? and which one has the\n",
    "   greatest departure delay?\n",
    "\n",
    "Note: here we want to include both positive and negative delays (early departures)   "
   ]
  },
  {
   "cell_type": "code",
   "execution_count": 28,
   "metadata": {
    "autoscroll": false,
    "ein.tags": "worksheet-0",
    "slideshow": {
     "slide_type": "-"
    }
   },
   "outputs": [
    {
     "name": "stdout",
     "output_type": "stream",
     "text": [
      "carrier\n",
      "US    3.782418\n",
      "Name: dep_delay, dtype: float64\n",
      "carrier\n",
      "F9    20.215543\n",
      "Name: dep_delay, dtype: float64\n"
     ]
    }
   ],
   "source": [
    "# Your code here\n",
    "flights_df.columns\n",
    "\n",
    "avg_carrier=pd.DataFrame(flights_df.groupby('carrier').mean())\n",
    "avg_low=avg_carrier.sort_values(['dep_delay'], ascending=True)['dep_delay'].head(1)\n",
    "#lowest departure\n",
    "print(avg_low)\n",
    "\n",
    "#highest departure\n",
    "avg_high=avg_carrier.sort_values(['dep_delay'], ascending=False)['dep_delay'].head(1)\n",
    "print(avg_high)"
   ]
  },
  {
   "cell_type": "markdown",
   "metadata": {
    "ein.tags": "worksheet-0",
    "slideshow": {
     "slide_type": "-"
    }
   },
   "source": [
    "### (d)\n",
    "\n",
    "Are there any seasonal patterns in departure delays for flights from NYC?"
   ]
  },
  {
   "cell_type": "code",
   "execution_count": 29,
   "metadata": {
    "autoscroll": false,
    "ein.tags": "worksheet-0",
    "slideshow": {
     "slide_type": "-"
    }
   },
   "outputs": [
    {
     "data": {
      "image/png": "[encoded data removed]",
      "text/plain": [
       "<matplotlib.figure.Figure at 0x1101db780>"
      ]
     },
     "metadata": {},
     "output_type": "display_data"
    },
    {
     "data": {
      "text/plain": [
       "[]"
      ]
     },
     "execution_count": 29,
     "metadata": {},
     "output_type": "execute_result"
    },
    {
     "data": {
      "image/png": "[encoded data removed]",
      "text/plain": [
       "<matplotlib.figure.Figure at 0x1514892c18>"
      ]
     },
     "metadata": {},
     "output_type": "display_data"
    }
   ],
   "source": [
    "# Your code here\n",
    "\n",
    "matplotlib.style.use(\"ggplot\")\n",
    "plt.plot(flights_df.groupby(\"month\")['dep_delay'].mean())\n",
    "plt.xlabel(\"Months\", size=12)\n",
    "plt.ylabel(\"Average Monthly departure delay\")\n",
    "plt.title(\"Seasonal Pattern\")\n",
    "plt.show()\n",
    "\n",
    "plt.plot()"
   ]
  },
  {
   "cell_type": "markdown",
   "metadata": {
    "ein.tags": "worksheet-0",
    "slideshow": {
     "slide_type": "-"
    }
   },
   "source": [
    "### (e)\n",
    "\n",
    "On average, how do departure delays vary over the course of a day?"
   ]
  },
  {
   "cell_type": "code",
   "execution_count": 30,
   "metadata": {
    "autoscroll": false,
    "ein.tags": "worksheet-0",
    "slideshow": {
     "slide_type": "-"
    }
   },
   "outputs": [
    {
     "data": {
      "image/png": "[encoded data removed]",
      "text/plain": [
       "<matplotlib.figure.Figure at 0x10d0a99b0>"
      ]
     },
     "metadata": {},
     "output_type": "display_data"
    }
   ],
   "source": [
    "# Your code here\n",
    "flights_df.columns\n",
    "avg_byday=flights_df.groupby('day').mean()\n",
    "\n",
    "matplotlib.style.use('ggplot')\n",
    "plt.plot(flights_df.groupby('day')['dep_delay'].mean())\n",
    "plt.xlabel(\"Days\", size=31)\n",
    "plt.ylabel(\"departure_delay\")\n",
    "plt.show()"
   ]
  },
  {
   "cell_type": "markdown",
   "metadata": {
    "ein.tags": "worksheet-0",
    "slideshow": {
     "slide_type": "-"
    }
   },
   "source": [
    "## Question 3\n",
    "\n",
    "Which flight departing NYC in 2013 flew the fastest?\n",
    "\n",
    "Note: compute the speed as distance/time."
   ]
  },
  {
   "cell_type": "code",
   "execution_count": 31,
   "metadata": {
    "autoscroll": false,
    "ein.tags": "worksheet-0",
    "slideshow": {
     "slide_type": "-"
    }
   },
   "outputs": [
    {
     "name": "stdout",
     "output_type": "stream",
     "text": [
      "        year  month  day  dep_time  dep_delay  arr_time  arr_delay carrier  \\\n",
      "216447  2013      5   25    1709.0        9.0    1923.0      -14.0      DL   \n",
      "\n",
      "       tailnum  flight origin dest  air_time  distance  hour  minute  \\\n",
      "216447  N666DN    1499    LGA  ATL      65.0       762  17.0     9.0   \n",
      "\n",
      "             date       speed  \n",
      "216447  2013-5-25  703.384615  \n"
     ]
    }
   ],
   "source": [
    "# Your code here\n",
    "flights_df.head()\n",
    "flights_df.columns\n",
    "flights_df[\"speed\"]=flights_df.distance/(flights_df.air_time/60)\n",
    "x=['year', 'month', 'day', 'dep_time', 'dep_delay',\n",
    "       'arr_time', 'arr_delay', 'carrier', 'tailnum', 'flight', 'origin',\n",
    "       'dest', 'air_time', 'distance', 'hour', 'minute', 'date', 'speed']\n",
    "fastest_flight=flights_df.sort_values(['speed'], ascending=False)[x].head(1)\n",
    "print(fastest_flight)"
   ]
  },
  {
   "cell_type": "markdown",
   "metadata": {
    "ein.tags": "worksheet-0",
    "slideshow": {
     "slide_type": "-"
    }
   },
   "source": [
    "## Question 4\n",
    "\n",
    "Which flights (i.e. carrier + flight + dest) happen every day? Where do they fly to?"
   ]
  },
  {
   "cell_type": "code",
   "execution_count": 34,
   "metadata": {
    "autoscroll": false,
    "ein.tags": "worksheet-0",
    "slideshow": {
     "slide_type": "-"
    }
   },
   "outputs": [
    {
     "data": {
      "text/plain": [
       "['UA-15-HNL',\n",
       " 'B6-371-FLL',\n",
       " 'AA-181-LAX',\n",
       " 'B6-219-CLT',\n",
       " 'AA-119-LAX',\n",
       " 'B6-703-SJU',\n",
       " 'DL-2391-TPA',\n",
       " 'AA-1357-SJU',\n",
       " 'EV-5712-IAD',\n",
       " 'VX-251-LAS',\n",
       " 'AA-1611-MIA',\n",
       " 'VX-413-LAX',\n",
       " 'DL-2159-MCO',\n",
       " 'B6-431-SRQ',\n",
       " 'VX-407-LAX',\n",
       " 'AA-59-SFO',\n",
       " 'B6-1783-MCO',\n",
       " 'B6-359-BUR']"
      ]
     },
     "execution_count": 34,
     "metadata": {},
     "output_type": "execute_result"
    }
   ],
   "source": [
    "# Your code here\n",
    "flights_df.head()\n",
    "flights_df['flight_detail']=flights_df['carrier'].astype(str)+'-'+ flights_df['flight'].astype(str)+'-'+flights_df['dest'].astype(str)\n",
    "\n",
    "flights_df.head()\n",
    "\n",
    "date_count=pd.DataFrame(flights_df['date'].unique())\n",
    "\n",
    "\n",
    "date_count.rename(columns={0:'dates'}, inplace =True)\n",
    "date_count.head()\n",
    "flights_group=flights_df.groupby(['flight_detail', 'date']).count()\n",
    "flights_group.reset_index(level=0, inplace=True)\n",
    "flights_group.reset_index(level=0, inplace=True)\n",
    "\n",
    "flights_group.rename(columns={'Unnamed: 0':'count'}, inplace=True)\n",
    "\n",
    "flights_group=flights_group.groupby('flight_detail').count().sort_values('count', ascending=False)\n",
    "\n",
    "\n",
    "flights_group.reset_index(level=0, inplace=True)\n",
    "flights_group=flights_group[flights_group['count']==365]['flight_detail']\n",
    "#flights_group.columns.unique\n",
    "flight_list=[]\n",
    "for eachflight in flights_group:\n",
    "    flight_list.append(eachflight)\n",
    "flight_list    \n",
    "\n"
   ]
  },
  {
   "cell_type": "markdown",
   "metadata": {
    "ein.tags": "worksheet-0",
    "slideshow": {
     "slide_type": "-"
    }
   },
   "source": [
    "## Question 5\n",
    "\n",
    "Develop one research question you can address using the nycflights2013\n",
    "dataset. Provide two visualizations to support your exploration of\n",
    "this question. Discuss what you find. \n",
    "\n",
    "Note: we'll using matplotlib for plotting in this course, but you can use something else too."
   ]
  },
  {
   "cell_type": "code",
   "execution_count": null,
   "metadata": {
    "autoscroll": false,
    "ein.tags": "worksheet-0",
    "slideshow": {
     "slide_type": "-"
    }
   },
   "outputs": [],
   "source": [
    "# Your code here\n",
    "The research question being studied is:\n",
    "Is the arrival delay time affected by travel time in the air and the distance travelled by the flight?"
   ]
  },
  {
   "cell_type": "code",
   "execution_count": 53,
   "metadata": {},
   "outputs": [
    {
     "data": {
      "text/plain": [
       "<matplotlib.collections.PathCollection at 0x10dcce5c0>"
      ]
     },
     "execution_count": 53,
     "metadata": {},
     "output_type": "execute_result"
    },
    {
     "data": {
      "image/png": "[encoded data removed]",
      "text/plain": [
       "<matplotlib.figure.Figure at 0x10cf1f518>"
      ]
     },
     "metadata": {},
     "output_type": "display_data"
    }
   ],
   "source": [
    "import statsmodels.api as sm\n",
    "%matplotlib inline\n",
    "\n",
    "distance_delay = flights_df.groupby('distance', as_index = False)['arr_delay'].mean()\n",
    "\n",
    "x_axis = distance_delay.distance\n",
    "y_axis = distance_delay.arr_delay\n",
    "plt.xlabel(\"Distance Travelled by the flight\")\n",
    "plt.ylabel(\"Average Arrival Delay\")\n",
    "plt.scatter(x, y, alpha=0.8)"
   ]
  },
  {
   "cell_type": "code",
   "execution_count": 55,
   "metadata": {},
   "outputs": [
    {
     "data": {
      "text/plain": [
       "<matplotlib.collections.PathCollection at 0x10dbc3d30>"
      ]
     },
     "execution_count": 55,
     "metadata": {},
     "output_type": "execute_result"
    },
    {
     "data": {
      "image/png": "[encoded data removed]",
      "text/plain": [
       "<matplotlib.figure.Figure at 0x10cabc3c8>"
      ]
     },
     "metadata": {},
     "output_type": "display_data"
    }
   ],
   "source": [
    "distance_delay = flights_df.groupby('air_time', as_index = False)['arr_delay'].mean()\n",
    "\n",
    "x_axis = distance_delay.air_time\n",
    "y_axis = distance_delay.arr_delay\n",
    "plt.xlabel(\"Air Time\")\n",
    "plt.ylabel(\"Average Arrival Delay\")\n",
    "plt.scatter(x, y, alpha=0.6)"
   ]
  },
  {
   "cell_type": "markdown",
   "metadata": {
    "ein.tags": "worksheet-0",
    "slideshow": {
     "slide_type": "-"
    }
   },
   "source": [
    "## Question 6\n",
    "\n",
    "What weather conditions are associated with flight delays leaving NYC?  Use graphics to explore.\n",
    "\n",
    "Note: you need to use 'weather.csv' dataset"
   ]
  },
  {
   "cell_type": "code",
   "execution_count": 46,
   "metadata": {
    "autoscroll": false,
    "ein.tags": "worksheet-0",
    "slideshow": {
     "slide_type": "-"
    }
   },
   "outputs": [
    {
     "name": "stdout",
     "output_type": "stream",
     "text": [
      "        year  month  day  dep_delay  hour   temp   dewp  humid  wind_dir  \\\n",
      "0       2013      1    1        2.0   5.0    NaN    NaN    NaN       NaN   \n",
      "1       2013      1    1        4.0   5.0    NaN    NaN    NaN       NaN   \n",
      "2       2013      1    1        2.0   5.0    NaN    NaN    NaN       NaN   \n",
      "3       2013      1    1       -1.0   5.0    NaN    NaN    NaN       NaN   \n",
      "4       2013      1    1       -6.0   5.0    NaN    NaN    NaN       NaN   \n",
      "5       2013      1    1       -4.0   5.0    NaN    NaN    NaN       NaN   \n",
      "6       2013      1    1       -5.0   5.0    NaN    NaN    NaN       NaN   \n",
      "7       2013      1    1       -3.0   5.0    NaN    NaN    NaN       NaN   \n",
      "8       2013      1    1       -3.0   5.0    NaN    NaN    NaN       NaN   \n",
      "9       2013      1    1       -2.0   5.0    NaN    NaN    NaN       NaN   \n",
      "10      2013      1    1       -2.0   5.0    NaN    NaN    NaN       NaN   \n",
      "11      2013      1    1       -2.0   5.0    NaN    NaN    NaN       NaN   \n",
      "12      2013      1    1       -2.0   5.0    NaN    NaN    NaN       NaN   \n",
      "13      2013      1    1       -2.0   5.0    NaN    NaN    NaN       NaN   \n",
      "14      2013      1    1       -1.0   5.0    NaN    NaN    NaN       NaN   \n",
      "15      2013      1    1        0.0   5.0    NaN    NaN    NaN       NaN   \n",
      "16      2013      1    1       -1.0   5.0    NaN    NaN    NaN       NaN   \n",
      "17      2013      1    1        0.0   6.0    NaN    NaN    NaN       NaN   \n",
      "18      2013      1    1        0.0   6.0    NaN    NaN    NaN       NaN   \n",
      "19      2013      1    1        1.0   6.0  39.02  26.06  59.37     270.0   \n",
      "20      2013      1    1       -8.0   6.0    NaN    NaN    NaN       NaN   \n",
      "21      2013      1    1       -3.0   6.0    NaN    NaN    NaN       NaN   \n",
      "22      2013      1    1       -4.0   6.0  39.02  26.06  59.37     270.0   \n",
      "23      2013      1    1       -4.0   6.0    NaN    NaN    NaN       NaN   \n",
      "24      2013      1    1        0.0   6.0  39.02  26.06  59.37     270.0   \n",
      "25      2013      1    1        8.0   6.0  39.02  26.06  59.37     270.0   \n",
      "26      2013      1    1       11.0   6.0    NaN    NaN    NaN       NaN   \n",
      "27      2013      1    1        3.0   6.0    NaN    NaN    NaN       NaN   \n",
      "28      2013      1    1        0.0   6.0    NaN    NaN    NaN       NaN   \n",
      "29      2013      1    1        0.0   6.0  39.02  26.06  59.37     270.0   \n",
      "...      ...    ...  ...        ...   ...    ...    ...    ...       ...   \n",
      "336746  2013      9   30       -2.0  21.0    NaN    NaN    NaN       NaN   \n",
      "336747  2013      9   30       -2.0  21.0  69.98  53.06  54.94     170.0   \n",
      "336748  2013      9   30       -2.0  21.0    NaN    NaN    NaN       NaN   \n",
      "336749  2013      9   30       30.0  21.0    NaN    NaN    NaN       NaN   \n",
      "336750  2013      9   30       -9.0  21.0    NaN    NaN    NaN       NaN   \n",
      "336751  2013      9   30        0.0  21.0    NaN    NaN    NaN       NaN   \n",
      "336752  2013      9   30       13.0  21.0  69.98  53.06  54.94     170.0   \n",
      "336753  2013      9   30        0.0  21.0    NaN    NaN    NaN       NaN   \n",
      "336754  2013      9   30       10.0  21.0    NaN    NaN    NaN       NaN   \n",
      "336755  2013      9   30       -7.0  21.0  69.98  53.06  54.94     170.0   \n",
      "336756  2013      9   30       -9.0  21.0  69.98  53.06  54.94     170.0   \n",
      "336757  2013      9   30      194.0  21.0    NaN    NaN    NaN       NaN   \n",
      "336758  2013      9   30       -2.0  22.0    NaN    NaN    NaN       NaN   \n",
      "336759  2013      9   30       27.0  22.0    NaN    NaN    NaN       NaN   \n",
      "336760  2013      9   30       72.0  22.0  68.00  53.06  58.80     150.0   \n",
      "336761  2013      9   30      -14.0  22.0    NaN    NaN    NaN       NaN   \n",
      "336762  2013      9   30       80.0  22.0  68.00  53.06  58.80     150.0   \n",
      "336763  2013      9   30      154.0  22.0    NaN    NaN    NaN       NaN   \n",
      "336764  2013      9   30       -8.0  22.0    NaN    NaN    NaN       NaN   \n",
      "336765  2013      9   30       -5.0  22.0    NaN    NaN    NaN       NaN   \n",
      "336766  2013      9   30      -10.0  22.0    NaN    NaN    NaN       NaN   \n",
      "336767  2013      9   30       -5.0  22.0    NaN    NaN    NaN       NaN   \n",
      "336768  2013      9   30       12.0  23.0    NaN    NaN    NaN       NaN   \n",
      "336769  2013      9   30      -10.0  23.0    NaN    NaN    NaN       NaN   \n",
      "336770  2013      9   30        NaN   NaN    NaN    NaN    NaN       NaN   \n",
      "336771  2013      9   30        NaN   NaN    NaN    NaN    NaN       NaN   \n",
      "336772  2013      9   30        NaN   NaN    NaN    NaN    NaN       NaN   \n",
      "336773  2013      9   30        NaN   NaN    NaN    NaN    NaN       NaN   \n",
      "336774  2013      9   30        NaN   NaN    NaN    NaN    NaN       NaN   \n",
      "336775  2013      9   30        NaN   NaN    NaN    NaN    NaN       NaN   \n",
      "\n",
      "        wind_speed  wind_gust  precip  visib  \n",
      "0              NaN        NaN     NaN    NaN  \n",
      "1              NaN        NaN     NaN    NaN  \n",
      "2              NaN        NaN     NaN    NaN  \n",
      "3              NaN        NaN     NaN    NaN  \n",
      "4              NaN        NaN     NaN    NaN  \n",
      "5              NaN        NaN     NaN    NaN  \n",
      "6              NaN        NaN     NaN    NaN  \n",
      "7              NaN        NaN     NaN    NaN  \n",
      "8              NaN        NaN     NaN    NaN  \n",
      "9              NaN        NaN     NaN    NaN  \n",
      "10             NaN        NaN     NaN    NaN  \n",
      "11             NaN        NaN     NaN    NaN  \n",
      "12             NaN        NaN     NaN    NaN  \n",
      "13             NaN        NaN     NaN    NaN  \n",
      "14             NaN        NaN     NaN    NaN  \n",
      "15             NaN        NaN     NaN    NaN  \n",
      "16             NaN        NaN     NaN    NaN  \n",
      "17             NaN        NaN     NaN    NaN  \n",
      "18             NaN        NaN     NaN    NaN  \n",
      "19        10.35702  11.918651     0.0   10.0  \n",
      "20             NaN        NaN     NaN    NaN  \n",
      "21             NaN        NaN     NaN    NaN  \n",
      "22        10.35702  11.918651     0.0   10.0  \n",
      "23             NaN        NaN     NaN    NaN  \n",
      "24        10.35702  11.918651     0.0   10.0  \n",
      "25        10.35702  11.918651     0.0   10.0  \n",
      "26             NaN        NaN     NaN    NaN  \n",
      "27             NaN        NaN     NaN    NaN  \n",
      "28             NaN        NaN     NaN    NaN  \n",
      "29        10.35702  11.918651     0.0   10.0  \n",
      "...            ...        ...     ...    ...  \n",
      "336746         NaN        NaN     NaN    NaN  \n",
      "336747     5.75390   6.621473     0.0   10.0  \n",
      "336748         NaN        NaN     NaN    NaN  \n",
      "336749         NaN        NaN     NaN    NaN  \n",
      "336750         NaN        NaN     NaN    NaN  \n",
      "336751         NaN        NaN     NaN    NaN  \n",
      "336752     5.75390   6.621473     0.0   10.0  \n",
      "336753         NaN        NaN     NaN    NaN  \n",
      "336754         NaN        NaN     NaN    NaN  \n",
      "336755     5.75390   6.621473     0.0   10.0  \n",
      "336756     5.75390   6.621473     0.0   10.0  \n",
      "336757         NaN        NaN     NaN    NaN  \n",
      "336758         NaN        NaN     NaN    NaN  \n",
      "336759         NaN        NaN     NaN    NaN  \n",
      "336760     5.75390   6.621473     0.0   10.0  \n",
      "336761         NaN        NaN     NaN    NaN  \n",
      "336762     5.75390   6.621473     0.0   10.0  \n",
      "336763         NaN        NaN     NaN    NaN  \n",
      "336764         NaN        NaN     NaN    NaN  \n",
      "336765         NaN        NaN     NaN    NaN  \n",
      "336766         NaN        NaN     NaN    NaN  \n",
      "336767         NaN        NaN     NaN    NaN  \n",
      "336768         NaN        NaN     NaN    NaN  \n",
      "336769         NaN        NaN     NaN    NaN  \n",
      "336770         NaN        NaN     NaN    NaN  \n",
      "336771         NaN        NaN     NaN    NaN  \n",
      "336772         NaN        NaN     NaN    NaN  \n",
      "336773         NaN        NaN     NaN    NaN  \n",
      "336774         NaN        NaN     NaN    NaN  \n",
      "336775         NaN        NaN     NaN    NaN  \n",
      "\n",
      "[336776 rows x 13 columns]\n"
     ]
    }
   ],
   "source": [
    "# Your code here\n",
    "weather_df=pd.read_csv(\"weather.csv.bz2\")\n",
    "\n",
    "\n",
    "weather_conditions = pd.merge(flights_df[['year','month','day','dep_delay','hour']], weather_df[['temp','dewp','humid','wind_dir','wind_speed','wind_gust','precip','visib']],  how='left', left_on=[flights_df.origin,flights_df.month, flights_df.day,flights_df.hour], right_on=[weather_df.origin,weather_df.month, weather_df.day,weather_df.hour])\n",
    "print(weather_conditions)"
   ]
  },
  {
   "cell_type": "code",
   "execution_count": 47,
   "metadata": {},
   "outputs": [
    {
     "data": {
      "image/png": "[encoded data removed]",
      "text/plain": [
       "<matplotlib.figure.Figure at 0x10dcce588>"
      ]
     },
     "metadata": {},
     "output_type": "display_data"
    }
   ],
   "source": [
    "visib_effect = weather_conditions.groupby(['visib'])['dep_delay'].mean()\n",
    "plt.plot(visib_effect)\n",
    "plt.xlabel(\"visib\")\n",
    "plt.ylabel(\"Average Departure Delay\")\n",
    "plt.title('visibility effect vs Average Departure Delay')\n",
    "plt.show()\n"
   ]
  },
  {
   "cell_type": "code",
   "execution_count": 49,
   "metadata": {},
   "outputs": [
    {
     "data": {
      "image/png": "[encoded data removed]",
      "text/plain": [
       "<matplotlib.figure.Figure at 0x10cb0b860>"
      ]
     },
     "metadata": {},
     "output_type": "display_data"
    }
   ],
   "source": [
    "wind_effect=weather_conditions.groupby(['wind_speed'])['dep_delay'].mean()\n",
    "plt.plot(wind_effect)\n",
    "plt.xlabel(\"wind_speed\")\n",
    "plt.ylabel(\"Avergae Departure Delay\")\n",
    "plt.title(\"Wind effect vs Average Departure Delay\")\n",
    "plt.show()"
   ]
  },
  {
   "cell_type": "code",
   "execution_count": null,
   "metadata": {},
   "outputs": [],
   "source": [
    "As visibility inceases average departure delay decreases. As Wind speed increases, the departure delay decreases."
   ]
  }
 ],
 "metadata": {
  "kernelspec": {
   "display_name": "Python 3",
   "language": "python",
   "name": "python3"
  },
  "language_info": {
   "codemirror_mode": {
    "name": "ipython",
    "version": 3
   },
   "file_extension": ".py",
   "mimetype": "text/x-python",
   "name": "python",
   "nbconvert_exporter": "python",
   "pygments_lexer": "ipython3",
   "version": "3.6.4"
  },
  "name": "ps01-pandas.ipynb"
 },
 "nbformat": 4,
 "nbformat_minor": 2
}
