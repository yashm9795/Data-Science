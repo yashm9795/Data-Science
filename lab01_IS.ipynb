{
 "cells": [
  {
   "cell_type": "code",
   "execution_count": 2,
   "metadata": {
    "autoscroll": false,
    "ein.tags": "worksheet-0",
    "slideshow": {
     "slide_type": "-"
    }
   },
   "outputs": [],
   "source": [
    "import numpy as np\n",
    "import matplotlib.pyplot as plt\n",
    "%matplotlib inline"
   ]
  },
  {
   "cell_type": "markdown",
   "metadata": {
    "ein.tags": "worksheet-0",
    "slideshow": {
     "slide_type": "-"
    }
   },
   "source": [
    "## 1 Analyze variance:\n",
    "* create a sample of random normal variables\n",
    "* compute the mean and the variance of the sample\n",
    "* find what percentage of the sample falls in [mean - 1.96*sd, mean + 1.96*sd]\n",
    "* plot the related histogram"
   ]
  },
  {
   "cell_type": "code",
   "execution_count": null,
   "metadata": {
    "autoscroll": false,
    "ein.tags": "worksheet-0",
    "slideshow": {
     "slide_type": "-"
    }
   },
   "outputs": [],
   "source": [
    "# 1.1 Pick a suitable sample size n (like 1000)"
   ]
  },
  {
   "cell_type": "code",
   "execution_count": 20,
   "metadata": {
    "autoscroll": false,
    "ein.tags": "worksheet-0",
    "slideshow": {
     "slide_type": "-"
    }
   },
   "outputs": [],
   "source": [
    "# Your code here\n",
    "A=np.random.normal(size=1000)\n",
    "variance=np.var(A)\n",
    "\n",
    "mean=np.mean(A)\n",
    "stnd_dev=np.std(A)"
   ]
  },
  {
   "cell_type": "code",
   "execution_count": null,
   "metadata": {
    "autoscroll": false,
    "ein.tags": "worksheet-0",
    "slideshow": {
     "slide_type": "-"
    }
   },
   "outputs": [],
   "source": [
    "# 1.2 Create a sample of size n of normal random variables.\n",
    "# Use np.random.normal() function here\n",
    "# to read function documentation, you can simply run the code below\n",
    "# ?np.random.normal()\n",
    "# what is the shape of your resulting array?"
   ]
  },
  {
   "cell_type": "code",
   "execution_count": 29,
   "metadata": {
    "autoscroll": false,
    "ein.tags": "worksheet-0",
    "slideshow": {
     "slide_type": "-"
    }
   },
   "outputs": [
    {
     "name": "stdout",
     "output_type": "stream",
     "text": [
      "(1000,)\n"
     ]
    }
   ],
   "source": [
    "# Your code here\n",
    "Tup=np.random.normal(size=1000)\n",
    "Tup\n",
    "print(Tup.shape)\n"
   ]
  },
  {
   "cell_type": "code",
   "execution_count": null,
   "metadata": {
    "autoscroll": false,
    "ein.tags": "worksheet-0",
    "slideshow": {
     "slide_type": "-"
    }
   },
   "outputs": [],
   "source": [
    "# 1.3 compute and print the mean of the sample (use .mean() function)"
   ]
  },
  {
   "cell_type": "code",
   "execution_count": 30,
   "metadata": {
    "autoscroll": false,
    "ein.tags": "worksheet-0",
    "slideshow": {
     "slide_type": "-"
    }
   },
   "outputs": [
    {
     "name": "stdout",
     "output_type": "stream",
     "text": [
      "0.022663355406509184\n"
     ]
    }
   ],
   "source": [
    "# Your code here\n",
    "print(Tup.mean())"
   ]
  },
  {
   "cell_type": "code",
   "execution_count": null,
   "metadata": {
    "autoscroll": false,
    "ein.tags": "worksheet-0",
    "slideshow": {
     "slide_type": "-"
    }
   },
   "outputs": [],
   "source": [
    "# 1.4 Compute variance in three ways:\n",
    "# a) E(X - EX)^2\n",
    "# b) E(X^2) - (EX)^2\n",
    "# c) np.var function\n",
    "# Note: you have to replace the expectations with the mean\n",
    "# also note the difference between the formula (a) and (b)\n",
    "# compare the results"
   ]
  },
  {
   "cell_type": "code",
   "execution_count": 37,
   "metadata": {
    "autoscroll": false,
    "ein.tags": "worksheet-0",
    "slideshow": {
     "slide_type": "-"
    }
   },
   "outputs": [
    {
     "name": "stdout",
     "output_type": "stream",
     "text": [
      "1.0286206936797526\n",
      "1.0286206936797526\n",
      "1.0286206936797526\n"
     ]
    }
   ],
   "source": [
    "# Your code here\n",
    "print(np.mean((Tup-np.mean(Tup))**2))\n",
    "print(np.var(Tup))\n",
    "\n",
    "Temp=Tup**2\n",
    "print(np.mean(Temp)- np.mean(Tup)**2)"
   ]
  },
  {
   "cell_type": "code",
   "execution_count": null,
   "metadata": {
    "autoscroll": false,
    "ein.tags": "worksheet-0",
    "slideshow": {
     "slide_type": "-"
    }
   },
   "outputs": [],
   "source": [
    "# 1.5 Compute the standard deviance of your sample\n",
    "# Recall the formula for computing std out of variance -- SD is the square root of the variance"
   ]
  },
  {
   "cell_type": "code",
   "execution_count": 40,
   "metadata": {
    "autoscroll": false,
    "ein.tags": "worksheet-0",
    "slideshow": {
     "slide_type": "-"
    }
   },
   "outputs": [
    {
     "name": "stdout",
     "output_type": "stream",
     "text": [
      "1.0142093934093455\n",
      "1.0142093934093455\n"
     ]
    }
   ],
   "source": [
    "# Your code here\n",
    "print(np.sqrt(np.mean(Temp)- np.mean(Tup)**2))\n",
    "print(np.std(Tup))"
   ]
  },
  {
   "cell_type": "code",
   "execution_count": null,
   "metadata": {
    "autoscroll": false,
    "ein.tags": "worksheet-0",
    "slideshow": {
     "slide_type": "-"
    }
   },
   "outputs": [],
   "source": [
    "# 1.6 how large pct of your sample falls in the interval [mean - 1.96*sd, mean + 1.96*sd]\n",
    "# Note:\n",
    "# a) calculate the interval using the formula above\n",
    "# b) you need to check if each data point falls in the interval - that is compare data point with interval element wise;\n",
    "#   np.logical_and() which computes the truth value of x1 AND x2 element-wise may help you!\n",
    "#   Again, if you are unsure about how to use this function, use ?np.logical_and() to access function documentation\n",
    "# c) finally, you need to calculate the percentage. Before you get into this, think what the results from the previous step look like.\n",
    "#   one more hint for you: np.mean can easily handle logical variables (True taken to be 1, False as 0)\n",
    "# How large a figure do you expect based on theory?"
   ]
  },
  {
   "cell_type": "code",
   "execution_count": 46,
   "metadata": {
    "autoscroll": false,
    "ein.tags": "worksheet-0",
    "slideshow": {
     "slide_type": "-"
    }
   },
   "outputs": [
    {
     "data": {
      "text/plain": [
       "0.945"
      ]
     },
     "execution_count": 46,
     "metadata": {},
     "output_type": "execute_result"
    }
   ],
   "source": [
    "# Your code here\n",
    "Tup>( np.mean(Tup)-1.96*np.std(Tup))\n",
    "Log=np.logical_and(Tup>( np.mean(Tup)-1.96*np.std(Tup)),Tup<( np.mean(Tup)+1.96*np.std(Tup)))\n",
    "np.mean(Log)"
   ]
  },
  {
   "cell_type": "code",
   "execution_count": null,
   "metadata": {
    "autoscroll": false,
    "ein.tags": "worksheet-0",
    "slideshow": {
     "slide_type": "-"
    }
   },
   "outputs": [],
   "source": [
    "# 1.7 plot the histogram of your sample\n",
    "# mark the mean, mean - 1.96*sd, and mean + 1.96*sd on the histogram with vertical lines\n",
    "# you may build on the code below:\n",
    "# to draw a histogram:\n",
    "# cnt = plt.hist(x, color='green')\n",
    "# to draw a vertical line:\n",
    "# plt.axvline(m, color='red', linestyle='--')"
   ]
  },
  {
   "cell_type": "code",
   "execution_count": 56,
   "metadata": {
    "autoscroll": false,
    "ein.tags": "worksheet-0",
    "slideshow": {
     "slide_type": "-"
    }
   },
   "outputs": [
    {
     "data": {
      "text/plain": [
       "<matplotlib.lines.Line2D at 0x118e17908>"
      ]
     },
     "execution_count": 56,
     "metadata": {},
     "output_type": "execute_result"
    },
    {
     "data": {
      "image/png": "[encoded data removed]",
      "text/plain": [
       "<matplotlib.figure.Figure at 0x11569cc18>"
      ]
     },
     "metadata": {},
     "output_type": "display_data"
    }
   ],
   "source": [
    "# Your code here\n",
    "cnt=plt.hist(Tup, color='green')\n",
    "plt.axvline(np.mean(Tup) ,color='red', linestyle='--')\n",
    "plt.axvline(np.mean(Tup)-1.96*np.std(Tup) ,color='red', linestyle='--')\n",
    "plt.axvline(np.mean(Tup)+1.96*np.std(Tup) ,color='red', linestyle='--')\n"
   ]
  },
  {
   "cell_type": "markdown",
   "metadata": {
    "ein.tags": "worksheet-0",
    "slideshow": {
     "slide_type": "-"
    }
   },
   "source": [
    "## 2 Distribution functions\n",
    "* create a sample of pareto-distributed random variables\n",
    "* plot histogram of your sample\n",
    "* compute and plot the density function using narrow intervals\n",
    "* compute and plot the cumulative distribution function "
   ]
  },
  {
   "cell_type": "code",
   "execution_count": 57,
   "metadata": {
    "autoscroll": false,
    "ein.tags": "worksheet-0",
    "slideshow": {
     "slide_type": "-"
    }
   },
   "outputs": [
    {
     "data": {
      "text/plain": [
       "array([ 2.86456427e-01,  1.43048832e+00, -1.35230124e+00,  1.88737662e-01,\n",
       "       -8.63345958e-01,  4.64573606e-01, -2.53838928e-04, -9.67116491e-01,\n",
       "       -8.65168921e-01, -6.78751975e-01, -9.07010311e-01,  2.59560518e-01,\n",
       "       -6.69412485e-01,  1.38140579e+00,  1.35625991e+00,  4.15306403e-01,\n",
       "        1.08498886e+00,  9.76865435e-03,  9.90183612e-01, -2.97327920e-01,\n",
       "       -9.13989315e-01,  5.81474611e-01, -1.50978014e+00, -3.68888462e-01,\n",
       "       -5.05521560e-01, -1.74830113e-02, -4.63117435e-01,  1.61586833e+00,\n",
       "       -4.78632322e-01, -1.13669091e+00,  1.02076159e+00,  3.19650261e-01,\n",
       "       -3.83869822e-01, -1.51530125e+00, -1.26560287e+00,  6.54706604e-02,\n",
       "        1.00021792e+00, -1.49891454e+00, -8.50016612e-02, -1.08896810e+00,\n",
       "        1.50731500e+00, -5.82084072e-02, -9.14379358e-01, -7.92156148e-01,\n",
       "       -2.21467670e-01,  1.20744685e+00,  3.67087494e-01, -2.35646256e-01,\n",
       "        2.02330752e-02, -1.59567780e+00, -1.56208492e+00,  1.02876622e+00,\n",
       "       -3.52415177e-01,  4.30476743e-02,  4.89849908e-02, -1.53607878e-01,\n",
       "        9.51734215e-02,  1.82977154e+00,  1.21827724e+00, -7.32301024e-01,\n",
       "        1.34072538e+00, -7.45174001e-01, -3.77816384e-01,  9.43607469e-01,\n",
       "        8.00543717e-03,  1.12833312e+00,  1.01921810e+00, -2.05836372e+00,\n",
       "       -6.07275061e-01,  1.52801887e+00, -2.70131939e-01, -1.81987412e+00,\n",
       "       -3.60187873e-01,  1.48792335e-01,  2.46841006e+00,  1.14842875e+00,\n",
       "       -3.02982486e+00, -6.04336947e-01, -4.96387200e-01, -4.74455402e-01,\n",
       "       -8.75249524e-01,  1.15019215e-01,  4.96740339e-01, -7.11313762e-01,\n",
       "       -5.67667295e-02, -5.00984479e-01, -4.81622637e-01,  1.75465049e+00,\n",
       "        9.94229867e-01, -1.89999534e-01,  2.27728499e-01, -1.22553343e+00,\n",
       "        1.42687060e-01, -7.43892318e-01, -1.00060625e+00,  1.39049356e+00,\n",
       "       -5.67477667e-02,  2.84709051e+00,  2.67396653e-02, -1.10215074e+00,\n",
       "       -1.29742874e-01, -2.79688639e-01,  3.14122832e-01,  3.35161117e-01,\n",
       "       -1.43385626e+00,  7.85369075e-01, -8.07096911e-01,  5.28463926e-01,\n",
       "        6.08675106e-01, -1.46097335e+00,  1.30240659e+00,  6.74736803e-01,\n",
       "        2.28579387e+00, -1.71271590e-01, -1.54345704e+00,  2.00173792e-01,\n",
       "       -1.03737507e+00,  8.35802488e-01,  4.56106708e-01, -7.49540320e-01,\n",
       "       -8.28986020e-02, -1.01153618e+00,  1.27251655e-01, -3.97631773e-01,\n",
       "       -5.73993656e-02, -1.16606023e+00,  1.27887820e-01,  6.52282666e-01,\n",
       "       -3.24309947e-01,  1.95146051e+00, -9.67818542e-02,  8.86943686e-01,\n",
       "        9.45498009e-01,  4.95203088e-01,  3.36120977e-01,  8.04957701e-01,\n",
       "        1.46877722e+00, -8.31237520e-02,  4.51606195e-01, -3.64798376e-01,\n",
       "       -3.75229255e-01,  1.07821883e-01, -7.62363707e-01,  1.66448227e+00,\n",
       "        5.81529291e-01,  9.70320087e-01,  1.71270236e+00,  2.29000994e-01,\n",
       "       -1.03266119e+00, -1.42272482e-01,  8.42806116e-02,  4.30574399e-01,\n",
       "       -1.14476384e+00, -5.47961677e-01,  8.56823913e-01, -3.91143591e-01,\n",
       "       -5.73678641e-01, -1.03125448e+00,  7.60172609e-01,  8.46342044e-02,\n",
       "        4.01900691e-01, -5.07931759e-01, -1.71429968e+00, -4.61994900e-01,\n",
       "       -1.16505052e+00, -5.78854283e-01,  1.81158335e+00, -6.77408766e-02,\n",
       "       -1.24731328e+00, -7.07880036e-01,  1.43582860e+00, -1.58344940e-01,\n",
       "        1.48429152e+00,  7.09733768e-01,  4.99619302e-01,  3.64509752e-01,\n",
       "       -4.82525964e-01, -1.94704627e+00,  1.13013505e-01,  8.24278327e-02,\n",
       "       -2.90526948e-01, -1.32561408e-01, -1.80093852e+00, -6.06347013e-02,\n",
       "        3.86000664e+00, -9.94782664e-01, -1.62544452e+00, -5.43883097e-01,\n",
       "        1.05446777e+00, -9.25206876e-01,  3.74773698e-01, -1.54210635e-01,\n",
       "       -1.98136893e+00,  2.94455756e-01,  1.15530001e+00,  6.64232426e-01,\n",
       "        6.95747990e-01,  6.54985401e-02,  3.98330962e-01, -5.65565573e-01,\n",
       "       -2.21772581e+00,  4.63883381e-02,  7.94329286e-01,  1.44000938e+00,\n",
       "       -5.19085528e-01,  3.58169366e-01, -3.33129977e-01, -2.03155780e-01,\n",
       "        9.55514671e-01,  1.25821563e+00, -1.59420819e+00,  8.52343384e-01,\n",
       "       -4.36843809e-01,  2.26732648e-01, -4.48754065e-01, -3.18828983e-01,\n",
       "        7.09043411e-01, -6.39910207e-01,  1.69319828e-01, -6.57936293e-01,\n",
       "       -5.05999148e-01,  6.08092799e-01,  8.13002245e-01,  9.18367989e-01,\n",
       "       -1.30527877e-01,  8.67008922e-02, -6.64661658e-02,  6.22646605e-01,\n",
       "       -6.17175569e-02, -4.19166559e-01, -2.09393762e+00, -1.73406437e-01,\n",
       "        2.90154039e-01, -5.42933035e-01,  1.04136478e+00,  2.18153403e+00,\n",
       "        1.52756270e+00, -1.35207418e-01, -4.22239211e-01, -9.10520293e-01,\n",
       "       -1.91933403e+00,  4.72573190e-01, -4.66456280e-01,  7.80653296e-01,\n",
       "        1.60767090e+00,  6.01311282e-01, -5.74944833e-01, -2.60725597e+00,\n",
       "       -4.44591122e-01, -2.45695856e-01, -7.14140057e-01,  7.89807611e-01,\n",
       "        6.97066234e-01,  1.62453080e-01,  3.82247285e-01,  1.07889187e+00,\n",
       "       -1.55657323e-01,  2.01890559e+00, -1.09110220e+00, -5.29206346e-01,\n",
       "       -1.29749445e+00, -9.40147359e-01,  2.61554285e-01, -1.51691751e+00,\n",
       "       -4.65257173e-01,  4.40468803e-01, -1.96407871e+00,  5.59371469e-01,\n",
       "       -8.94266346e-01, -6.25009488e-01,  6.49863012e-01,  1.89101600e+00,\n",
       "       -5.47115869e-01,  1.76867305e+00, -2.57658222e+00, -1.21961362e-01,\n",
       "       -6.79942025e-01, -1.78799641e+00, -2.76603948e-01,  1.24222492e+00,\n",
       "        8.66947928e-01,  5.02379377e-01, -1.73595864e+00, -1.95580506e-01,\n",
       "       -6.52550671e-01,  8.05034027e-02, -7.40375580e-01,  1.15041064e-02,\n",
       "       -8.81451598e-01,  2.23845324e-01, -1.93421038e+00, -1.14429281e-01,\n",
       "       -8.89349809e-01,  5.91939741e-01,  6.91840835e-01,  1.59940890e-01,\n",
       "        1.34062505e+00,  1.32097171e+00,  2.13605584e+00, -1.03512331e+00,\n",
       "       -1.29765120e+00,  1.14179581e+00, -1.49477220e+00,  1.00053863e+00,\n",
       "        2.07391376e+00,  5.36191276e-01, -3.10642538e-01, -2.24464856e+00,\n",
       "       -8.35346704e-01,  1.28488881e+00, -4.36443163e-01,  3.85610052e-01,\n",
       "       -1.07687410e+00,  8.24802826e-01,  4.24874284e-01,  1.48530807e+00,\n",
       "        9.21526760e-01,  9.47091393e-01,  1.73668102e-01, -5.78848861e-01,\n",
       "       -5.18290940e-01,  1.43538898e+00,  2.63040873e-01,  4.71920155e-01,\n",
       "        7.17104873e-01,  6.48202255e-01,  1.33549016e+00,  5.37401906e-01,\n",
       "        7.81023205e-01, -4.39134929e-03,  3.87492809e-01, -7.68931366e-01,\n",
       "        4.32305206e-01, -1.55579292e+00,  6.07621700e-01, -1.05369374e+00,\n",
       "        1.69063337e-01, -4.10812464e-01,  1.34081258e+00, -1.17929071e+00,\n",
       "       -8.74430319e-01, -5.75753312e-01,  1.03396755e+00, -2.62356858e-01,\n",
       "       -1.03458930e+00, -9.96716670e-02,  1.03626924e+00, -1.93183562e-01,\n",
       "        1.18504469e-01,  1.05376526e+00, -4.35480963e-01,  1.74053748e-01,\n",
       "        1.10203275e+00,  8.60862945e-01,  1.83623817e+00, -4.18089886e-01,\n",
       "       -1.26944176e-01, -1.10727886e+00, -1.19904534e+00, -4.20635587e-01,\n",
       "       -1.32867067e-01,  1.81109166e+00, -4.03534878e-01, -2.07771555e+00,\n",
       "       -1.51683009e+00, -8.33333515e-01,  9.38372064e-02, -3.67470222e-01,\n",
       "       -2.10782947e+00,  4.78784970e-01,  1.67066957e-01,  2.26156525e-01,\n",
       "        4.30165939e-01, -8.01047403e-01, -4.80877315e-01, -5.57174707e-01,\n",
       "       -1.55086067e+00, -1.55244529e+00,  3.42025071e-01, -8.90645590e-01,\n",
       "       -2.70807859e-01, -3.46271660e-01, -3.80121939e-01, -1.95214566e+00,\n",
       "        7.90564807e-01, -2.22978964e+00,  4.88959491e-01, -3.94460202e-01,\n",
       "        1.19548383e+00,  1.27012368e+00,  2.35360186e+00, -2.09152220e+00,\n",
       "        6.16445547e-01, -1.31692142e+00, -1.57405808e-01,  9.67341314e-01,\n",
       "       -8.51093383e-01,  9.05927648e-01,  2.93311697e-01, -2.09678518e+00,\n",
       "        3.76831255e-01,  7.17448154e-01, -2.10070272e+00, -1.51079795e+00,\n",
       "        7.45561231e-01, -6.91157205e-01, -2.14909510e-01,  1.10860371e+00,\n",
       "        6.46720274e-01,  4.39146222e-01, -6.26931329e-01,  7.31165586e-02,\n",
       "        1.57579049e-01,  1.82704928e+00,  9.03120264e-01,  2.32857560e+00,\n",
       "       -8.97189547e-01, -1.13860654e-01,  7.19029480e-01, -3.49619840e-02,\n",
       "        3.40786379e-01, -2.99312956e-01,  2.02247808e+00, -1.31258025e+00,\n",
       "       -1.18776048e+00,  1.09597846e+00, -1.23761038e+00,  1.01251398e+00,\n",
       "        2.10037266e-01,  1.69421332e+00,  2.54586673e+00, -4.21495425e-01,\n",
       "        1.70938289e+00, -5.26094435e-01, -3.30862900e-01, -8.10479706e-01,\n",
       "        6.74914715e-01,  7.07529361e-02,  5.80834074e-01, -9.49229137e-02,\n",
       "       -3.75045423e-01, -7.55792094e-01, -3.51202013e-01,  2.07271794e-01,\n",
       "       -2.99236210e-01,  5.11498933e-01,  8.55478108e-01, -6.58211430e-01,\n",
       "       -6.68965679e-01,  3.87367609e-01,  1.11172126e+00,  3.93070234e-01,\n",
       "       -4.08263362e-01,  2.74367240e-01, -1.51558983e+00, -1.00373809e-01,\n",
       "       -6.62671617e-01, -4.08528258e-01, -5.77922033e-01,  2.63141643e-01,\n",
       "       -5.10162885e-02,  9.25189422e-01,  1.32229018e+00, -1.75235383e+00,\n",
       "       -9.11708358e-01, -1.36202181e+00, -2.78584242e-01, -4.73023411e-01,\n",
       "        1.87292088e+00,  7.12937901e-01, -8.43503712e-01, -1.04067647e+00,\n",
       "       -2.05863096e+00,  1.27865475e+00,  9.85243384e-01,  1.23517967e+00,\n",
       "        6.72402799e-01, -1.96207406e+00,  1.07202307e-01, -2.53776176e-02,\n",
       "       -4.44867844e-01, -2.41699317e-01, -4.59526006e-01, -5.19407837e-01,\n",
       "       -4.48049866e-02,  1.28299518e+00, -4.98793693e-01,  1.48030941e+00,\n",
       "        5.62662024e-01,  2.81301266e-01, -5.15215196e-01, -2.08861527e+00,\n",
       "        4.33231972e-01, -5.92048828e-02, -9.45919291e-01,  6.93020826e-01,\n",
       "       -3.75304887e-02, -4.89804835e-01, -4.48601120e-01,  1.16776661e+00,\n",
       "        7.19385335e-01, -2.72282710e-01, -1.96385545e-01, -7.82283377e-01,\n",
       "       -1.12910455e+00,  9.58087826e-01, -9.26180326e-01,  4.95682930e-02,\n",
       "        9.65720290e-01, -2.30002285e-02, -4.91347774e-01,  2.22373548e-01,\n",
       "        7.38987514e-01,  1.55326143e-01,  3.81634486e-01, -1.40987039e+00,\n",
       "       -1.33975585e+00,  2.13924726e-01,  1.49929233e+00,  7.66791287e-01,\n",
       "        2.55681818e+00, -1.10853375e+00, -3.10340881e-01, -3.76822330e-03,\n",
       "        1.93749525e-01, -7.10425725e-01, -1.25395679e+00, -5.14382649e-01,\n",
       "       -1.91758593e-01, -1.66260534e-01, -5.27545411e-01,  8.41165355e-03,\n",
       "        3.90900999e-01,  7.95274903e-02,  7.82906728e-01, -1.21676018e+00,\n",
       "       -1.55330758e-01,  6.85614641e-01, -1.96663582e+00,  7.58235141e-01,\n",
       "       -1.74806179e+00, -1.08246690e+00, -1.23505135e+00,  2.31962398e-01,\n",
       "        1.38407591e+00,  3.57272829e-01,  2.56973285e-01, -6.04815910e-01,\n",
       "        1.70983492e+00, -1.16694757e+00,  1.67681675e-02,  6.00039240e-01,\n",
       "       -1.30936902e+00, -2.51282252e-01,  2.04506730e+00,  3.30849544e-01,\n",
       "        5.60701540e-01, -8.88711706e-01,  4.00494878e-02, -1.52600521e+00,\n",
       "       -8.81770842e-01, -1.73459485e-02, -9.91415756e-01, -1.30763492e+00,\n",
       "       -7.70626493e-01,  1.30216127e+00, -4.25685288e-01, -1.68474236e+00,\n",
       "       -5.06598455e-01,  8.17598957e-01,  1.28479866e+00, -1.51010109e+00,\n",
       "       -2.88310525e-01, -2.07629691e+00,  2.37852794e-01, -1.53229410e+00,\n",
       "       -2.27753940e+00,  1.63370756e+00, -6.00921293e-01, -2.19265179e+00,\n",
       "       -1.48885042e+00, -6.97978432e-01, -4.85180697e-01, -3.37273055e-01,\n",
       "       -1.07541704e+00, -1.24193523e+00, -3.40441264e-01,  2.16164154e-01,\n",
       "        4.59148982e-01,  3.58537300e-01, -5.62667454e-01,  4.37654130e-02,\n",
       "        1.84817798e+00, -3.37465238e-01,  1.70483712e-01,  1.55488939e-01,\n",
       "        1.82609001e+00,  4.68222512e-01,  8.41231742e-01,  1.06722116e+00,\n",
       "       -1.45215638e+00, -4.56584243e-02, -1.08506465e+00, -4.26009157e-02,\n",
       "        3.87343993e-01,  1.28821956e+00,  6.17786139e-01, -1.06112076e-03,\n",
       "       -7.04391542e-02, -2.28202716e+00, -4.82626700e-01,  8.83428874e-01,\n",
       "       -2.01498214e+00,  2.46195646e-01,  2.06908901e-01, -7.71555523e-01,\n",
       "        5.36616039e-01,  2.21905237e-01, -2.31610064e-01,  1.32805556e-01,\n",
       "       -1.12996088e+00,  4.38212593e-01, -5.75975773e-02, -1.84122406e+00,\n",
       "        1.03755096e+00, -3.61640739e-01,  1.40289396e+00, -3.89329082e-01,\n",
       "        1.40249112e+00,  1.99558464e-02, -7.55037997e-01,  9.02022674e-01,\n",
       "       -6.24959243e-01,  4.35119218e-01,  4.66939579e-01, -3.40449594e-01,\n",
       "        2.24620797e-01, -7.16453320e-02, -8.15332296e-01,  9.41350928e-01,\n",
       "        7.31470557e-01,  1.10347223e+00, -1.44762019e+00, -8.25037478e-01,\n",
       "       -1.21344511e+00,  8.81854402e-01,  2.05312824e-01,  1.16563257e+00,\n",
       "       -8.84148996e-01, -3.70767998e-01, -7.95238943e-02,  2.81804459e-01,\n",
       "        1.69089117e+00, -5.74084015e-01, -7.74284881e-01,  1.13820294e+00,\n",
       "       -4.02763888e-01, -4.59793836e-01, -2.12911190e+00, -3.46169033e-01,\n",
       "       -1.73015076e+00,  9.14790105e-02, -1.02827401e+00, -1.55428229e+00,\n",
       "       -2.13638109e-01, -3.47440586e-01,  2.58868263e-01, -2.30478884e-01,\n",
       "        1.54166639e+00,  6.62032090e-01, -2.79000675e-01, -1.32123908e+00,\n",
       "        2.54619242e-01, -2.64202707e-01,  5.71316005e-01,  5.91013066e-01,\n",
       "       -1.02567326e+00, -7.02731538e-01,  1.67012539e+00, -9.21209058e-01,\n",
       "        2.97290276e-01,  1.38323378e+00, -6.63681801e-01,  5.36312132e-01,\n",
       "        1.18088208e+00, -5.47800324e-01,  1.76911422e-01, -1.21954560e+00,\n",
       "       -1.69923950e+00,  2.80571305e-01, -6.80774466e-01, -2.08456101e-01,\n",
       "        2.37943612e-01, -3.30660859e-01, -6.64125248e-01, -1.24649995e-01,\n",
       "        2.26804990e-01,  9.79467399e-01,  1.06590300e+00, -1.47108513e+00,\n",
       "        1.07101340e+00,  8.23603587e-01,  4.87729677e-01, -7.99300677e-02,\n",
       "       -6.11156623e-01,  5.43411658e-01,  1.27772522e+00, -1.63294134e+00,\n",
       "       -1.41115377e+00,  6.94849635e-01, -1.13906945e+00, -9.39688048e-01,\n",
       "       -5.49270738e-01, -9.43871943e-02, -2.57200730e-01, -2.99821354e-01,\n",
       "        4.42603141e-01,  2.93540951e-02,  1.19584672e+00,  7.16814149e-01,\n",
       "       -3.14209460e-01, -9.30413131e-01,  5.07438688e-02,  3.67677299e-01,\n",
       "       -2.38976717e+00,  1.29036313e+00, -4.25339169e-01, -3.19532526e-02,\n",
       "       -1.65165456e-01, -3.02451850e-02,  6.74543668e-01,  9.18752531e-02,\n",
       "       -3.67934949e-01, -2.00976686e+00, -1.96657647e+00,  1.03482983e-01,\n",
       "        1.68515607e-01, -6.15937572e-01,  2.77910031e-01, -9.90726332e-01,\n",
       "        2.18123865e-02,  1.35722350e+00,  4.98877768e-01,  9.69126501e-02,\n",
       "        6.37725100e-01, -2.38397118e-02,  3.19087159e-01,  3.59406285e-01,\n",
       "        6.77097164e-01,  1.09239392e+00,  4.17559791e-02, -2.67867352e-03,\n",
       "        2.12421612e-01, -2.28382719e+00,  7.86369139e-01,  4.86703258e-01,\n",
       "        5.45543668e-01,  8.22159629e-01, -7.17702686e-01,  9.66478878e-01,\n",
       "       -7.22171857e-01, -6.97850232e-01, -1.50634917e+00,  9.38321846e-01,\n",
       "        1.50682143e+00,  1.72806976e+00,  1.28656903e+00,  9.86681612e-01,\n",
       "       -4.96464294e-01, -1.25525738e-01,  5.09608346e-02, -9.78947767e-01,\n",
       "       -1.30707422e+00, -1.59040929e+00, -2.59953644e-01, -9.41045986e-01,\n",
       "       -1.13349107e+00,  1.09747004e+00,  1.93223669e-01, -1.04019128e+00,\n",
       "       -1.56143779e+00, -1.47896886e+00,  9.27024456e-01, -6.31010207e-01,\n",
       "       -1.60846375e+00,  2.21316160e-01,  1.77383314e-01,  2.08981917e+00,\n",
       "        8.03003025e-01, -1.68660730e+00,  1.19188880e+00,  2.89021181e-01,\n",
       "       -6.89443526e-01,  3.06262278e-01,  1.25222051e+00,  2.30905101e-01,\n",
       "        9.36560315e-01, -5.69712350e-01,  2.16687631e-02,  1.69664742e-01,\n",
       "        2.44596078e-01, -8.41884152e-01,  1.16126792e+00, -2.44048892e+00,\n",
       "       -8.93883316e-01,  1.66475102e+00,  2.28702897e-01,  1.01547981e+00,\n",
       "        8.41277045e-01, -5.03704223e-01, -2.65151431e-02,  7.56962794e-01,\n",
       "        1.01313145e+00,  4.70510191e-02,  5.84793528e-01,  8.53091620e-01,\n",
       "       -2.41711594e+00,  4.29841539e-01,  2.32934306e-01, -3.77040730e-01,\n",
       "        4.31456457e-01,  2.04351831e-01,  9.65187747e-01, -2.83837457e-01,\n",
       "       -1.00946242e+00,  7.85529489e-01,  1.70023960e+00,  1.06941616e+00,\n",
       "        2.47738693e+00,  4.64578854e-01, -3.53213172e-01, -1.36130173e+00,\n",
       "       -4.76542056e-01,  8.10180917e-02,  2.39123401e-01, -1.63351250e+00,\n",
       "        8.05967185e-03,  4.71220040e-01, -1.02835189e+00, -1.25735498e-01,\n",
       "        1.02749827e+00,  8.90924536e-01, -2.03236114e+00, -8.94973953e-01,\n",
       "        8.96768225e-01,  7.66136425e-01,  3.12115681e-01, -6.42198054e-02,\n",
       "        1.62745875e+00,  1.00575213e+00,  5.53701518e-02,  1.70668810e+00,\n",
       "        6.24395413e-01,  7.48011625e-01, -4.03537613e-01,  8.04966809e-01,\n",
       "        2.14538840e-01, -6.58759337e-01,  4.30893159e-01,  4.88451016e-01,\n",
       "       -1.44804497e+00,  2.08749259e+00, -7.07071467e-01, -5.13702901e-01,\n",
       "        5.46094287e-01,  1.08158540e-01,  3.61786824e-01,  8.06773813e-01,\n",
       "        1.00829293e-01, -2.56860730e+00, -1.42457023e-01, -2.13367397e-01,\n",
       "       -2.08826723e+00,  4.77715269e-01, -6.70992254e-01,  1.67648023e-01,\n",
       "        2.05686700e+00, -2.07371246e-02,  2.03610545e-01,  3.52755196e-01,\n",
       "        6.04494249e-01, -1.17250146e+00,  1.34340069e+00,  1.20859223e+00,\n",
       "        1.98373220e-01, -8.30050528e-01, -4.43800053e-01,  1.20020475e+00,\n",
       "        1.08089184e+00,  9.93487077e-02,  1.00388598e+00, -3.05255783e-01,\n",
       "        1.18487202e+00, -9.17561532e-02,  9.64687281e-01, -7.72475623e-01,\n",
       "       -1.08206801e-01, -2.38572277e-01, -1.70011123e+00,  7.38914032e-01,\n",
       "        7.83565008e-01, -8.23715915e-01, -4.33412693e-01, -4.10131956e-01,\n",
       "        3.05754884e-01,  9.27208179e-01, -1.36541490e+00,  4.54537922e-01,\n",
       "       -1.30379975e+00, -1.02158221e+00,  2.81307776e+00, -1.87785173e+00,\n",
       "       -1.09716144e+00,  7.98434304e-01, -7.28424380e-01, -2.64886706e-01,\n",
       "        7.85795510e-02,  6.77454622e-01,  8.64552527e-01, -1.56868442e+00,\n",
       "       -1.96217193e+00, -8.39335746e-01,  1.39633971e+00, -1.37357094e-01,\n",
       "       -1.06008572e-01, -6.54717673e-01,  6.36685330e-01,  1.40509596e-01,\n",
       "        2.96709180e-01,  5.92988920e-01,  1.49051336e+00,  9.50069301e-01,\n",
       "       -8.82147839e-01,  5.34756438e-01, -7.18504850e-02, -1.74228078e+00,\n",
       "        1.17935826e+00, -2.08660892e-01, -1.04087745e+00, -5.50848798e-01,\n",
       "       -1.10203123e+00, -1.64466583e+00,  7.19633260e-01, -2.40256083e+00,\n",
       "        1.72805070e+00, -6.21339482e-01,  1.40652232e-01,  8.77798333e-01,\n",
       "       -1.59468186e+00, -1.17111785e+00,  3.28486826e-01,  9.89509338e-01,\n",
       "       -1.14941562e+00, -5.09680000e-01,  5.58441275e-02,  6.99718765e-01,\n",
       "        5.00607983e-01, -4.54504620e-01, -8.89696362e-01,  1.05139669e+00,\n",
       "        5.06721026e-01, -1.00217339e+00,  3.11319839e-01,  5.69834450e-01,\n",
       "       -3.08148361e-01,  1.23370114e+00,  4.56301643e-01,  4.36846237e-01,\n",
       "       -2.12832150e+00, -5.85788368e-01,  3.69680219e-02,  4.59779625e-01,\n",
       "        4.64714956e-01,  3.76283586e-01, -9.99989877e-01,  1.03516398e+00,\n",
       "        2.02064762e+00, -1.96161210e+00, -8.51702137e-01, -9.57738189e-02,\n",
       "        7.57414329e-02,  1.07900060e-01,  6.34279592e-01,  1.46651771e+00,\n",
       "       -9.16997627e-01,  5.34772314e-02,  2.84494274e-02,  9.57728285e-01,\n",
       "        6.19847802e-02, -1.90947501e+00, -3.58983353e-01, -8.50562631e-01,\n",
       "       -2.06855444e-02,  1.12153058e+00,  9.83651011e-01, -8.53054499e-01,\n",
       "        1.10064682e+00, -1.82835321e-02,  1.06332295e+00,  1.54810578e+00])"
      ]
     },
     "execution_count": 57,
     "metadata": {},
     "output_type": "execute_result"
    }
   ],
   "source": [
    "## 2.1 Pick your sample size n (like 1000)\n",
    "\n",
    "# Your code here\n",
    "np.random.normal(size=1000)"
   ]
  },
  {
   "cell_type": "code",
   "execution_count": null,
   "metadata": {
    "autoscroll": false,
    "ein.tags": "worksheet-0",
    "slideshow": {
     "slide_type": "-"
    }
   },
   "outputs": [],
   "source": [
    "## 2.2 Pareto distribution describes unequally distributed values, such as\n",
    "## personal income, influence of scholars, size of cities, radius of Moon craters...\n",
    "## It has a parameter 'a' (a > 0) that describes the degree of inequality\n",
    "## (smaller a - more inequal distribution)\n",
    "## \n",
    "## usage:\n",
    "## np.random.pareto(a, size)\n",
    "## \n",
    "## pick you a value (like 1)"
   ]
  },
  {
   "cell_type": "code",
   "execution_count": 60,
   "metadata": {
    "autoscroll": false,
    "ein.tags": "worksheet-0",
    "slideshow": {
     "slide_type": "-"
    }
   },
   "outputs": [
    {
     "name": "stdout",
     "output_type": "stream",
     "text": [
      "[6.25869777e-01 1.61730506e+00 1.65743261e-01 1.60471368e+00\n",
      " 9.55488570e+00 4.33620734e-01 8.05366789e-01 1.18281956e+01\n",
      " 8.64097668e-01 2.12522642e+00 1.80896682e+00 1.60626577e+01\n",
      " 1.34423996e+00 3.78607608e+00 9.59174601e+00 1.65780265e+00\n",
      " 2.24969506e+00 2.44518835e+01 1.04346928e+00 3.47277536e-01\n",
      " 4.94623755e+00 1.02569810e+00 4.41306360e-02 9.63597046e+00\n",
      " 7.57635609e-01 2.07878434e+00 1.21869455e+00 3.85821847e+00\n",
      " 8.56668369e+00 4.83913907e-02 2.00804363e+00 9.40334061e-01\n",
      " 9.26462585e-01 5.00323786e+00 1.88673788e-01 2.25788611e+00\n",
      " 7.13075489e-01 1.89987511e+00 9.08675676e-02 4.77089729e+00\n",
      " 1.58427244e+01 3.61568647e-02 5.17520069e-01 8.04149589e-01\n",
      " 2.48767342e-01 1.33273508e+00 5.90367245e-01 8.04828631e+00\n",
      " 7.47819828e-01 5.48972002e+00 1.18141189e+00 7.27240086e-01\n",
      " 8.46014697e-01 6.06205037e+00 3.63957243e+00 1.19601232e+00\n",
      " 4.50733550e-01 2.72693383e+00 9.98138717e+00 7.30004913e-01\n",
      " 4.40139973e-01 1.54603051e-01 5.13954664e-01 2.37069304e+01\n",
      " 1.75205364e+00 2.55694754e+00 3.93059299e+01 2.92258680e+00\n",
      " 3.99458792e+00 1.01614395e+00 9.17031370e+00 2.05292472e-01\n",
      " 1.20982370e+00 1.71519854e+00 2.27008920e+00 3.58650412e+00\n",
      " 3.20697625e+00 5.68416456e-02 1.25000590e+00 2.40220033e+01\n",
      " 1.00148052e+00 7.59320734e+00 1.11161751e-01 8.32637436e+00\n",
      " 5.04351223e-02 6.48154671e-01 2.72889931e+00 1.12371308e+00\n",
      " 6.40692717e-01 1.32293144e+00 9.81863651e-01 4.68460442e-01\n",
      " 1.46215339e+00 7.80430430e-01 1.45714268e-01 2.25467444e+00\n",
      " 5.22122782e-01 1.64188227e+00 1.97680163e+01 4.10382301e+00\n",
      " 2.12309113e+00 1.70287508e+00 3.08880551e+00 3.80006072e-02\n",
      " 1.52172086e+01 1.75195207e-01 2.71168850e+00 5.55481330e-01\n",
      " 1.99880861e+01 4.64689190e+00 1.14573691e+00 3.68479260e-01\n",
      " 1.43489944e+01 1.35521540e+00 4.20056755e-02 2.70177487e+00\n",
      " 6.04820375e+00 9.74064965e-01 2.05206321e-01 6.58528203e-01\n",
      " 2.02731608e+00 5.16197025e-01 2.71248515e+00 2.35362010e-01\n",
      " 5.08375247e-01 3.32986142e-01 1.42632559e+00 1.54383563e-01\n",
      " 1.18585210e+00 1.50936793e-01 2.69086092e+00 8.33541002e-01\n",
      " 5.19463380e-01 2.66795932e-02 7.52804612e-01 1.77230534e+01\n",
      " 1.19000341e+01 7.52808531e-01 1.16767288e+00 1.00601897e-02\n",
      " 1.35696361e+00 4.68390186e-01 2.74271330e+00 5.44672907e+00\n",
      " 1.13992200e+00 2.43957819e+01 1.71658392e-01 1.24532982e+00\n",
      " 6.45058463e+02 2.05620787e+00 1.23695716e+00 9.53164845e-01\n",
      " 3.55467872e+00 1.80237363e-01 5.23521190e-01 2.09699946e-01\n",
      " 3.95388731e-02 3.23081666e-01 2.25577058e+00 4.22749098e+00\n",
      " 1.27770787e+00 1.71664596e+00 7.73112131e-01 9.84008752e+00\n",
      " 4.88837695e-01 1.60884846e+01 3.17822240e+00 9.01226106e-01\n",
      " 2.98942556e-01 2.00826140e+00 1.57426378e+00 1.70099347e+01\n",
      " 1.35091745e-01 7.35368944e+00 9.92947847e-02 1.13388905e+00\n",
      " 7.81410054e-01 1.82082153e-01 4.47799008e+00 5.28134919e+00\n",
      " 3.30365765e-01 5.89012830e-01 1.85395222e+00 7.34420322e+00\n",
      " 3.15893117e+00 8.52324247e+00 1.38113807e+01 9.13492072e-01\n",
      " 1.34951129e+00 3.65314231e-01 2.23654802e-01 1.17688471e+00\n",
      " 1.74222313e-01 4.30811644e-01 6.35158298e+00 2.70718544e-01\n",
      " 2.14128942e+00 3.47023805e+01 2.42672409e+00 1.40468865e+01\n",
      " 2.88078683e-01 2.30914357e-01 1.06114165e+00 1.72343332e+00\n",
      " 1.60965929e+00 1.77739465e+00 3.57063752e+00 9.52158593e-01\n",
      " 1.22984753e+00 1.64301330e-01 2.23189839e+00 3.38849307e-01\n",
      " 2.58181810e+00 5.13434170e+01 3.92355587e-01 1.52249294e-01\n",
      " 1.49416124e+00 1.16915481e+00 1.28500625e-01 7.39662863e-01\n",
      " 4.13815962e-01 3.50151156e-02 2.51621793e+00 8.56510099e+00\n",
      " 8.24734753e-01 3.88439114e-01 6.45611636e+00 5.80562709e-02\n",
      " 1.09739411e-01 1.79679072e+01 2.56271856e+01 7.99012180e-01\n",
      " 1.23470427e+01 5.88071496e-01 2.17543095e-01 4.01115195e-01\n",
      " 7.47668752e-01 4.53737197e+00 6.62607241e-01 1.30072170e+00\n",
      " 5.51470791e-01 4.02359789e-01 5.97564947e-01 5.08167209e-01\n",
      " 1.66370474e+00 5.25930296e-03 3.40308285e-01 1.15480580e+00\n",
      " 8.45364023e-02 1.40991771e+00 1.85112264e+00 6.47732686e+00\n",
      " 8.20799018e-01 1.98419667e+00 7.16728372e-01 1.32691834e+00\n",
      " 3.60440545e-01 1.13385154e+00 8.87730364e-01 7.70406207e-01\n",
      " 3.26766178e-01 2.60877257e+00 1.90945003e-01 1.89868154e+00\n",
      " 1.60433215e-01 5.88033506e-01 1.02353575e+00 7.59302080e+00\n",
      " 5.03856265e+00 2.62494518e-01 6.08033654e-01 3.18732878e+00\n",
      " 1.12243098e+01 7.84743994e-02 1.45661986e-01 5.75915839e-01\n",
      " 8.62284827e-01 1.09710975e-01 2.55131013e-01 9.82304845e-02\n",
      " 1.20991350e+00 3.96455749e-01 8.14316483e-02 8.94616065e-01\n",
      " 7.39585380e-01 4.63526133e+00 3.46699530e-01 1.33854191e-01\n",
      " 2.08543809e+00 1.91580831e+00 2.19843980e-02 7.38182005e-01\n",
      " 4.98803147e-01 8.56567012e-01 2.71992745e+00 2.02436839e-01\n",
      " 1.06574265e+00 2.26381107e+00 1.19167860e+00 1.63964832e-01\n",
      " 5.25610523e+00 7.87950155e-01 5.13324720e-01 3.43745694e+00\n",
      " 7.92974569e-01 1.37011529e+00 3.53349639e-01 2.65611331e+00\n",
      " 2.64019582e+01 1.53413690e-01 2.34116924e+00 1.05720933e+00\n",
      " 3.85501182e-01 2.37994514e-01 9.35447471e-02 1.97765743e+00\n",
      " 7.31173851e+00 1.09728298e+00 2.33489663e+00 2.31219189e-02\n",
      " 2.20479031e+00 3.05049186e-01 3.47422615e+01 1.52284012e+00\n",
      " 1.05339941e+01 4.34851919e+00 8.89525953e-01 3.63518921e-01\n",
      " 2.01831460e+00 3.42949574e-02 2.85309272e-01 1.97337053e+00\n",
      " 8.83989889e+00 1.10562799e-01 7.91711694e+00 4.18351138e-02\n",
      " 1.32529697e+00 7.36404533e-01 8.36057825e+00 4.36662261e+00\n",
      " 1.02041254e-01 1.50573497e+01 3.02278521e+00 1.36259318e+01\n",
      " 1.71791953e+00 2.93840233e-02 5.20057259e-01 1.48031258e+00\n",
      " 1.60089864e+01 1.29175123e+00 5.82861880e-01 1.91427200e-01\n",
      " 5.25813984e-01 7.29708247e+00 1.51695023e+00 7.93154361e-01\n",
      " 1.45413955e+00 1.96635770e+00 2.86381308e-01 1.73610362e-01\n",
      " 2.53584853e+00 5.73232802e-01 1.66081142e+00 1.12325246e+00\n",
      " 5.29399205e+00 7.38541544e+00 2.42682696e-01 1.30254809e+00\n",
      " 2.20023798e+00 7.43409769e-02 2.92465839e+00 4.78548835e-02\n",
      " 2.50857053e+01 1.02381808e-02 4.21033026e-01 3.22826284e-01\n",
      " 1.24834870e+00 1.55112122e+00 3.14157880e-01 1.89797566e-01\n",
      " 5.01588287e-01 4.36385232e+00 1.00116581e+00 4.72850686e-01\n",
      " 2.41213145e+00 5.81282921e-01 1.84740789e-01 5.28741898e-01\n",
      " 1.94449944e+00 9.19784956e-02 3.59383636e-01 2.30737787e+01\n",
      " 4.26789181e+00 1.14301037e+01 2.02294110e+00 2.20120471e-01\n",
      " 4.89081709e+00 2.29528758e+00 3.40058998e-01 5.69127054e+00\n",
      " 4.64235702e-02 2.38925415e-01 8.88623374e-01 8.91006192e-01\n",
      " 1.42534846e+00 2.43517091e-01 1.30428007e+00 6.88229762e-02\n",
      " 2.98176490e-01 1.48758667e+00 1.89729762e+00 1.14368867e-01\n",
      " 2.05132107e-02 4.17561498e+00 1.76131111e-01 2.73931418e+00\n",
      " 7.13870327e-01 4.21871218e-01 1.43970279e-01 1.21550822e+00\n",
      " 1.44506848e+00 4.75899420e-01 3.04519171e+00 5.94752817e+00\n",
      " 4.47308119e-03 1.04551600e+00 5.14177060e+00 8.48995160e+00\n",
      " 9.72451128e-01 2.13204517e+00 4.63708512e+00 3.70765167e-01\n",
      " 1.73440949e-01 1.89293664e+00 1.56852722e+00 4.36110899e+00\n",
      " 1.15985879e+00 1.61945661e-01 1.51703533e+00 1.39364296e+00\n",
      " 2.16623066e+00 1.76543883e+00 2.17334151e+00 4.12454628e-01\n",
      " 9.30558020e-01 8.48288640e-01 5.31441552e+00 2.93853395e+00\n",
      " 2.09466887e+00 1.45411265e-01 2.69871990e+00 1.24341746e+00\n",
      " 3.32613671e+00 5.20173605e+00 1.68696904e+00 6.61972069e-01\n",
      " 3.04560403e+00 6.91885912e-01 3.18556147e+00 2.63328973e+00\n",
      " 1.00998148e+01 7.30276300e+00 1.47680361e+00 2.87851482e+00\n",
      " 4.93839896e+00 5.68480840e-01 5.52436889e-01 5.68747797e-03\n",
      " 2.50528053e-01 1.04995599e+00 2.80700679e-01 1.33310273e+00\n",
      " 2.96388438e-01 7.78350789e-02 1.78677915e+01 9.25115226e+00\n",
      " 5.26046488e-02 5.03015148e-01 1.51951959e+00 2.02206063e+00\n",
      " 3.08270459e-01 1.21421254e+00 3.48330610e-01 8.54028075e-01\n",
      " 5.65915335e+00 2.98316919e+01 1.54035690e+01 4.14312755e-01\n",
      " 5.32877108e-01 1.84685410e-01 5.75558290e+01 2.25928548e-01\n",
      " 5.10165285e-01 6.49545348e+00 1.01692583e+00 1.36726047e-01\n",
      " 3.37985669e-01 4.53240570e+00 1.23469107e+01 2.71175685e+00\n",
      " 1.81582832e-01 8.87339328e-01 6.02681251e-01 4.91881885e-01\n",
      " 9.59245801e-02 1.75170322e+00 1.80376553e+00 7.97394221e-01\n",
      " 5.89067857e-01 7.67160329e+00 1.16299536e+00 2.67464057e+00\n",
      " 6.74323363e-01 5.03708627e+00 1.05413356e+01 4.16353111e-01\n",
      " 4.68397955e-03 5.91541777e-02 3.63270486e-01 2.75700730e-02\n",
      " 9.82473971e-02 3.06972794e+00 1.85621343e+00 2.62967184e-01\n",
      " 2.17147797e-01 5.03429210e-01 1.34921410e-01 1.81681869e-01\n",
      " 1.13342785e+00 6.21280938e-01 6.86309988e-01 2.03207527e+00\n",
      " 8.90703525e-01 3.72641866e-01 2.81550005e+01 1.98469097e-01\n",
      " 3.25152639e-01 3.03592067e+00 1.93065800e-01 3.07531930e+00\n",
      " 5.87454149e+01 6.81790999e-01 7.88672561e-01 4.78340715e-01\n",
      " 8.16081043e-01 3.21335613e+00 3.57741377e-01 4.26873926e-02\n",
      " 2.32049924e-01 2.82188530e-01 2.46397940e-01 7.92419212e-01\n",
      " 1.36646473e+00 1.35210577e+00 9.05599119e-01 1.65395320e-01\n",
      " 3.10078817e+00 1.21822997e+00 2.53411543e+00 6.56619453e-01\n",
      " 9.84459402e-01 9.87335694e-01 5.66437640e+00 4.04763172e+00\n",
      " 3.15748275e-01 2.21243964e+00 1.15491255e-01 6.16888364e-01\n",
      " 4.80753562e+00 4.98046735e-01 3.23024006e+00 2.08370833e-01\n",
      " 5.26285748e-01 1.22019058e-01 1.65698326e-01 1.38015177e+00\n",
      " 1.09582369e+00 2.04753630e-01 6.86390575e+01 1.72221795e+00\n",
      " 5.71047799e-01 2.83474907e+00 2.92364610e+00 7.80849672e-01\n",
      " 6.81096164e-01 7.66519575e-01 7.00616410e-02 3.88904131e-01\n",
      " 5.66093324e+00 8.43202400e-01 2.22736606e+01 1.64894291e+00\n",
      " 1.06566976e+01 2.76448626e+00 5.34470903e-02 1.12867727e-01\n",
      " 5.54260518e-01 4.42589680e+00 2.87475734e+01 7.56034984e-01\n",
      " 3.51670654e-01 1.23690349e+01 2.93891118e-01 1.16865101e+01\n",
      " 1.28686673e+00 8.40422432e-01 3.54471828e+00 1.62633968e+00\n",
      " 4.49937969e+00 1.00824298e+01 6.80291876e+00 4.60991549e-01\n",
      " 8.45358816e+00 6.41060284e-02 1.14018527e+00 6.30852947e-01\n",
      " 7.23867567e-01 1.32325990e-01 3.60808089e-01 2.21445123e+00\n",
      " 5.01420257e-02 5.60442797e+00 1.44457619e+00 6.91687500e-01\n",
      " 1.43127415e+00 2.89960413e+00 1.10990880e+00 3.66986778e-01\n",
      " 1.55805093e+00 1.21665334e+00 6.79586767e+00 9.70225627e-02\n",
      " 1.16477502e+01 2.18683130e-01 1.10147441e+00 4.46996739e+00\n",
      " 3.18739691e-02 1.90006085e-01 3.62360423e-01 3.76129295e-01\n",
      " 5.41636390e+00 1.40867505e+00 4.45159999e+01 1.09661990e-01\n",
      " 7.92373172e-02 3.35015612e-01 1.32231381e-01 8.11164632e-02\n",
      " 4.06095305e+00 9.32905920e+01 8.82022028e-01 1.25154309e+00\n",
      " 2.32734107e+01 3.22052361e-01 1.84728671e+00 1.22672361e+00\n",
      " 4.08855913e-01 2.92790999e-01 1.18459377e-01 1.52756571e-01\n",
      " 1.07709135e-02 1.65279539e+00 2.56961021e+00 2.46360077e-01\n",
      " 2.25285657e+00 4.47407726e+00 1.22432781e+00 1.10368069e-01\n",
      " 5.37344269e+01 4.64325119e-01 7.22766694e+00 4.77745866e-01\n",
      " 1.75432446e+01 1.05920379e+01 2.91245100e+00 2.21019276e-02\n",
      " 4.18425734e+01 1.15460311e+00 4.00953320e-01 1.56765895e+00\n",
      " 1.14161283e+00 8.83953557e-01 2.82074318e-01 1.32357579e+00\n",
      " 1.59073214e+00 2.02139378e+00 3.90750472e+00 6.83768126e-02\n",
      " 1.62023725e-01 1.50592510e+00 4.76545287e+00 1.75652573e+00\n",
      " 2.73705126e-02 1.52009441e-02 1.14179502e+00 2.87918578e-01\n",
      " 1.87430167e+00 2.89354831e+00 4.32246463e-02 2.17711229e+00\n",
      " 1.58761374e-01 1.54475344e+01 2.46881668e+00 5.87563268e+00\n",
      " 5.92925533e-01 1.90045921e-01 2.37988476e+00 7.12583858e-02\n",
      " 2.92065307e-01 4.55316160e-02 8.95830482e-03 1.02270025e+01\n",
      " 1.87990888e-02 1.43879292e-01 1.69740024e-01 1.51825983e+01\n",
      " 2.76658868e-01 9.20817494e+00 1.30657774e+00 2.18717060e+00\n",
      " 9.36759696e+00 8.63870189e-01 3.04552132e+00 1.35651875e+00\n",
      " 1.77981566e+01 1.96878723e+01 2.75804283e-01 1.42391002e+00\n",
      " 1.60114119e-01 2.28130153e-01 5.27049765e+00 4.36892501e+00\n",
      " 1.87913744e+00 5.80442571e+00 2.04807527e+00 4.58279090e+00\n",
      " 9.52803115e-01 4.40075992e+00 2.13369690e-01 2.64175596e-01\n",
      " 4.87797744e-01 1.16888664e-01 7.10403478e+00 1.07099908e+00\n",
      " 4.44503833e+00 1.72748290e+00 2.36983293e-01 8.44035314e-01\n",
      " 1.39399840e-01 5.96842770e+00 8.35229314e-02 3.07929552e-01\n",
      " 8.36839105e-02 2.95153028e+00 6.58807380e-01 1.63509298e-01\n",
      " 7.45992970e-01 5.63685248e+00 1.52496423e+01 5.79328503e-01\n",
      " 5.27222645e-02 1.19807572e-01 8.44711098e-01 2.49489048e+00\n",
      " 8.10617362e-01 5.80117989e-01 1.99523124e-01 5.92120331e-01\n",
      " 8.51021877e-02 4.55320627e-01 1.36751360e-01 1.81566225e-01\n",
      " 4.76627738e-01 7.83747119e-01 7.16825000e-02 1.99516833e+00\n",
      " 1.19827232e+01 1.16992179e+00 3.87320001e-01 4.96607308e-01\n",
      " 5.06920220e-01 7.22942532e+00 1.45145191e+00 1.39722621e-01\n",
      " 1.19992714e+00 2.00541598e+00 6.17782540e-01 3.62986234e-01\n",
      " 9.09939424e+00 3.83225409e+01 2.73431578e+00 1.12056530e+00\n",
      " 5.16604030e+00 1.66911014e+00 1.32914709e+00 1.06874729e+00\n",
      " 2.44977580e+00 2.58744793e+00 1.55019232e+01 6.87761570e-01\n",
      " 1.96004979e+00 4.53152063e-02 3.90308450e-01 6.05464526e+01\n",
      " 3.65186018e-01 6.88623168e-01 2.27732680e-01 9.18398486e+00\n",
      " 2.83765039e-02 1.46812522e-01 8.25407879e-01 3.02251000e-01\n",
      " 6.17927863e-01 4.42574136e+00 4.01741675e+00 1.88280356e+01\n",
      " 5.45799213e-01 1.11623793e+02 1.77821786e+00 5.58282283e-01\n",
      " 1.39998615e+00 1.95553582e+00 4.17641695e-01 4.13314557e-01\n",
      " 1.87221237e-01 1.93310790e-01 2.74312896e-01 1.21674082e-01\n",
      " 7.45008175e-01 4.58348740e-01 5.47063449e+00 6.25183804e-02\n",
      " 3.98275262e-01 3.96048358e-01 3.75650890e+00 3.95793360e+00\n",
      " 8.07947288e-01 6.47654592e+01 5.09902243e-02 4.46135615e-01\n",
      " 4.28347775e+00 8.92385098e+00 6.36637710e-01 1.82644490e+00\n",
      " 2.23547993e-01 1.44035436e+00 1.14411881e+00 5.16566157e-01\n",
      " 1.11139667e+00 6.45469493e+02 6.19585214e+00 5.20991393e-01\n",
      " 1.23663282e-01 1.76678229e+00 1.53271020e-01 2.22652211e+00\n",
      " 2.93945970e-01 1.65896733e-02 5.02401108e+00 1.30753664e+00\n",
      " 3.74493802e+00 1.60978196e+00 1.16028411e+02 1.69129786e-03\n",
      " 1.45844009e+00 1.13640126e+00 9.05470210e-01 1.32470349e+00\n",
      " 6.25342551e-01 9.31623468e-02 2.04842256e+00 3.75567792e-01\n",
      " 4.28866831e+01 6.68743641e-02 6.97229837e+00 2.62867617e+00\n",
      " 8.85623477e-01 9.34865668e-01 1.84018610e+00 5.50387967e+01\n",
      " 8.72406823e+00 1.64494817e+00 7.66455583e-01 1.19637570e+00\n",
      " 4.88285638e-01 4.08940764e-01 3.78984331e-01 1.63163551e+00\n",
      " 5.33921753e-01 7.85015717e-01 5.86574160e+00 2.86941777e-01\n",
      " 2.27737261e+00 7.99856165e+01 2.83679078e-02 1.15600806e+00\n",
      " 5.84788282e-01 1.74976592e-01 5.36303224e-01 1.28238408e+00\n",
      " 1.26179791e-01 2.32146927e-01 3.83916721e-01 5.52551610e+00\n",
      " 2.22960144e+00 5.91753450e-01 6.67007927e-01 4.49411760e-02\n",
      " 8.24591376e+00 1.37275844e+01 1.84819562e+00 3.27799702e-01\n",
      " 1.95776718e+00 4.25835647e-01 3.42040151e+00 1.74751116e+00\n",
      " 3.75951964e-01 2.05047886e+00 1.78088573e+00 6.00862316e-02\n",
      " 3.48615158e+00 4.46744554e+00 1.74871707e+00 6.69563567e-01\n",
      " 2.33958514e-01 6.25972452e-02 2.40327653e-01 3.70803453e+00\n",
      " 7.82894815e+00 9.62407879e-01 3.31377339e+00 9.60135479e-03\n",
      " 3.90488875e-01 8.04306185e-01 5.19790521e-01 4.99547599e-01\n",
      " 3.38002109e+00 7.02076278e-01 1.44565579e+00 4.65165204e-01\n",
      " 6.16167876e-01 2.37325086e+00 4.88535880e-01 1.71309245e+00\n",
      " 2.02989269e+00 1.90264513e-01 1.02058893e-02 1.68065549e+01\n",
      " 4.94191704e+00 9.21058353e-01 4.74543750e+00 2.00743504e+00\n",
      " 1.54713239e-01 1.30106824e-01 1.99485379e+00 1.82180431e+01\n",
      " 7.53536035e-01 3.28193437e-01 2.25016719e+00 3.92519347e+00\n",
      " 3.40520020e-01 5.86827965e-02 1.90353222e-02 2.37996669e-01\n",
      " 1.94674065e-01 2.56978046e-01 3.94979913e-01 1.04681248e-01\n",
      " 1.86358026e+00 7.00795082e-01 1.25236164e+00 1.15811108e-02\n",
      " 8.00188941e-01 1.69655213e-01 4.81239709e+00 8.69231402e-01\n",
      " 3.65358334e-01 4.36445701e-01 1.85959250e+01 3.70835567e-01\n",
      " 4.54951786e+00 3.11906168e+00 4.76946944e-01 6.15777123e+00\n",
      " 4.20459933e-01 1.44375709e+00 1.11498573e+00 1.30600975e-02\n",
      " 7.19398234e-01 6.95725502e+00 4.42392157e+00 4.69425946e+00\n",
      " 5.70893308e+00 2.02053130e-02 3.53999179e-01 8.27190534e-01\n",
      " 6.14583560e-01 6.13548301e-01 1.52360122e+02 2.46768982e-02]\n"
     ]
    }
   ],
   "source": [
    "par=np.random.pareto(1,size=1000)\n",
    "print(par)"
   ]
  },
  {
   "cell_type": "code",
   "execution_count": 83,
   "metadata": {
    "autoscroll": false,
    "ein.tags": "worksheet-0",
    "slideshow": {
     "slide_type": "-"
    }
   },
   "outputs": [],
   "source": [
    "## 2.3 Create the same of pareto-distributed random numbers with parameter a:\n",
    "\n",
    "# Your code here\n",
    "par=np.random.pareto(1,size=1000)"
   ]
  },
  {
   "cell_type": "code",
   "execution_count": null,
   "metadata": {
    "autoscroll": false,
    "ein.tags": "worksheet-0",
    "slideshow": {
     "slide_type": "-"
    }
   },
   "outputs": [],
   "source": [
    "## 2.4 Plot histogram of your sample\n",
    "## (use similar code you used above)"
   ]
  },
  {
   "cell_type": "code",
   "execution_count": 87,
   "metadata": {
    "autoscroll": false,
    "ein.tags": "worksheet-0",
    "slideshow": {
     "slide_type": "-"
    }
   },
   "outputs": [
    {
     "data": {
      "text/plain": [
       "<matplotlib.lines.Line2D at 0x119364198>"
      ]
     },
     "execution_count": 87,
     "metadata": {},
     "output_type": "execute_result"
    },
    {
     "data": {
      "image/png": "[encoded data removed]",
      "text/plain": [
       "<matplotlib.figure.Figure at 0x119364208>"
      ]
     },
     "metadata": {},
     "output_type": "display_data"
    }
   ],
   "source": [
    "# Your code here\n",
    "cnt2=plt.hist(par, color='green')\n",
    "plt.axvline(np.mean(par) ,color='red', linestyle='--')"
   ]
  },
  {
   "cell_type": "markdown",
   "metadata": {
    "ein.tags": "worksheet-0",
    "slideshow": {
     "slide_type": "-"
    }
   },
   "source": [
    "## 2.5 Compare the histogram with the one you created for the normal random variables\n",
    "\n"
   ]
  },
  {
   "cell_type": "code",
   "execution_count": null,
   "metadata": {
    "autoscroll": false,
    "ein.tags": "worksheet-0",
    "slideshow": {
     "slide_type": "-"
    }
   },
   "outputs": [],
   "source": [
    "## 2.6 Compute and plot the cumulative distribution function\n",
    "## definition of cdf: f(x) == Pr(X <= x)\n",
    "## Hence you have to\n",
    "## a) pick a large sequence of numbers\n",
    "## b) compute the percentage of your sample that is smaller than each of these numbers\n",
    "## c) plot the sequence versus percentage\n",
    "## Hints:\n",
    "## a) you can create arbitrary (linear) sequences with np.linspace(start, end, length)\n",
    "##    e.g. np.linspace(1, 10, 10) gives you an array of [ 1.,2.,3.,4.,5.,6.,7.,8.,9.,10.]\n",
    "## b) you can use np.mean(x < y) to find the percentage of x that is smaller than y\n",
    "##    (but note: y should be a single number, not an array here)\n",
    "## c) you can repeat these means as a list comprehension, or as a loop\n",
    "##    [ np.mean(x < y) for y in yarray]\n",
    "## d) you can do lineplot as\n",
    "##    plt.plot(x, y)  where x and y are numpy arrays\n"
   ]
  },
  {
   "cell_type": "code",
   "execution_count": 68,
   "metadata": {
    "autoscroll": false,
    "ein.tags": "worksheet-0",
    "slideshow": {
     "slide_type": "-"
    }
   },
   "outputs": [
    {
     "data": {
      "text/plain": [
       "0.864"
      ]
     },
     "execution_count": 68,
     "metadata": {},
     "output_type": "execute_result"
    }
   ],
   "source": [
    "# Your code here\n",
    "lin=np.linspace(1,20,20)\n",
    "np.mean(par<6)"
   ]
  },
  {
   "cell_type": "code",
   "execution_count": 85,
   "metadata": {},
   "outputs": [],
   "source": [
    "lin2=np.linspace(1,10,1000)"
   ]
  },
  {
   "cell_type": "code",
   "execution_count": 81,
   "metadata": {},
   "outputs": [
    {
     "name": "stdout",
     "output_type": "stream",
     "text": [
      "[0.665, 0.669, 0.674, 0.676, 0.679, 0.683, 0.688, 0.692, 0.696, 0.697, 0.698, 0.698, 0.703, 0.707, 0.711, 0.713, 0.717, 0.719, 0.721, 0.726, 0.733, 0.734, 0.737, 0.738, 0.738, 0.739, 0.74, 0.742, 0.742, 0.744, 0.744, 0.744, 0.747, 0.748, 0.75, 0.751, 0.751, 0.752, 0.753, 0.757, 0.758, 0.761, 0.762, 0.764, 0.768, 0.77, 0.77, 0.771, 0.773, 0.773, 0.777, 0.778, 0.78, 0.783, 0.784, 0.785, 0.785, 0.785, 0.786, 0.788, 0.789, 0.792, 0.792, 0.794, 0.796, 0.796, 0.796, 0.8, 0.8, 0.8, 0.801, 0.801, 0.804, 0.806, 0.808, 0.808, 0.81, 0.816, 0.817, 0.818, 0.818, 0.818, 0.819, 0.819, 0.82, 0.821, 0.822, 0.823, 0.825, 0.826, 0.826, 0.828, 0.829, 0.829, 0.83, 0.832, 0.833, 0.833, 0.834, 0.835, 0.835, 0.836, 0.836, 0.837, 0.837, 0.838, 0.839, 0.84, 0.843, 0.844, 0.844, 0.847, 0.847, 0.847, 0.848, 0.85, 0.852, 0.853, 0.853, 0.854, 0.856, 0.856, 0.856, 0.856, 0.856, 0.856, 0.856, 0.857, 0.857, 0.857, 0.858, 0.858, 0.86, 0.861, 0.861, 0.861, 0.861, 0.861, 0.861, 0.862, 0.862, 0.862, 0.862, 0.864, 0.864, 0.864, 0.864, 0.864, 0.864, 0.864, 0.865, 0.865, 0.865, 0.867, 0.868, 0.869, 0.869, 0.869, 0.87, 0.87, 0.87, 0.87, 0.873, 0.873, 0.873, 0.873, 0.873, 0.873, 0.874, 0.874, 0.874, 0.874, 0.874, 0.875, 0.876, 0.876, 0.876, 0.878, 0.878, 0.878, 0.878, 0.878, 0.879, 0.879, 0.88, 0.88, 0.88, 0.88, 0.881, 0.881, 0.881, 0.881, 0.881, 0.883, 0.883, 0.884, 0.884, 0.884, 0.885, 0.886, 0.886, 0.886, 0.886, 0.887, 0.887, 0.889, 0.89, 0.89, 0.89, 0.89, 0.891, 0.891, 0.891, 0.892, 0.892, 0.892, 0.892, 0.892, 0.892, 0.892, 0.892, 0.892, 0.892, 0.893, 0.894, 0.894, 0.894, 0.894, 0.894, 0.895, 0.895, 0.896, 0.896, 0.896, 0.897, 0.898, 0.898, 0.898, 0.899, 0.899, 0.899, 0.899, 0.9, 0.901, 0.902, 0.902, 0.902, 0.902, 0.902, 0.903, 0.903, 0.903, 0.903, 0.903, 0.904, 0.905, 0.905, 0.906, 0.906, 0.907, 0.907, 0.907, 0.907, 0.909, 0.909, 0.912, 0.912, 0.912, 0.913, 0.913, 0.914, 0.914, 0.914, 0.914, 0.914, 0.914, 0.916, 0.916, 0.916, 0.917, 0.917, 0.918, 0.918, 0.918, 0.918, 0.918, 0.918, 0.918, 0.918, 0.918, 0.918, 0.918, 0.918, 0.918, 0.918, 0.918, 0.918, 0.919, 0.919, 0.919, 0.919, 0.919, 0.919, 0.919, 0.919, 0.919, 0.919, 0.919, 0.919, 0.919, 0.919, 0.919, 0.919, 0.919, 0.919, 0.92, 0.92, 0.92, 0.92, 0.921, 0.921, 0.921, 0.921, 0.921, 0.921, 0.921, 0.921, 0.921, 0.921, 0.921, 0.922, 0.922, 0.923, 0.924, 0.924, 0.924, 0.924, 0.924, 0.924, 0.924, 0.924, 0.924, 0.924, 0.924, 0.924, 0.924, 0.924, 0.924, 0.924, 0.924, 0.925, 0.925, 0.926, 0.926, 0.927, 0.927, 0.927, 0.927, 0.927, 0.927, 0.927, 0.927, 0.927, 0.928, 0.928, 0.928, 0.929, 0.929, 0.929, 0.929, 0.929, 0.929, 0.929, 0.929, 0.929, 0.929, 0.929, 0.929, 0.929, 0.929, 0.929, 0.93, 0.93, 0.93, 0.93, 0.93, 0.93, 0.93, 0.93, 0.93, 0.93, 0.931, 0.932, 0.932, 0.932, 0.932, 0.932, 0.932, 0.932, 0.932, 0.932, 0.932, 0.932, 0.932, 0.932, 0.932, 0.932, 0.932, 0.932, 0.932, 0.932, 0.933, 0.933, 0.933, 0.933, 0.933, 0.933, 0.933, 0.933, 0.933, 0.933, 0.933, 0.933, 0.933, 0.933, 0.934, 0.934, 0.934, 0.934, 0.934, 0.934, 0.934, 0.935, 0.935, 0.935, 0.935, 0.935, 0.935, 0.936, 0.936, 0.936, 0.936, 0.936, 0.936, 0.937, 0.937, 0.937, 0.937, 0.937, 0.937, 0.938, 0.939, 0.939, 0.939, 0.939, 0.939, 0.939, 0.939, 0.939, 0.939, 0.939, 0.939, 0.939, 0.939, 0.939, 0.939, 0.939, 0.939, 0.939, 0.939, 0.939, 0.939, 0.939, 0.939, 0.939, 0.939, 0.939, 0.939, 0.939, 0.939, 0.939, 0.94, 0.941, 0.941, 0.941, 0.941, 0.941, 0.941, 0.942, 0.942, 0.942, 0.942, 0.942, 0.942, 0.942, 0.942, 0.942, 0.942, 0.942, 0.942, 0.942, 0.943, 0.943, 0.943, 0.943, 0.943, 0.943, 0.943, 0.943, 0.943, 0.943, 0.943, 0.943, 0.943, 0.944, 0.945, 0.946, 0.946, 0.946, 0.946, 0.946, 0.946, 0.946, 0.946, 0.946, 0.946, 0.946, 0.946, 0.946, 0.946, 0.946, 0.946, 0.947, 0.947, 0.947, 0.947, 0.948, 0.948, 0.948, 0.948, 0.948, 0.949, 0.949, 0.949, 0.949, 0.949, 0.95, 0.95, 0.95, 0.95, 0.95, 0.95, 0.95, 0.951, 0.951, 0.951, 0.951, 0.952, 0.952, 0.952, 0.952, 0.952, 0.952, 0.952, 0.953, 0.954, 0.954, 0.954, 0.954, 0.954, 0.954, 0.954, 0.954, 0.954, 0.954, 0.954, 0.954, 0.954, 0.954, 0.954, 0.954, 0.954, 0.954, 0.954, 0.954, 0.954, 0.954, 0.954, 0.954, 0.954, 0.954, 0.954, 0.954, 0.954, 0.954, 0.954, 0.954, 0.955, 0.955, 0.955, 0.955, 0.955, 0.955, 0.955, 0.955, 0.956, 0.956, 0.956, 0.956, 0.956, 0.956, 0.956, 0.956, 0.956, 0.957, 0.957, 0.958, 0.958, 0.958, 0.958, 0.958, 0.958, 0.958, 0.958, 0.958, 0.958, 0.958, 0.958, 0.958, 0.958, 0.958, 0.958, 0.958, 0.959, 0.959, 0.959, 0.959, 0.959, 0.96, 0.96, 0.96, 0.96, 0.96, 0.96, 0.96, 0.96, 0.96, 0.96, 0.96, 0.96, 0.96, 0.96, 0.96, 0.96, 0.96, 0.961, 0.961, 0.961, 0.961, 0.961, 0.961, 0.961, 0.961, 0.961, 0.961, 0.961, 0.961, 0.963, 0.963, 0.963, 0.963, 0.963, 0.963, 0.963, 0.963, 0.963, 0.963, 0.963, 0.963, 0.963, 0.963, 0.963, 0.963, 0.963, 0.963, 0.963, 0.964, 0.964, 0.964, 0.964, 0.964, 0.964, 0.964, 0.964, 0.964, 0.964, 0.964, 0.964, 0.964, 0.964, 0.964, 0.964, 0.964, 0.964, 0.964, 0.964, 0.964, 0.964, 0.964, 0.964, 0.964, 0.964, 0.964, 0.964, 0.964, 0.964, 0.964, 0.964, 0.964, 0.964, 0.964, 0.964, 0.964, 0.964, 0.964, 0.964, 0.964, 0.964, 0.964, 0.964, 0.964, 0.964, 0.964, 0.964, 0.964, 0.964, 0.964, 0.964, 0.964, 0.964, 0.964, 0.964, 0.964, 0.964, 0.964, 0.964, 0.964, 0.964, 0.964, 0.964, 0.964, 0.964, 0.964, 0.964, 0.964, 0.964, 0.964, 0.964, 0.964, 0.964, 0.964, 0.964, 0.964, 0.964, 0.964, 0.965, 0.965, 0.965, 0.965, 0.965, 0.965, 0.965, 0.965, 0.965, 0.965, 0.965, 0.965, 0.965, 0.965, 0.965, 0.965, 0.965, 0.965, 0.965, 0.965, 0.965, 0.965, 0.965, 0.965, 0.965, 0.966, 0.966, 0.966, 0.966, 0.966, 0.966, 0.966, 0.966, 0.966, 0.966, 0.966, 0.966, 0.966, 0.966, 0.966, 0.966, 0.966, 0.966, 0.966, 0.966, 0.966, 0.966, 0.967, 0.967, 0.967, 0.967, 0.967, 0.967, 0.967, 0.967, 0.967, 0.967, 0.968, 0.968, 0.968, 0.968, 0.968, 0.968, 0.968, 0.968, 0.968, 0.968, 0.968, 0.968, 0.968, 0.968, 0.968, 0.969, 0.969, 0.969, 0.969, 0.969, 0.969, 0.969, 0.969, 0.969, 0.969, 0.969, 0.969, 0.969, 0.969, 0.969, 0.969, 0.969, 0.969, 0.969, 0.969, 0.969, 0.969, 0.969, 0.969, 0.969, 0.969, 0.97, 0.97, 0.97, 0.97, 0.97, 0.97, 0.97, 0.97, 0.97, 0.97, 0.97, 0.97, 0.97, 0.97, 0.97, 0.97, 0.97, 0.97, 0.97, 0.97, 0.971, 0.971, 0.971, 0.971, 0.971, 0.971, 0.971, 0.971, 0.971, 0.971, 0.971, 0.971, 0.971, 0.971, 0.971, 0.971, 0.971, 0.971, 0.971, 0.971, 0.971, 0.971, 0.971, 0.971, 0.971, 0.971, 0.971, 0.971, 0.971, 0.971, 0.972, 0.972, 0.972, 0.972, 0.972, 0.972, 0.972, 0.972, 0.972, 0.972, 0.972, 0.972, 0.972, 0.972, 0.972, 0.972, 0.972, 0.972, 0.972, 0.972, 0.972, 0.972, 0.972, 0.972, 0.972, 0.972, 0.972, 0.972, 0.972, 0.972, 0.972, 0.972, 0.972, 0.972, 0.972, 0.972, 0.973, 0.973, 0.973, 0.973, 0.973, 0.973, 0.973, 0.973, 0.973, 0.973, 0.973, 0.973, 0.973, 0.973, 0.973, 0.973, 0.973, 0.973, 0.973, 0.973, 0.973, 0.973, 0.973, 0.973, 0.973, 0.973, 0.973, 0.973, 0.973, 0.973, 0.973, 0.973, 0.973, 0.973, 0.974, 0.975, 0.975, 0.975, 0.975, 0.975, 0.975, 0.975, 0.975, 0.975, 0.975, 0.975, 0.975, 0.975, 0.975, 0.975, 0.975]\n"
     ]
    }
   ],
   "source": [
    "temp=[np.mean(par<y) for y in lin2]\n",
    "print(temp)"
   ]
  },
  {
   "cell_type": "code",
   "execution_count": 86,
   "metadata": {},
   "outputs": [
    {
     "data": {
      "text/plain": [
       "[<matplotlib.lines.Line2D at 0x1193872e8>]"
      ]
     },
     "execution_count": 86,
     "metadata": {},
     "output_type": "execute_result"
    },
    {
     "data": {
      "image/png": "[encoded data removed]",
      "text/plain": [
       "<matplotlib.figure.Figure at 0x118c65e10>"
      ]
     },
     "metadata": {},
     "output_type": "display_data"
    }
   ],
   "source": [
    "plt.plot(par,temp)"
   ]
  }
 ],
 "metadata": {
  "kernelspec": {
   "display_name": "Python 3",
   "language": "python",
   "name": "python3"
  },
  "language_info": {
   "codemirror_mode": {
    "name": "ipython",
    "version": 3
   },
   "file_extension": ".py",
   "mimetype": "text/x-python",
   "name": "python",
   "nbconvert_exporter": "python",
   "pygments_lexer": "ipython3",
   "version": "3.6.4"
  },
  "name": "lab01-stats.ipynb"
 },
 "nbformat": 4,
 "nbformat_minor": 2
}
