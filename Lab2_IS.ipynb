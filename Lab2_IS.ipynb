{
 "cells": [
  {
   "cell_type": "code",
   "execution_count": null,
   "metadata": {},
   "outputs": [],
   "source": []
  },
  {
   "cell_type": "code",
   "execution_count": 20,
   "metadata": {},
   "outputs": [
    {
     "name": "stdout",
     "output_type": "stream",
     "text": [
      "[[1 2]\n",
      " [3 4]]\n",
      "[-0.37228132  5.37228132]\n",
      "14.430703308172536\n"
     ]
    }
   ],
   "source": [
    "import numpy as np\n",
    "from numpy import linalg as LA\n",
    "A=np.array([[1,2],[3,4]])\n",
    "print(A)\n",
    "#M = np.matrix([[2, -1, 0],\n",
    "               #[-1, 2, -1],\n",
    "               #[0, -1, 2]])\n",
    "\n",
    "x,y=LA.eig(A)\n",
    "print(x)\n",
    "#temp=LA.eigvals(M)\n",
    "#print(temp)\n",
    "condition_number=np.max(np.abs(x))/np.min(np.abs(x))\n",
    "print(condition_number)"
   ]
  },
  {
   "cell_type": "code",
   "execution_count": 30,
   "metadata": {},
   "outputs": [
    {
     "name": "stdout",
     "output_type": "stream",
     "text": [
      "[[1 2 3]\n",
      " [4 5 6]\n",
      " [7 8 9]]\n",
      "1.6514539124698442e+16\n"
     ]
    }
   ],
   "source": [
    "M2=np.arange(1,10).reshape(3,3)\n",
    "print(M2)\n",
    "m2x,m2y=LA.eig(M2)\n",
    "M_condition_number=np.max(np.abs(m2x))/np.min(np.abs(m2x))\n",
    "print(M_condition_number)"
   ]
  },
  {
   "cell_type": "code",
   "execution_count": 35,
   "metadata": {},
   "outputs": [
    {
     "name": "stdout",
     "output_type": "stream",
     "text": [
      "[[1 2 3]\n",
      " [4 5 6]\n",
      " [7 7 8]]\n",
      "101.51067742356962\n"
     ]
    }
   ],
   "source": [
    "M3=np.matrix([[1,2,3],[4,5,6],[7,7,8]])\n",
    "print(M3)\n",
    "m3x,m3y=LA.eig(M3)\n",
    "M3_condition_number=(np.max(np.abs(m3x))/np.min(np.abs(m3x)))\n",
    "print(M3_condition_number)"
   ]
  },
  {
   "cell_type": "code",
   "execution_count": 43,
   "metadata": {},
   "outputs": [
    {
     "name": "stdout",
     "output_type": "stream",
     "text": [
      "-1.1102230246251565e-16\n",
      "-1.1102230246251565e-16\n"
     ]
    }
   ],
   "source": [
    "y=np.arange(1,100)\n",
    "x=(1/y)*y-1\n",
    "\n",
    "for eachval in x:\n",
    "    if eachval!=0:\n",
    "        print(eachval)"
   ]
  },
  {
   "cell_type": "code",
   "execution_count": 95,
   "metadata": {},
   "outputs": [
    {
     "name": "stdout",
     "output_type": "stream",
     "text": [
      "-21.00000000000001\n",
      "[[1. 0. 0.]\n",
      " [0. 1. 0.]\n",
      " [0. 0. 1.]]\n"
     ]
    }
   ],
   "source": [
    "A=np.matrix([[1,2,10],[4,5,6],[7,8,9]])\n",
    "determinant=LA.det(A)\n",
    "print(determinant)\n",
    "\n",
    "I=np.identity(3)\n",
    "print(I)\n",
    "B=A+0.0001*I\n"
   ]
  },
  {
   "cell_type": "code",
   "execution_count": 97,
   "metadata": {},
   "outputs": [
    {
     "name": "stdout",
     "output_type": "stream",
     "text": [
      "Matirx B is  [[ 1.0001  2.     10.    ]\n",
      " [ 4.      5.0001  6.    ]\n",
      " [ 7.      8.      9.0001]]\n",
      "Determinant of B is -21.006699849999006\n",
      "Inverse of B is [[ 0.14274493 -2.9514298   1.80899429]\n",
      " [-0.28560412  2.90378786 -1.61850268]\n",
      " [ 0.1428449  -0.28558508  0.14278302]]\n",
      "Matrix C is [[ 1.00000000e+00  1.77635684e-15  0.00000000e+00]\n",
      " [ 6.66133815e-16  1.00000000e+00  0.00000000e+00]\n",
      " [-1.11022302e-16  0.00000000e+00  1.00000000e+00]]\n",
      "Largest difference is  1.7763568394002505e-15\n"
     ]
    }
   ],
   "source": [
    "print(\"Matirx B is \", B)\n",
    "detB=LA.det(B)\n",
    "print(\"Determinant of B is\",detB)\n",
    "Binv=LA.inv(B)\n",
    "\n",
    "print(\"Inverse of B is\",Binv)\n",
    "\n",
    "C=Binv@B\n",
    "print(\"Matrix C is\",C)\n",
    "\n",
    "largest_diff=C-I\n",
    "error=np.max(np.abs(largest_diff))\n",
    "print(\"Largest difference is \",error)"
   ]
  },
  {
   "cell_type": "code",
   "execution_count": null,
   "metadata": {},
   "outputs": [],
   "source": []
  }
 ],
 "metadata": {
  "kernelspec": {
   "display_name": "Python 3",
   "language": "python",
   "name": "python3"
  },
  "language_info": {
   "codemirror_mode": {
    "name": "ipython",
    "version": 3
   },
   "file_extension": ".py",
   "mimetype": "text/x-python",
   "name": "python",
   "nbconvert_exporter": "python",
   "pygments_lexer": "ipython3",
   "version": "3.6.4"
  }
 },
 "nbformat": 4,
 "nbformat_minor": 2
}
