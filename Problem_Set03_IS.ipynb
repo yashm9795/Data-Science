{
 "cells": [
  {
   "cell_type": "markdown",
   "metadata": {
    "ein.tags": "worksheet-0",
    "slideshow": {
     "slide_type": "-"
    }
   },
   "source": [
    "# Problem Set 3, due Tuesday, Feb 19th, 11:59pm."
   ]
  },
  {
   "cell_type": "markdown",
   "metadata": {
    "ein.tags": "worksheet-0",
    "slideshow": {
     "slide_type": "-"
    }
   },
   "source": [
    "## Introduction to the assignment\n",
    "\n",
    "For this assignment, you will be using data from the [Progresa\n",
    "program](http://en.wikipedia.org/wiki/Oportunidades), a government\n",
    "social assistance program in Mexico. This program, as well as the\n",
    "details of its impact, are described in the paper \"[School subsidies\n",
    "for the poor: evaluating the Mexican Progresa poverty\n",
    "program](http://www.sciencedirect.com/science/article/pii/S0304387803001858)\",\n",
    "by Paul Shultz (available on Canvas).  The data\n",
    "(progresa_sample.csv.gz) is available on canvas\n",
    "in files/data.\n",
    "\n",
    "Please read the paper to familiarize yourself with\n",
    "the PROGRESA program before beginning this problem set, so you have a\n",
    "rough sense of where the data come from and how they were\n",
    "generated. If you just proceed into the problem set without\n",
    "understanding Progresa or the data, it will be very difficult!\n",
    "\n",
    "The goal of this problem set is to implement some of the basic\n",
    "econometric techniques that you are learning in class to measure the\n",
    "impact of Progresa on secondary school enrollment rates, in particular\n",
    "differences-in-differences.  Your task is to **estimate the impact of\n",
    "_progresa_ subsidies on the school attendance**.  Note: this asks to\n",
    "estimate a causal effect.\n",
    "\n",
    "The timeline of the program was:\n",
    "\n",
    " * Baseline survey conducted in 1997\n",
    " * Intervention begins in 1998, \"Wave 1\" of data collected in 1998\n",
    " * \"Wave 2 of data\" collected in 1999\n",
    " * Evaluation ends in 2000, at which point the control villages were treated. \n",
    " \n",
    "When you are ready, download the progresa_sample.csv data from\n",
    "Canvas. The data are actual data collected to evaluate the impact of\n",
    "the Progresa program.  In this file, each row corresponds to an\n",
    "observation taken for a given child for a given year. There are two\n",
    "years of data (1997 and 1998), and just under 40,000 children who are\n",
    "surveyed in both years.  For each child-year observation, the\n",
    "following variables are collected:\n",
    "\n",
    "| Variable name | Description|\n",
    "|------|------|\n",
    "|year\t  |year in which data is collected\n",
    "|sex\t  |male = 1|\n",
    "|indig\t  |indigenous = 1|\n",
    "|dist_sec |nearest distance to a secondary school|\n",
    "|sc\t      |enrolled in school in year of survey (=1)|\n",
    "|grc      |grade enrolled|\n",
    "|fam_n    |family size|\n",
    "|min_dist |\tmin distance to an urban center|\n",
    "|dist_cap |\tmin distance to the capital|\n",
    "|poor     |\tpoor = \"pobre\", not poor = \"no pobre\"|\n",
    "|progresa |treatment = \"basal\", control = \"0\"|\n",
    "|hohedu\t  |years of schooling of head of household|\n",
    "|hohwag\t  |monthly wages of head of household|\n",
    "|welfare_index|\twelfare index used to classify poor|\n",
    "|hohsex\t|gender of head of household (male=1)|\n",
    "|hohage\t|age of head of household|\n",
    "|age\t|years old|\n",
    "|folnum\t|individual id|\n",
    "|village|\tvillage id|\n",
    "|sc97\t|enrolled in school in 1997 (=1) |"
   ]
  },
  {
   "cell_type": "markdown",
   "metadata": {
    "ein.tags": "worksheet-0",
    "slideshow": {
     "slide_type": "-"
    }
   },
   "source": [
    "## Part 1: Descriptive analysis\n",
    "\n",
    "### 1.1\tSummary Statistics\n",
    "\n",
    "Report summary statistics (mean, standard deviation, and number of missings) for all of\n",
    "the demographic variables in the dataset (i.e., everything except\n",
    "year, folnum, village).  A central variable, _progresa_ is coded in a\n",
    "rather unintuitive way.  Find it's actual coding scheme (levels).  Does this fit with the documentation above?\n",
    "\n",
    "Present these in a single table alphabetized\n",
    "by variable name. Do NOT simply expect the grader to scroll through\n",
    "your output!"
   ]
  },
  {
   "cell_type": "code",
   "execution_count": 5,
   "metadata": {},
   "outputs": [],
   "source": [
    "# importing all the libraries \n",
    "import pandas as pd\n",
    "from collections import OrderedDict\n",
    "from scipy.stats import ttest_ind\n",
    "import matplotlib.pyplot as plt\n",
    "import numpy as np\n",
    "import statsmodels.formula.api as smf"
   ]
  },
  {
   "cell_type": "code",
   "execution_count": 11,
   "metadata": {
    "autoscroll": false,
    "ein.hycell": false,
    "ein.tags": "worksheet-0",
    "slideshow": {
     "slide_type": "-"
    }
   },
   "outputs": [
    {
     "data": {
      "text/plain": [
       "year                0\n",
       "sex                24\n",
       "indig             300\n",
       "dist_sec            0\n",
       "sc               8453\n",
       "grc              6549\n",
       "fam_n               0\n",
       "min_dist            0\n",
       "dist_cap            0\n",
       "poor                0\n",
       "progresa            0\n",
       "hohedu              0\n",
       "hohwag              0\n",
       "welfare_index     210\n",
       "hohsex             20\n",
       "hohage             10\n",
       "age                 0\n",
       "village             0\n",
       "folnum              0\n",
       "grc97               0\n",
       "sc97             3872\n",
       "dtype: int64"
      ]
     },
     "execution_count": 11,
     "metadata": {},
     "output_type": "execute_result"
    }
   ],
   "source": [
    "#reading the data\n",
    "progress_a=pd.read_csv(\"progresa_sample.csv.gz\")\n",
    "\n",
    "#null_columns=train.columns[train.isnull().any()]\n",
    "#train[null_columns].isnull().sum()\n",
    "\n",
    "#displaying all the columns that have null values\n",
    "\n",
    "\n",
    "\n",
    "null_columns = pd.isnull(progress_a).sum(axis=0)\n",
    "null_columns"
   ]
  },
  {
   "cell_type": "code",
   "execution_count": 12,
   "metadata": {},
   "outputs": [
    {
     "name": "stdout",
     "output_type": "stream",
     "text": [
      "Index(['year', 'folnum', 'village', 'poor', 'progresa'], dtype='object')\n"
     ]
    }
   ],
   "source": [
    "temp = pd.Index(['year','folnum','village','poor','progresa'])\n",
    "print(temp)\n",
    "index = null_columns.index.difference(temp)\n",
    "#null_columns = null_columns[index]"
   ]
  },
  {
   "cell_type": "code",
   "execution_count": 13,
   "metadata": {},
   "outputs": [
    {
     "data": {
      "text/html": [
       "<div>\n",
       "<style scoped>\n",
       "    .dataframe tbody tr th:only-of-type {\n",
       "        vertical-align: middle;\n",
       "    }\n",
       "\n",
       "    .dataframe tbody tr th {\n",
       "        vertical-align: top;\n",
       "    }\n",
       "\n",
       "    .dataframe thead th {\n",
       "        text-align: right;\n",
       "    }\n",
       "</style>\n",
       "<table border=\"1\" class=\"dataframe\">\n",
       "  <thead>\n",
       "    <tr style=\"text-align: right;\">\n",
       "      <th></th>\n",
       "      <th>count</th>\n",
       "      <th>mean</th>\n",
       "      <th>std</th>\n",
       "      <th>min</th>\n",
       "      <th>25%</th>\n",
       "      <th>50%</th>\n",
       "      <th>75%</th>\n",
       "      <th>max</th>\n",
       "    </tr>\n",
       "  </thead>\n",
       "  <tbody>\n",
       "    <tr>\n",
       "      <th>age</th>\n",
       "      <td>77250.0</td>\n",
       "      <td>11.366460</td>\n",
       "      <td>3.167744</td>\n",
       "      <td>6.000000</td>\n",
       "      <td>9.000000</td>\n",
       "      <td>11.000000</td>\n",
       "      <td>14.000000</td>\n",
       "      <td>17.000000</td>\n",
       "    </tr>\n",
       "    <tr>\n",
       "      <th>dist_cap</th>\n",
       "      <td>77250.0</td>\n",
       "      <td>147.674452</td>\n",
       "      <td>76.063134</td>\n",
       "      <td>9.465392</td>\n",
       "      <td>92.327050</td>\n",
       "      <td>132.001494</td>\n",
       "      <td>184.445225</td>\n",
       "      <td>359.774457</td>\n",
       "    </tr>\n",
       "    <tr>\n",
       "      <th>dist_sec</th>\n",
       "      <td>77250.0</td>\n",
       "      <td>2.418910</td>\n",
       "      <td>2.234109</td>\n",
       "      <td>0.000000</td>\n",
       "      <td>0.574000</td>\n",
       "      <td>2.279000</td>\n",
       "      <td>3.582000</td>\n",
       "      <td>14.879000</td>\n",
       "    </tr>\n",
       "    <tr>\n",
       "      <th>fam_n</th>\n",
       "      <td>77250.0</td>\n",
       "      <td>7.215715</td>\n",
       "      <td>2.352900</td>\n",
       "      <td>1.000000</td>\n",
       "      <td>6.000000</td>\n",
       "      <td>7.000000</td>\n",
       "      <td>9.000000</td>\n",
       "      <td>24.000000</td>\n",
       "    </tr>\n",
       "    <tr>\n",
       "      <th>grc</th>\n",
       "      <td>70701.0</td>\n",
       "      <td>3.963537</td>\n",
       "      <td>2.499063</td>\n",
       "      <td>0.000000</td>\n",
       "      <td>2.000000</td>\n",
       "      <td>4.000000</td>\n",
       "      <td>6.000000</td>\n",
       "      <td>14.000000</td>\n",
       "    </tr>\n",
       "    <tr>\n",
       "      <th>grc97</th>\n",
       "      <td>77250.0</td>\n",
       "      <td>3.705372</td>\n",
       "      <td>2.572387</td>\n",
       "      <td>0.000000</td>\n",
       "      <td>1.000000</td>\n",
       "      <td>4.000000</td>\n",
       "      <td>6.000000</td>\n",
       "      <td>14.000000</td>\n",
       "    </tr>\n",
       "    <tr>\n",
       "      <th>hohage</th>\n",
       "      <td>77240.0</td>\n",
       "      <td>44.436717</td>\n",
       "      <td>11.620372</td>\n",
       "      <td>15.000000</td>\n",
       "      <td>36.000000</td>\n",
       "      <td>43.000000</td>\n",
       "      <td>51.000000</td>\n",
       "      <td>98.000000</td>\n",
       "    </tr>\n",
       "    <tr>\n",
       "      <th>hohedu</th>\n",
       "      <td>77250.0</td>\n",
       "      <td>2.768104</td>\n",
       "      <td>2.656106</td>\n",
       "      <td>0.000000</td>\n",
       "      <td>0.000000</td>\n",
       "      <td>2.000000</td>\n",
       "      <td>4.000000</td>\n",
       "      <td>20.000000</td>\n",
       "    </tr>\n",
       "    <tr>\n",
       "      <th>hohsex</th>\n",
       "      <td>77230.0</td>\n",
       "      <td>0.925185</td>\n",
       "      <td>0.263095</td>\n",
       "      <td>0.000000</td>\n",
       "      <td>1.000000</td>\n",
       "      <td>1.000000</td>\n",
       "      <td>1.000000</td>\n",
       "      <td>1.000000</td>\n",
       "    </tr>\n",
       "    <tr>\n",
       "      <th>hohwag</th>\n",
       "      <td>77250.0</td>\n",
       "      <td>586.985312</td>\n",
       "      <td>788.133664</td>\n",
       "      <td>0.000000</td>\n",
       "      <td>120.000000</td>\n",
       "      <td>500.000000</td>\n",
       "      <td>750.000000</td>\n",
       "      <td>14000.000000</td>\n",
       "    </tr>\n",
       "    <tr>\n",
       "      <th>indig</th>\n",
       "      <td>76950.0</td>\n",
       "      <td>0.298324</td>\n",
       "      <td>0.457525</td>\n",
       "      <td>0.000000</td>\n",
       "      <td>0.000000</td>\n",
       "      <td>0.000000</td>\n",
       "      <td>1.000000</td>\n",
       "      <td>1.000000</td>\n",
       "    </tr>\n",
       "    <tr>\n",
       "      <th>min_dist</th>\n",
       "      <td>77250.0</td>\n",
       "      <td>103.447520</td>\n",
       "      <td>42.089441</td>\n",
       "      <td>9.465392</td>\n",
       "      <td>70.518238</td>\n",
       "      <td>111.228612</td>\n",
       "      <td>138.446009</td>\n",
       "      <td>170.457647</td>\n",
       "    </tr>\n",
       "    <tr>\n",
       "      <th>sc</th>\n",
       "      <td>68797.0</td>\n",
       "      <td>0.819818</td>\n",
       "      <td>0.384342</td>\n",
       "      <td>0.000000</td>\n",
       "      <td>1.000000</td>\n",
       "      <td>1.000000</td>\n",
       "      <td>1.000000</td>\n",
       "      <td>1.000000</td>\n",
       "    </tr>\n",
       "    <tr>\n",
       "      <th>sc97</th>\n",
       "      <td>73378.0</td>\n",
       "      <td>0.813922</td>\n",
       "      <td>0.389172</td>\n",
       "      <td>0.000000</td>\n",
       "      <td>1.000000</td>\n",
       "      <td>1.000000</td>\n",
       "      <td>1.000000</td>\n",
       "      <td>1.000000</td>\n",
       "    </tr>\n",
       "    <tr>\n",
       "      <th>sex</th>\n",
       "      <td>77226.0</td>\n",
       "      <td>0.512211</td>\n",
       "      <td>0.499854</td>\n",
       "      <td>0.000000</td>\n",
       "      <td>0.000000</td>\n",
       "      <td>1.000000</td>\n",
       "      <td>1.000000</td>\n",
       "      <td>1.000000</td>\n",
       "    </tr>\n",
       "    <tr>\n",
       "      <th>welfare_index</th>\n",
       "      <td>77040.0</td>\n",
       "      <td>690.346564</td>\n",
       "      <td>139.491130</td>\n",
       "      <td>180.000000</td>\n",
       "      <td>597.000000</td>\n",
       "      <td>685.000000</td>\n",
       "      <td>770.000000</td>\n",
       "      <td>1294.000000</td>\n",
       "    </tr>\n",
       "  </tbody>\n",
       "</table>\n",
       "</div>"
      ],
      "text/plain": [
       "                 count        mean         std         min         25%  \\\n",
       "age            77250.0   11.366460    3.167744    6.000000    9.000000   \n",
       "dist_cap       77250.0  147.674452   76.063134    9.465392   92.327050   \n",
       "dist_sec       77250.0    2.418910    2.234109    0.000000    0.574000   \n",
       "fam_n          77250.0    7.215715    2.352900    1.000000    6.000000   \n",
       "grc            70701.0    3.963537    2.499063    0.000000    2.000000   \n",
       "grc97          77250.0    3.705372    2.572387    0.000000    1.000000   \n",
       "hohage         77240.0   44.436717   11.620372   15.000000   36.000000   \n",
       "hohedu         77250.0    2.768104    2.656106    0.000000    0.000000   \n",
       "hohsex         77230.0    0.925185    0.263095    0.000000    1.000000   \n",
       "hohwag         77250.0  586.985312  788.133664    0.000000  120.000000   \n",
       "indig          76950.0    0.298324    0.457525    0.000000    0.000000   \n",
       "min_dist       77250.0  103.447520   42.089441    9.465392   70.518238   \n",
       "sc             68797.0    0.819818    0.384342    0.000000    1.000000   \n",
       "sc97           73378.0    0.813922    0.389172    0.000000    1.000000   \n",
       "sex            77226.0    0.512211    0.499854    0.000000    0.000000   \n",
       "welfare_index  77040.0  690.346564  139.491130  180.000000  597.000000   \n",
       "\n",
       "                      50%         75%           max  \n",
       "age             11.000000   14.000000     17.000000  \n",
       "dist_cap       132.001494  184.445225    359.774457  \n",
       "dist_sec         2.279000    3.582000     14.879000  \n",
       "fam_n            7.000000    9.000000     24.000000  \n",
       "grc              4.000000    6.000000     14.000000  \n",
       "grc97            4.000000    6.000000     14.000000  \n",
       "hohage          43.000000   51.000000     98.000000  \n",
       "hohedu           2.000000    4.000000     20.000000  \n",
       "hohsex           1.000000    1.000000      1.000000  \n",
       "hohwag         500.000000  750.000000  14000.000000  \n",
       "indig            0.000000    1.000000      1.000000  \n",
       "min_dist       111.228612  138.446009    170.457647  \n",
       "sc               1.000000    1.000000      1.000000  \n",
       "sc97             1.000000    1.000000      1.000000  \n",
       "sex              1.000000    1.000000      1.000000  \n",
       "welfare_index  685.000000  770.000000   1294.000000  "
      ]
     },
     "execution_count": 13,
     "metadata": {},
     "output_type": "execute_result"
    }
   ],
   "source": [
    "#Removing columns which are categorical variables\n",
    "summary = progress_a.describe()\n",
    "summary.T \n",
    "\n",
    "#removing 'year', 'folnum', 'village' columns\n",
    "temp2 = pd.Index(['year','folnum','village']) \n",
    "\n",
    "col=summary.columns.difference(temp2)\n",
    "summary2=summary[col].T\n",
    "summary2\n"
   ]
  },
  {
   "cell_type": "code",
   "execution_count": 14,
   "metadata": {},
   "outputs": [
    {
     "name": "stdout",
     "output_type": "stream",
     "text": [
      "age               11.366460\n",
      "dist_cap         147.674452\n",
      "dist_sec           2.418910\n",
      "fam_n              7.215715\n",
      "grc                3.963537\n",
      "grc97              3.705372\n",
      "hohage            44.436717\n",
      "hohedu             2.768104\n",
      "hohsex             0.925185\n",
      "hohwag           586.985312\n",
      "indig              0.298324\n",
      "min_dist         103.447520\n",
      "sc                 0.819818\n",
      "sc97               0.813922\n",
      "sex                0.512211\n",
      "welfare_index    690.346564\n",
      "Name: mean, dtype: float64\n",
      "age                3.167744\n",
      "dist_cap          76.063134\n",
      "dist_sec           2.234109\n",
      "fam_n              2.352900\n",
      "grc                2.499063\n",
      "grc97              2.572387\n",
      "hohage            11.620372\n",
      "hohedu             2.656106\n",
      "hohsex             0.263095\n",
      "hohwag           788.133664\n",
      "indig              0.457525\n",
      "min_dist          42.089441\n",
      "sc                 0.384342\n",
      "sc97               0.389172\n",
      "sex                0.499854\n",
      "welfare_index    139.491130\n",
      "Name: std, dtype: float64\n"
     ]
    }
   ],
   "source": [
    "#computing mean and standard deviation\n",
    "mean=summary2['mean']\n",
    "std=summary2['std']\n",
    "print(mean)\n",
    "print(std)"
   ]
  },
  {
   "cell_type": "markdown",
   "metadata": {
    "ein.tags": "worksheet-0",
    "slideshow": {
     "slide_type": "-"
    }
   },
   "source": [
    "### 1.2 Differences at baseline?\n",
    "Now let's investigate the differences in baseline.  Are the baseline (1997) demographic characteristics **for the poor**\n",
    "different in treatment and control villages?\n",
    "\n",
    "I suggest you to use a T-Test to\n",
    "determine whether there is a statistically significant difference in\n",
    "the average values of each of the variables in the dataset. Focus only\n",
    "on the data from 1997 for poor.\n",
    "\n",
    "Present your results in a single table with the following columns and 14 (or so) rows:\n",
    "\n",
    "| Variable name | Average value (Treatment villages) | Average value (Control villages) | Difference (Treat - Control) | p-value |\n",
    "|------|------|------|------|------|\n",
    "|Male|?|?|?|?|\n"
   ]
  },
  {
   "cell_type": "code",
   "execution_count": 15,
   "metadata": {},
   "outputs": [],
   "source": [
    "#seperating into treatment and control group\n",
    "treatment=progress_a[progress_a.progresa==\"basal\"]\n",
    "control=progress_a[progress_a.progresa==\"0\"]"
   ]
  },
  {
   "cell_type": "code",
   "execution_count": 35,
   "metadata": {
    "autoscroll": false,
    "ein.hycell": false,
    "ein.tags": "worksheet-0",
    "slideshow": {
     "slide_type": "-"
    }
   },
   "outputs": [
    {
     "data": {
      "text/plain": [
       "sex                0.505052\n",
       "indig              0.332207\n",
       "dist_sec           2.507662\n",
       "sc                 0.815186\n",
       "grc                3.543050\n",
       "fam_n              7.302469\n",
       "min_dist         103.237854\n",
       "dist_cap         153.769730\n",
       "hohedu             2.590348\n",
       "hohwag           573.163558\n",
       "welfare_index    659.579100\n",
       "hohsex             0.922947\n",
       "hohage            44.276918\n",
       "age               10.742023\n",
       "grc97              3.543050\n",
       "sc97               0.815186\n",
       "dtype: float64"
      ]
     },
     "execution_count": 35,
     "metadata": {},
     "output_type": "execute_result"
    }
   ],
   "source": [
    "# seperating poor for treatment and control group\n",
    "treatment_poor=treatment[treatment.poor==\"pobre\"]\n",
    "control_poor=control[control.poor==\"pobre\"]\n",
    "\n",
    "#selecting treament data for poor in 97\n",
    "treatment_poor_97=treatment_poor[treatment_poor.year==97]\n",
    "treatment_poor_98=treatment_poor[treatment_poor.year==98]\n",
    "\n",
    "\n",
    "#selecting control data for poor in 97\n",
    "control_poor_97=control_poor[control_poor.year==97]\n",
    "control_poor_98=control_poor[control_poor.year==98]\n",
    "\n",
    "#calculating mean for control and treatment group in the year 97\n",
    "treatment_poor_97_mean= treatment_poor_97.mean()\n",
    "control_poor_97_mean=control_poor_97.mean()\n",
    "\n",
    "#dropping variables\n",
    "treatment_poor_97_mean.drop(['year', 'folnum', 'village'])\n",
    "control_poor_97_mean.drop(['year','folnum','village','progresa'])\n"
   ]
  },
  {
   "cell_type": "code",
   "execution_count": 17,
   "metadata": {},
   "outputs": [
    {
     "data": {
      "text/plain": [
       "Index(['year', 'sex', 'indig', 'dist_sec', 'sc', 'grc', 'fam_n', 'min_dist',\n",
       "       'dist_cap', 'hohedu', 'hohwag', 'welfare_index', 'hohsex', 'hohage',\n",
       "       'age', 'village', 'folnum', 'grc97', 'sc97'],\n",
       "      dtype='object')"
      ]
     },
     "execution_count": 17,
     "metadata": {},
     "output_type": "execute_result"
    }
   ],
   "source": [
    "treatment_poor_97_mean.index"
   ]
  },
  {
   "cell_type": "code",
   "execution_count": 18,
   "metadata": {},
   "outputs": [
    {
     "name": "stderr",
     "output_type": "stream",
     "text": [
      "/anaconda3/lib/python3.6/site-packages/numpy/core/fromnumeric.py:3194: RuntimeWarning: Degrees of freedom <= 0 for slice\n",
      "  **kwargs)\n",
      "/anaconda3/lib/python3.6/site-packages/numpy/core/_methods.py:127: RuntimeWarning: invalid value encountered in double_scalars\n",
      "  ret = ret.dtype.type(ret / rcount)\n"
     ]
    }
   ],
   "source": [
    "p_values = []\n",
    "\n",
    "for eachvalue in treatment_poor_97_mean.index:    \n",
    "    t,p = ttest_ind(control_poor_97_mean[eachvalue] , treatment_poor_97_mean[eachvalue])\n",
    "    p_values.append(p)\n"
   ]
  },
  {
   "cell_type": "code",
   "execution_count": 46,
   "metadata": {},
   "outputs": [],
   "source": [
    "temp = pd.Series(treatment_poor_97_mean.index)\n",
    "treatment_values = pd.Series(treatment_poor_97_mean.values)\n",
    "control_values = pd.Series(control_poor_97_mean.values)\n",
    "\n",
    "\n",
    "\n",
    "df_1997 = pd.DataFrame(OrderedDict({'Variable':temp,'Average value of treatment':treatment_values,'Average value of control':control_values}))"
   ]
  },
  {
   "cell_type": "code",
   "execution_count": 48,
   "metadata": {},
   "outputs": [
    {
     "data": {
      "text/html": [
       "<div>\n",
       "<style scoped>\n",
       "    .dataframe tbody tr th:only-of-type {\n",
       "        vertical-align: middle;\n",
       "    }\n",
       "\n",
       "    .dataframe tbody tr th {\n",
       "        vertical-align: top;\n",
       "    }\n",
       "\n",
       "    .dataframe thead th {\n",
       "        text-align: right;\n",
       "    }\n",
       "</style>\n",
       "<table border=\"1\" class=\"dataframe\">\n",
       "  <thead>\n",
       "    <tr style=\"text-align: right;\">\n",
       "      <th></th>\n",
       "      <th>Variable</th>\n",
       "      <th>Average value of treatment</th>\n",
       "      <th>Average value of control</th>\n",
       "      <th>treatment_control_difference</th>\n",
       "    </tr>\n",
       "  </thead>\n",
       "  <tbody>\n",
       "    <tr>\n",
       "      <th>0</th>\n",
       "      <td>year</td>\n",
       "      <td>97.000000</td>\n",
       "      <td>97.000000</td>\n",
       "      <td>0.000000</td>\n",
       "    </tr>\n",
       "    <tr>\n",
       "      <th>1</th>\n",
       "      <td>sex</td>\n",
       "      <td>0.519317</td>\n",
       "      <td>0.505052</td>\n",
       "      <td>0.014265</td>\n",
       "    </tr>\n",
       "    <tr>\n",
       "      <th>2</th>\n",
       "      <td>indig</td>\n",
       "      <td>0.325986</td>\n",
       "      <td>0.332207</td>\n",
       "      <td>-0.006222</td>\n",
       "    </tr>\n",
       "    <tr>\n",
       "      <th>3</th>\n",
       "      <td>dist_sec</td>\n",
       "      <td>2.453122</td>\n",
       "      <td>2.507662</td>\n",
       "      <td>-0.054540</td>\n",
       "    </tr>\n",
       "    <tr>\n",
       "      <th>4</th>\n",
       "      <td>sc</td>\n",
       "      <td>0.822697</td>\n",
       "      <td>0.815186</td>\n",
       "      <td>0.007511</td>\n",
       "    </tr>\n",
       "    <tr>\n",
       "      <th>5</th>\n",
       "      <td>grc</td>\n",
       "      <td>3.531599</td>\n",
       "      <td>3.543050</td>\n",
       "      <td>-0.011450</td>\n",
       "    </tr>\n",
       "    <tr>\n",
       "      <th>6</th>\n",
       "      <td>fam_n</td>\n",
       "      <td>7.281327</td>\n",
       "      <td>7.302469</td>\n",
       "      <td>-0.021142</td>\n",
       "    </tr>\n",
       "    <tr>\n",
       "      <th>7</th>\n",
       "      <td>min_dist</td>\n",
       "      <td>107.152915</td>\n",
       "      <td>103.237854</td>\n",
       "      <td>3.915060</td>\n",
       "    </tr>\n",
       "    <tr>\n",
       "      <th>8</th>\n",
       "      <td>dist_cap</td>\n",
       "      <td>150.829074</td>\n",
       "      <td>153.769730</td>\n",
       "      <td>-2.940656</td>\n",
       "    </tr>\n",
       "    <tr>\n",
       "      <th>9</th>\n",
       "      <td>hohedu</td>\n",
       "      <td>2.663139</td>\n",
       "      <td>0.000000</td>\n",
       "      <td>2.663139</td>\n",
       "    </tr>\n",
       "    <tr>\n",
       "      <th>10</th>\n",
       "      <td>hohwag</td>\n",
       "      <td>544.339544</td>\n",
       "      <td>2.590348</td>\n",
       "      <td>541.749196</td>\n",
       "    </tr>\n",
       "    <tr>\n",
       "      <th>11</th>\n",
       "      <td>welfare_index</td>\n",
       "      <td>655.428377</td>\n",
       "      <td>573.163558</td>\n",
       "      <td>82.264819</td>\n",
       "    </tr>\n",
       "    <tr>\n",
       "      <th>12</th>\n",
       "      <td>hohsex</td>\n",
       "      <td>0.924656</td>\n",
       "      <td>659.579100</td>\n",
       "      <td>-658.654444</td>\n",
       "    </tr>\n",
       "    <tr>\n",
       "      <th>13</th>\n",
       "      <td>hohage</td>\n",
       "      <td>43.648828</td>\n",
       "      <td>0.922947</td>\n",
       "      <td>42.725880</td>\n",
       "    </tr>\n",
       "    <tr>\n",
       "      <th>14</th>\n",
       "      <td>age</td>\n",
       "      <td>10.716991</td>\n",
       "      <td>44.276918</td>\n",
       "      <td>-33.559927</td>\n",
       "    </tr>\n",
       "    <tr>\n",
       "      <th>15</th>\n",
       "      <td>village</td>\n",
       "      <td>233.795025</td>\n",
       "      <td>10.742023</td>\n",
       "      <td>223.053002</td>\n",
       "    </tr>\n",
       "    <tr>\n",
       "      <th>16</th>\n",
       "      <td>folnum</td>\n",
       "      <td>19321.168233</td>\n",
       "      <td>286.363155</td>\n",
       "      <td>19034.805077</td>\n",
       "    </tr>\n",
       "    <tr>\n",
       "      <th>17</th>\n",
       "      <td>grc97</td>\n",
       "      <td>3.531599</td>\n",
       "      <td>19272.844316</td>\n",
       "      <td>-19269.312717</td>\n",
       "    </tr>\n",
       "    <tr>\n",
       "      <th>18</th>\n",
       "      <td>sc97</td>\n",
       "      <td>0.822697</td>\n",
       "      <td>3.543050</td>\n",
       "      <td>-2.720353</td>\n",
       "    </tr>\n",
       "    <tr>\n",
       "      <th>19</th>\n",
       "      <td>NaN</td>\n",
       "      <td>NaN</td>\n",
       "      <td>0.815186</td>\n",
       "      <td>NaN</td>\n",
       "    </tr>\n",
       "  </tbody>\n",
       "</table>\n",
       "</div>"
      ],
      "text/plain": [
       "         Variable  Average value of treatment  Average value of control  \\\n",
       "0            year                   97.000000                 97.000000   \n",
       "1             sex                    0.519317                  0.505052   \n",
       "2           indig                    0.325986                  0.332207   \n",
       "3        dist_sec                    2.453122                  2.507662   \n",
       "4              sc                    0.822697                  0.815186   \n",
       "5             grc                    3.531599                  3.543050   \n",
       "6           fam_n                    7.281327                  7.302469   \n",
       "7        min_dist                  107.152915                103.237854   \n",
       "8        dist_cap                  150.829074                153.769730   \n",
       "9          hohedu                    2.663139                  0.000000   \n",
       "10         hohwag                  544.339544                  2.590348   \n",
       "11  welfare_index                  655.428377                573.163558   \n",
       "12         hohsex                    0.924656                659.579100   \n",
       "13         hohage                   43.648828                  0.922947   \n",
       "14            age                   10.716991                 44.276918   \n",
       "15        village                  233.795025                 10.742023   \n",
       "16         folnum                19321.168233                286.363155   \n",
       "17          grc97                    3.531599              19272.844316   \n",
       "18           sc97                    0.822697                  3.543050   \n",
       "19            NaN                         NaN                  0.815186   \n",
       "\n",
       "    treatment_control_difference  \n",
       "0                       0.000000  \n",
       "1                       0.014265  \n",
       "2                      -0.006222  \n",
       "3                      -0.054540  \n",
       "4                       0.007511  \n",
       "5                      -0.011450  \n",
       "6                      -0.021142  \n",
       "7                       3.915060  \n",
       "8                      -2.940656  \n",
       "9                       2.663139  \n",
       "10                    541.749196  \n",
       "11                     82.264819  \n",
       "12                   -658.654444  \n",
       "13                     42.725880  \n",
       "14                    -33.559927  \n",
       "15                    223.053002  \n",
       "16                  19034.805077  \n",
       "17                 -19269.312717  \n",
       "18                     -2.720353  \n",
       "19                           NaN  "
      ]
     },
     "execution_count": 48,
     "metadata": {},
     "output_type": "execute_result"
    }
   ],
   "source": [
    "df_1997\n",
    "df_1997['treatment_control_difference']=df_1997['Average value of treatment']-df_1997['Average value of control']\n",
    "#df_1997['p_Value']=p_values\n",
    "df_1997"
   ]
  },
  {
   "cell_type": "markdown",
   "metadata": {
    "ein.tags": "worksheet-0",
    "slideshow": {
     "slide_type": "-"
    }
   },
   "source": [
    "### 1.3 Interpretation\n",
    "\n",
    "* A: Are there statistically significant differences between treatment and control villages as baseline? \n",
    "* B: Why does it matter if there are differences at baseline?\n",
    "* C: What does this imply about how to measure the impact of the treatment?"
   ]
  },
  {
   "cell_type": "markdown",
   "metadata": {
    "ein.tags": "worksheet-0",
    "slideshow": {
     "slide_type": "-"
    }
   },
   "source": [
    "a) Hohage(head of household age), welfare index and min_dist are the variables that have the smallest and most significant p values.\n",
    "\n",
    "b) The difference at baseline ensures that the groups were selected at random and that there is no bias involved in the selection process\n",
    "\n",
    "c)It implies the fact that any difference measured later can be attributed to the presence of the treatment \n"
   ]
  },
  {
   "cell_type": "markdown",
   "metadata": {
    "ein.tags": "worksheet-0",
    "slideshow": {
     "slide_type": "-"
    }
   },
   "source": [
    "### 1.4 Graphical exploration, part 1\n",
    "\n",
    "For each level of household head education, compute the average\n",
    "enrollment rate in 1997. Create a scatterplot that shows this\n",
    "relationship. What do you notice?"
   ]
  },
  {
   "cell_type": "code",
   "execution_count": 25,
   "metadata": {
    "autoscroll": false,
    "ein.hycell": false,
    "ein.tags": "worksheet-0",
    "slideshow": {
     "slide_type": "-"
    }
   },
   "outputs": [
    {
     "data": {
      "text/plain": [
       "Text(0,0.5,'Average enrollment rate')"
      ]
     },
     "execution_count": 25,
     "metadata": {},
     "output_type": "execute_result"
    },
    {
     "data": {
      "image/png": "[encoded data removed]",
      "text/plain": [
       "<matplotlib.figure.Figure at 0x119da8160>"
      ]
     },
     "metadata": {},
     "output_type": "display_data"
    }
   ],
   "source": [
    "# Your code here\n",
    "household_edu = progress_a.groupby(['hohedu'])['sc'].mean()\n",
    "household_edu_values=household_edu.values\n",
    "household_edu=progress_a.hohedu.unique()\n",
    "#creating the scatter plot\n",
    "plt.scatter(household_edu,household_edu_values)\n",
    "plt.xlabel(\"household head Education\")\n",
    "plt.ylabel(\"Average enrollment rate\")"
   ]
  },
  {
   "cell_type": "markdown",
   "metadata": {
    "ein.tags": "worksheet-0",
    "slideshow": {
     "slide_type": "-"
    }
   },
   "source": [
    "increase in education level leads to increase in average enrollment rate with the exception at education level 20"
   ]
  },
  {
   "cell_type": "markdown",
   "metadata": {
    "ein.tags": "worksheet-0",
    "slideshow": {
     "slide_type": "-"
    }
   },
   "source": [
    "### 1.5 Graphical exploration, part 2\n",
    "\n",
    "Create a histogram of village enrollment rates **among poor households\n",
    "in treated villages**, before and after treatment.  Specifically, for\n",
    "each village, calculate the average rate of enrollment of poor\n",
    "households in treated villages in 1997, then compute the average rate\n",
    "of enrollment of poor households in treated villages in 1998. Create\n",
    "two separate histograms showing the distribution of these average\n",
    "enrollments rates, one histogram for 1997 and one histogram for\n",
    "1998. On each histogram, draw a vertical line that intersects the\n",
    "x-axis at the average value (across all households). Does there appear\n",
    "to be a difference? Is this difference statistically significant?"
   ]
  },
  {
   "cell_type": "code",
   "execution_count": 26,
   "metadata": {
    "autoscroll": false,
    "ein.hycell": false,
    "ein.tags": "worksheet-0",
    "slideshow": {
     "slide_type": "-"
    }
   },
   "outputs": [
    {
     "data": {
      "text/plain": [
       "Text(0.5,0,'Average enrollment in the year 1997')"
      ]
     },
     "execution_count": 26,
     "metadata": {},
     "output_type": "execute_result"
    },
    {
     "data": {
      "image/png": "[encoded data removed]",
      "text/plain": [
       "<matplotlib.figure.Figure at 0x119d43fd0>"
      ]
     },
     "metadata": {},
     "output_type": "display_data"
    }
   ],
   "source": [
    "# Your code here\n",
    "hist1= treatment_poor_97.groupby(['village'])['sc'].mean()\n",
    "plt.hist(hist1)\n",
    "plt.axvline(treatment_poor_97.sc.mean(),color='yellow', linestyle='dashed')\n",
    "plt.ylabel(\"Number of villages\")\n",
    "plt.xlabel(\"Average enrollment in the year 1997\")"
   ]
  },
  {
   "cell_type": "code",
   "execution_count": 29,
   "metadata": {},
   "outputs": [
    {
     "data": {
      "text/plain": [
       "Text(0.5,0,'average enrollment in the year 1998')"
      ]
     },
     "execution_count": 29,
     "metadata": {},
     "output_type": "execute_result"
    },
    {
     "data": {
      "image/png": "[encoded data removed]",
      "text/plain": [
       "<matplotlib.figure.Figure at 0x11689d2e8>"
      ]
     },
     "metadata": {},
     "output_type": "display_data"
    }
   ],
   "source": [
    "hist2=treatment_poor_98.groupby(['village'])['sc'].mean()\n",
    "plt.hist(hist2)\n",
    "plt.axvline(treatment_poor_98.sc.mean(), color='red', linestyle='dashed')\n",
    "plt.ylabel(\"Number of Villages\")\n",
    "plt.xlabel(\"average enrollment in the year 1998\")"
   ]
  },
  {
   "cell_type": "code",
   "execution_count": 30,
   "metadata": {},
   "outputs": [
    {
     "data": {
      "text/plain": [
       "0.04424870036572115"
      ]
     },
     "execution_count": 30,
     "metadata": {},
     "output_type": "execute_result"
    }
   ],
   "source": [
    "#conducting t test with null values included\n",
    "ttest_with_null_values = ttest_ind(treatment_poor_97.groupby('village')['sc'].mean(),treatment_poor_98.groupby('village')['sc'].mean()).pvalue\n",
    "ttest_with_null_values"
   ]
  },
  {
   "cell_type": "code",
   "execution_count": 31,
   "metadata": {},
   "outputs": [
    {
     "data": {
      "text/plain": [
       "0.010587739721624679"
      ]
     },
     "execution_count": 31,
     "metadata": {},
     "output_type": "execute_result"
    }
   ],
   "source": [
    "#conducting t test without null values\n",
    "treatment_poor_97_withoutna=treatment_poor_97.dropna()\n",
    "treatment_poor_98_withoutna=treatment_poor_98.dropna()\n",
    "ttest_without_null_values = ttest_ind(treatment_poor_97_withoutna.groupby('village')['sc'].mean(),treatment_poor_98_withoutna.groupby('village')['sc'].mean()).pvalue\n",
    "ttest_without_null_values"
   ]
  },
  {
   "cell_type": "code",
   "execution_count": null,
   "metadata": {},
   "outputs": [],
   "source": [
    " The t test value in both the scenarios ie with nulls(0.044) and without nulls(0.0105) is less than the 0.05. \n",
    "Hence we can consider the means to be statistically significant"
   ]
  },
  {
   "cell_type": "markdown",
   "metadata": {
    "ein.tags": "worksheet-0",
    "slideshow": {
     "slide_type": "-"
    }
   },
   "source": [
    "## Part 2: Measuring Impact\n",
    "\n",
    "Our goal is to estimate the causal impact of the PROGRESA program on\n",
    "the social and economic outcomes of individuals in Mexico. We will\n",
    "focus on the impact of the program on the poor (those with\n",
    "poor=='pobre'), since only the poor were eligible to receive the\n",
    "PROGRESA assistance.\n",
    "\n",
    "### 2.1 Cross-Sectional Estimator: T-test\n",
    "\n",
    "Begin by estimating the impact of Progresa using \"simple differences.\"\n",
    "Restricting yourself to data from 1998 (after treatment), calculate\n",
    "the average enrollment rate among **poor** households in the Treatment\n",
    "villages and the average enrollment rate among **poor** households in\n",
    "the control villages. Use a t-test to determine if this difference is\n",
    "statistically significant. What do you conclude?"
   ]
  },
  {
   "cell_type": "code",
   "execution_count": 49,
   "metadata": {
    "autoscroll": false,
    "ein.hycell": false,
    "ein.tags": "worksheet-0",
    "slideshow": {
     "slide_type": "-"
    }
   },
   "outputs": [],
   "source": [
    "# Your code here\n",
    "data_1998=progress_a[progress_a['year']==98].dropna()\n",
    "poor_98=data_1998[data_1998['poor']=='pobre'].dropna()\n",
    "poor_data=progress_a[progress_a['poor']=='pobre'].dropna()\n",
    "\n"
   ]
  },
  {
   "cell_type": "code",
   "execution_count": 50,
   "metadata": {},
   "outputs": [
    {
     "data": {
      "text/plain": [
       "0.8464791213954308"
      ]
     },
     "execution_count": 50,
     "metadata": {},
     "output_type": "execute_result"
    }
   ],
   "source": [
    "treatment_poor_98.sc.dropna().mean()"
   ]
  },
  {
   "cell_type": "code",
   "execution_count": 51,
   "metadata": {},
   "outputs": [
    {
     "data": {
      "text/plain": [
       "0.807636956730308"
      ]
     },
     "execution_count": 51,
     "metadata": {},
     "output_type": "execute_result"
    }
   ],
   "source": [
    "control_poor_98.sc.dropna().mean()"
   ]
  },
  {
   "cell_type": "code",
   "execution_count": 62,
   "metadata": {},
   "outputs": [
    {
     "data": {
      "text/plain": [
       "Ttest_indResult(statistic=nan, pvalue=nan)"
      ]
     },
     "execution_count": 62,
     "metadata": {},
     "output_type": "execute_result"
    }
   ],
   "source": [
    "ttest_ind(treatment_poor_98.sc.dropna().values,control_poor_98.sc.values)"
   ]
  },
  {
   "cell_type": "code",
   "execution_count": 56,
   "metadata": {},
   "outputs": [
    {
     "data": {
      "text/plain": [
       "(12474, 21)"
      ]
     },
     "execution_count": 56,
     "metadata": {},
     "output_type": "execute_result"
    }
   ],
   "source": []
  },
  {
   "cell_type": "markdown",
   "metadata": {
    "ein.tags": "worksheet-0",
    "slideshow": {
     "slide_type": "-"
    }
   },
   "source": [
    "*Discuss your results here*"
   ]
  },
  {
   "cell_type": "markdown",
   "metadata": {
    "ein.tags": "worksheet-0",
    "slideshow": {
     "slide_type": "-"
    }
   },
   "source": [
    "### 2.2 Cross-Sectional Estimator: Regression\n",
    "\n",
    "Estimate the effects of Progresa on enrollment using a regression\n",
    "model, by regressing the 1998 enrollment rates **of the poor** on\n",
    "treatment assignment.  Do not include any additional control\n",
    "variables.\n",
    "Discuss the following:\n",
    "\n",
    "* Based on this model, how much did Progresa increase the likelihood of a child enrolling?\n",
    "* How does your regression estimate compare to your t-test estimate from part 2.1?\n",
    "* Based on this regression model, can we reject the null hypothesis that the treatment effects are zero? \n",
    "* What is the counterfactual assumption underlying this regression?\n",
    "\n",
    "Note: I recommend to use statsmodels.formula.api as this allows to use\n",
    "convenient R-style formulas and provedes nice summaries of the results."
   ]
  },
  {
   "cell_type": "code",
   "execution_count": 42,
   "metadata": {
    "autoscroll": false,
    "ein.hycell": false,
    "ein.tags": "worksheet-0",
    "slideshow": {
     "slide_type": "-"
    }
   },
   "outputs": [
    {
     "name": "stdout",
     "output_type": "stream",
     "text": [
      "                            OLS Regression Results                            \n",
      "==============================================================================\n",
      "Dep. Variable:                     sc   R-squared:                       0.003\n",
      "Model:                            OLS   Adj. R-squared:                  0.002\n",
      "Method:                 Least Squares   F-statistic:                     65.64\n",
      "Date:                Tue, 11 Jun 2019   Prob (F-statistic):           5.66e-16\n",
      "Time:                        22:01:27   Log-Likelihood:                -11171.\n",
      "No. Observations:               26155   AIC:                         2.235e+04\n",
      "Df Residuals:                   26153   BIC:                         2.236e+04\n",
      "Df Model:                           1                                         \n",
      "Covariance Type:            nonrobust                                         \n",
      "=====================================================================================\n",
      "                        coef    std err          t      P>|t|      [0.025      0.975]\n",
      "-------------------------------------------------------------------------------------\n",
      "Intercept             0.8109      0.004    217.190      0.000       0.804       0.818\n",
      "progresa[T.basal]     0.0383      0.005      8.102      0.000       0.029       0.048\n",
      "==============================================================================\n",
      "Omnibus:                     7487.800   Durbin-Watson:                   1.734\n",
      "Prob(Omnibus):                  0.000   Jarque-Bera (JB):            15756.374\n",
      "Skew:                          -1.796   Prob(JB):                         0.00\n",
      "Kurtosis:                       4.245   Cond. No.                         3.02\n",
      "==============================================================================\n",
      "\n",
      "Warnings:\n",
      "[1] Standard Errors assume that the covariance matrix of the errors is correctly specified.\n"
     ]
    }
   ],
   "source": [
    "# Your code here\n",
    "regression = smf.ols(formula = 'sc ~ progresa',data=data_1998).fit()\n",
    "print(regression.summary())"
   ]
  },
  {
   "cell_type": "markdown",
   "metadata": {
    "ein.tags": "worksheet-0",
    "slideshow": {
     "slide_type": "-"
    }
   },
   "source": [
    "\n",
    "\n",
    "The coefficient for the regression is 0.0383.\n",
    "The p_value in the regression model is lesser than 0.05. This shows that the value is statistically significant and there is an effect due to treatment. Hence, we reject the null hypothesis \n",
    "\n"
   ]
  },
  {
   "cell_type": "markdown",
   "metadata": {
    "ein.tags": "worksheet-0",
    "slideshow": {
     "slide_type": "-"
    }
   },
   "source": [
    "### 2.3 Multiple Regression\n",
    "\n",
    "Re-run the above regression estimated but this time include a set of\n",
    "relevant control variables. Include, for instance, age, distance to a secondary\n",
    "school, gender, education of household head, welfare index,\n",
    "indigenous, etc.\n",
    "\n",
    "* How do the controls affect the point estimate of treatment effect?\n",
    "* How do the controls affect the standard error on the treatment effect? \n",
    "* How do you interpret the differences (or similarities) between your estimates of 2.2 and 2.3?"
   ]
  },
  {
   "cell_type": "code",
   "execution_count": 43,
   "metadata": {
    "autoscroll": false,
    "ein.hycell": false,
    "ein.tags": "worksheet-0",
    "slideshow": {
     "slide_type": "-"
    }
   },
   "outputs": [
    {
     "name": "stdout",
     "output_type": "stream",
     "text": [
      "                            OLS Regression Results                            \n",
      "==============================================================================\n",
      "Dep. Variable:                     sc   R-squared:                       0.268\n",
      "Model:                            OLS   Adj. R-squared:                  0.267\n",
      "Method:                 Least Squares   F-statistic:                     1365.\n",
      "Date:                Tue, 11 Jun 2019   Prob (F-statistic):               0.00\n",
      "Time:                        22:01:50   Log-Likelihood:                -7129.9\n",
      "No. Observations:               26155   AIC:                         1.428e+04\n",
      "Df Residuals:                   26147   BIC:                         1.434e+04\n",
      "Df Model:                           7                                         \n",
      "Covariance Type:            nonrobust                                         \n",
      "=====================================================================================\n",
      "                        coef    std err          t      P>|t|      [0.025      0.975]\n",
      "-------------------------------------------------------------------------------------\n",
      "Intercept             1.4630      0.011    137.045      0.000       1.442       1.484\n",
      "progresa[T.basal]     0.0319      0.004      7.862      0.000       0.024       0.040\n",
      "age                  -0.0651      0.001    -92.993      0.000      -0.066      -0.064\n",
      "dist_sec             -0.0103      0.001    -11.098      0.000      -0.012      -0.008\n",
      "sex                   0.0303      0.004      7.704      0.000       0.023       0.038\n",
      "hohedu                0.0079      0.001      9.979      0.000       0.006       0.009\n",
      "indig                 0.0312      0.004      6.995      0.000       0.022       0.040\n",
      "min_dist              0.0006   4.97e-05     12.544      0.000       0.001       0.001\n",
      "==============================================================================\n",
      "Omnibus:                     2972.808   Durbin-Watson:                   1.727\n",
      "Prob(Omnibus):                  0.000   Jarque-Bera (JB):             4095.121\n",
      "Skew:                          -0.959   Prob(JB):                         0.00\n",
      "Kurtosis:                       3.281   Cond. No.                         627.\n",
      "==============================================================================\n",
      "\n",
      "Warnings:\n",
      "[1] Standard Errors assume that the covariance matrix of the errors is correctly specified.\n"
     ]
    }
   ],
   "source": [
    "# Your code here\n",
    "mul_regression = smf.ols(formula = 'sc ~ age + dist_sec + sex + hohedu + indig + min_dist + progresa',data=data_1998).fit()\n",
    "print(mul_regression.summary())"
   ]
  },
  {
   "cell_type": "markdown",
   "metadata": {
    "ein.tags": "worksheet-0",
    "slideshow": {
     "slide_type": "-"
    }
   },
   "source": [
    "The standard error has reduced\n",
    "Coefficient of the treatment variable have been reduced\n",
    "The othet variables are not significant enough and hence we are not able to understand the impact of control variables*"
   ]
  },
  {
   "cell_type": "markdown",
   "metadata": {
    "ein.tags": "worksheet-0",
    "slideshow": {
     "slide_type": "-"
    }
   },
   "source": [
    "### 2.4 Difference-in-Difference, version 1 (tabular)\n",
    "\n",
    "Thus far, we have computed the effects of Progresa by estimating the\n",
    "difference in 1998 enrollment rates across villages. An alternative\n",
    "approach would be to compute the treatment effect using a\n",
    "difference-in-differences framework.\n",
    "\n",
    "Begin by estimating the average treatment effects of the program for poor households using data from 1997 and 1998. Specifically, calculate:\n",
    "\n",
    "a) the difference (between 1997 and 1998) in enrollment rates among poor households in treated villages\n",
    "\n",
    "b) the difference (between 1997 and 1998) in enrollment rates among poor households in control villages.\n",
    "\n",
    "c) The difference between these two differences is your estimate.\n",
    "\n",
    "* What is your estimate of the impact, and how does it compare to your earlier (simple difference) results?\n",
    "\n",
    "* What is the counterfactual assumption underlying this estimate? \n"
   ]
  },
  {
   "cell_type": "code",
   "execution_count": 44,
   "metadata": {
    "autoscroll": false,
    "ein.hycell": false,
    "ein.tags": "worksheet-0",
    "slideshow": {
     "slide_type": "-"
    }
   },
   "outputs": [
    {
     "name": "stdout",
     "output_type": "stream",
     "text": [
      "0.031331280319323085\n"
     ]
    }
   ],
   "source": [
    "# Your code here\n",
    "difference_treatment = treatment_poor_98.sc.mean() - treatment_poor_97.sc.mean() \n",
    "difference_control =  control_poor_98.sc.mean() - control_poor_97.sc.mean()\n",
    "\n",
    "diff_in_diff = difference_treatment - difference_control\n",
    "\n",
    "print(diff_in_diff)"
   ]
  },
  {
   "cell_type": "markdown",
   "metadata": {
    "ein.tags": "worksheet-0",
    "slideshow": {
     "slide_type": "-"
    }
   },
   "source": [
    "\n",
    "The result is less than the previous regression. \n",
    "There is a change in the treatment group estimate"
   ]
  },
  {
   "cell_type": "markdown",
   "metadata": {
    "ein.tags": "worksheet-0",
    "slideshow": {
     "slide_type": "-"
    }
   },
   "source": [
    "### 2.5 Difference-in-Difference, version 2 (regression)\n",
    "\n",
    "Now use a regression specification to estimate the average treatment\n",
    "effects of the program in a difference-in-differences\n",
    "framework. Include at least 5 control variables.\n",
    "\n",
    "* What is your estimate of the impact of Progresa? Be very specific in\n",
    "  interpreting your coefficients and standard errors, and make sure to\n",
    "  specify exactly what units you are measuring and estimating.\n",
    "\n",
    "* How do these estimates of the treatment effect compare to the\n",
    "  estimates based on the simple difference?\n",
    "\n",
    "* How do these estimates compare to the difference-in-difference\n",
    "  estimates from 2.4 above? What accounts for these differences?\n",
    "\n",
    "* What is the counterfactual assumption underlying this regression? "
   ]
  },
  {
   "cell_type": "code",
   "execution_count": 45,
   "metadata": {
    "autoscroll": false,
    "ein.hycell": false,
    "ein.tags": "worksheet-0",
    "slideshow": {
     "slide_type": "-"
    }
   },
   "outputs": [
    {
     "data": {
      "text/html": [
       "<table class=\"simpletable\">\n",
       "<caption>OLS Regression Results</caption>\n",
       "<tr>\n",
       "  <th>Dep. Variable:</th>           <td>sc</td>        <th>  R-squared:         </th> <td>   0.279</td> \n",
       "</tr>\n",
       "<tr>\n",
       "  <th>Model:</th>                   <td>OLS</td>       <th>  Adj. R-squared:    </th> <td>   0.279</td> \n",
       "</tr>\n",
       "<tr>\n",
       "  <th>Method:</th>             <td>Least Squares</td>  <th>  F-statistic:       </th> <td>   2756.</td> \n",
       "</tr>\n",
       "<tr>\n",
       "  <th>Date:</th>             <td>Tue, 11 Jun 2019</td> <th>  Prob (F-statistic):</th>  <td>  0.00</td>  \n",
       "</tr>\n",
       "<tr>\n",
       "  <th>Time:</th>                 <td>22:02:27</td>     <th>  Log-Likelihood:    </th> <td> -16139.</td> \n",
       "</tr>\n",
       "<tr>\n",
       "  <th>No. Observations:</th>      <td> 56893</td>      <th>  AIC:               </th> <td>3.230e+04</td>\n",
       "</tr>\n",
       "<tr>\n",
       "  <th>Df Residuals:</th>          <td> 56884</td>      <th>  BIC:               </th> <td>3.238e+04</td>\n",
       "</tr>\n",
       "<tr>\n",
       "  <th>Df Model:</th>              <td>     8</td>      <th>                     </th>     <td> </td>    \n",
       "</tr>\n",
       "<tr>\n",
       "  <th>Covariance Type:</th>      <td>nonrobust</td>    <th>                     </th>     <td> </td>    \n",
       "</tr>\n",
       "</table>\n",
       "<table class=\"simpletable\">\n",
       "<tr>\n",
       "               <td></td>                  <th>coef</th>     <th>std err</th>      <th>t</th>      <th>P>|t|</th>  <th>[0.025</th>    <th>0.975]</th>  \n",
       "</tr>\n",
       "<tr>\n",
       "  <th>Intercept</th>                   <td>    1.4331</td> <td>    0.007</td> <td>  198.380</td> <td> 0.000</td> <td>    1.419</td> <td>    1.447</td>\n",
       "</tr>\n",
       "<tr>\n",
       "  <th>progresa[T.basal]</th>           <td>    0.0009</td> <td>    0.004</td> <td>    0.245</td> <td> 0.806</td> <td>   -0.006</td> <td>    0.008</td>\n",
       "</tr>\n",
       "<tr>\n",
       "  <th>post[T.1]</th>                   <td>    0.0323</td> <td>    0.004</td> <td>    7.334</td> <td> 0.000</td> <td>    0.024</td> <td>    0.041</td>\n",
       "</tr>\n",
       "<tr>\n",
       "  <th>progresa[T.basal]:post[T.1]</th> <td>    0.0305</td> <td>    0.006</td> <td>    5.466</td> <td> 0.000</td> <td>    0.020</td> <td>    0.041</td>\n",
       "</tr>\n",
       "<tr>\n",
       "  <th>age</th>                         <td>   -0.0653</td> <td>    0.000</td> <td> -142.654</td> <td> 0.000</td> <td>   -0.066</td> <td>   -0.064</td>\n",
       "</tr>\n",
       "<tr>\n",
       "  <th>dist_sec</th>                    <td>   -0.0094</td> <td>    0.001</td> <td>  -14.825</td> <td> 0.000</td> <td>   -0.011</td> <td>   -0.008</td>\n",
       "</tr>\n",
       "<tr>\n",
       "  <th>sex</th>                         <td>    0.0332</td> <td>    0.003</td> <td>   12.303</td> <td> 0.000</td> <td>    0.028</td> <td>    0.038</td>\n",
       "</tr>\n",
       "<tr>\n",
       "  <th>hohedu</th>                      <td>    0.0071</td> <td>    0.001</td> <td>   13.116</td> <td> 0.000</td> <td>    0.006</td> <td>    0.008</td>\n",
       "</tr>\n",
       "<tr>\n",
       "  <th>min_dist</th>                    <td>    0.0007</td> <td> 3.23e-05</td> <td>   21.943</td> <td> 0.000</td> <td>    0.001</td> <td>    0.001</td>\n",
       "</tr>\n",
       "</table>\n",
       "<table class=\"simpletable\">\n",
       "<tr>\n",
       "  <th>Omnibus:</th>       <td>5494.032</td> <th>  Durbin-Watson:     </th> <td>   1.486</td>\n",
       "</tr>\n",
       "<tr>\n",
       "  <th>Prob(Omnibus):</th>  <td> 0.000</td>  <th>  Jarque-Bera (JB):  </th> <td>7259.719</td>\n",
       "</tr>\n",
       "<tr>\n",
       "  <th>Skew:</th>           <td>-0.873</td>  <th>  Prob(JB):          </th> <td>    0.00</td>\n",
       "</tr>\n",
       "<tr>\n",
       "  <th>Kurtosis:</th>       <td> 3.127</td>  <th>  Cond. No.          </th> <td>    693.</td>\n",
       "</tr>\n",
       "</table>"
      ],
      "text/plain": [
       "<class 'statsmodels.iolib.summary.Summary'>\n",
       "\"\"\"\n",
       "                            OLS Regression Results                            \n",
       "==============================================================================\n",
       "Dep. Variable:                     sc   R-squared:                       0.279\n",
       "Model:                            OLS   Adj. R-squared:                  0.279\n",
       "Method:                 Least Squares   F-statistic:                     2756.\n",
       "Date:                Tue, 11 Jun 2019   Prob (F-statistic):               0.00\n",
       "Time:                        22:02:27   Log-Likelihood:                -16139.\n",
       "No. Observations:               56893   AIC:                         3.230e+04\n",
       "Df Residuals:                   56884   BIC:                         3.238e+04\n",
       "Df Model:                           8                                         \n",
       "Covariance Type:            nonrobust                                         \n",
       "===============================================================================================\n",
       "                                  coef    std err          t      P>|t|      [0.025      0.975]\n",
       "-----------------------------------------------------------------------------------------------\n",
       "Intercept                       1.4331      0.007    198.380      0.000       1.419       1.447\n",
       "progresa[T.basal]               0.0009      0.004      0.245      0.806      -0.006       0.008\n",
       "post[T.1]                       0.0323      0.004      7.334      0.000       0.024       0.041\n",
       "progresa[T.basal]:post[T.1]     0.0305      0.006      5.466      0.000       0.020       0.041\n",
       "age                            -0.0653      0.000   -142.654      0.000      -0.066      -0.064\n",
       "dist_sec                       -0.0094      0.001    -14.825      0.000      -0.011      -0.008\n",
       "sex                             0.0332      0.003     12.303      0.000       0.028       0.038\n",
       "hohedu                          0.0071      0.001     13.116      0.000       0.006       0.008\n",
       "min_dist                        0.0007   3.23e-05     21.943      0.000       0.001       0.001\n",
       "==============================================================================\n",
       "Omnibus:                     5494.032   Durbin-Watson:                   1.486\n",
       "Prob(Omnibus):                  0.000   Jarque-Bera (JB):             7259.719\n",
       "Skew:                          -0.873   Prob(JB):                         0.00\n",
       "Kurtosis:                       3.127   Cond. No.                         693.\n",
       "==============================================================================\n",
       "\n",
       "Warnings:\n",
       "[1] Standard Errors assume that the covariance matrix of the errors is correctly specified.\n",
       "\"\"\""
      ]
     },
     "execution_count": 45,
     "metadata": {},
     "output_type": "execute_result"
    }
   ],
   "source": [
    "# Your code here\n",
    "#selecting those rows where poor =='pobre and dropping null values\n",
    "data_poor=progress_a[progress_a['poor']=='pobre'].dropna()\n",
    "data_poor['post'] = np.where(data_poor['year']==97, '0', '1')\n",
    "\n",
    "diff_in_diff2 = smf.ols(formula=\"sc ~ progresa + post + progresa:post + age + dist_sec + sex + hohedu + min_dist \", data=data_poor, missing='drop').fit()\n",
    "diff_in_diff2.summary()"
   ]
  },
  {
   "cell_type": "markdown",
   "metadata": {
    "ein.tags": "worksheet-0",
    "slideshow": {
     "slide_type": "-"
    }
   },
   "source": [
    "*Discuss your results here*\n",
    "The progresa value is 0.0305. P value is less than 0.05 which means that it is statistically significant. \n",
    "When we see the progresa estimate without interaction, the value is not that statistically significant. Hence we can assume that the treatment group did increase the likelihood of enrollment.\n",
    "\n",
    "The presence and interaction of other variables may have caused a slight decrease in the estimate\n",
    "Diff in diff between treatment and control would have not existed had it not been for the treatment group.\n"
   ]
  },
  {
   "cell_type": "markdown",
   "metadata": {
    "ein.tags": "worksheet-0",
    "slideshow": {
     "slide_type": "-"
    }
   },
   "source": [
    "### 2.6 Summary\n",
    "\n",
    "* Based on all the analysis you have undertaken to date, do you\n",
    "  believe that Progresa had a causal impact on the enrollment rates of\n",
    "  poor households in Mexico?  Explain by referring to the methods and\n",
    "  results above."
   ]
  },
  {
   "cell_type": "markdown",
   "metadata": {
    "ein.tags": "worksheet-0",
    "slideshow": {
     "slide_type": "-"
    }
   },
   "source": [
    "\n",
    "Yes progressa had some impact on the enrollment rate. However we cannot say with confidence how much of an impact the progresa variable had after running different tests."
   ]
  }
 ],
 "metadata": {
  "kernelspec": {
   "display_name": "Python 3",
   "language": "python",
   "name": "python3"
  },
  "language_info": {
   "codemirror_mode": {
    "name": "ipython",
    "version": 3
   },
   "file_extension": ".py",
   "mimetype": "text/x-python",
   "name": "python",
   "nbconvert_exporter": "python",
   "pygments_lexer": "ipython3",
   "version": "3.6.4"
  },
  "name": "ps03_progresa.ipynb"
 },
 "nbformat": 4,
 "nbformat_minor": 1
}
