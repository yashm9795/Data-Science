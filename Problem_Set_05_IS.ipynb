{
 "cells": [
  {
   "cell_type": "markdown",
   "metadata": {
    "collapsed": true
   },
   "source": [
    "## Problem Set 5\n",
    "\n",
    "\n"
   ]
  },
  {
   "cell_type": "markdown",
   "metadata": {},
   "source": [
    "### Classification\n",
    "\n",
    "### IMT 574 - Machine Learning & Econometrics\n",
    "\n",
    "#### Yash Mehta"
   ]
  },
  {
   "cell_type": "markdown",
   "metadata": {},
   "source": [
    "World Values Survey Data\n"
   ]
  },
  {
   "cell_type": "code",
   "execution_count": 1,
   "metadata": {},
   "outputs": [],
   "source": [
    "import pandas as pd\n",
    "import numpy as np\n",
    "import matplotlib.pyplot as plt\n",
    "from sklearn.model_selection import train_test_split\n",
    "from sklearn.neighbors import KNeighborsClassifier\n",
    "from sklearn.metrics import confusion_matrix, accuracy_score, auc\n",
    "from sklearn.linear_model import LogisticRegression\n",
    "from sklearn.svm import SVC"
   ]
  },
  {
   "cell_type": "markdown",
   "metadata": {},
   "source": [
    "## Explore & Prepare the Data"
   ]
  },
  {
   "cell_type": "markdown",
   "metadata": {},
   "source": [
    "### Loading the Data"
   ]
  },
  {
   "cell_type": "code",
   "execution_count": 11,
   "metadata": {},
   "outputs": [],
   "source": [
    "data_wvs = pd.read_csv(\"wvs.csv\", sep='\\t')"
   ]
  },
  {
   "cell_type": "code",
   "execution_count": 12,
   "metadata": {},
   "outputs": [
    {
     "data": {
      "text/html": [
       "<div>\n",
       "<style scoped>\n",
       "    .dataframe tbody tr th:only-of-type {\n",
       "        vertical-align: middle;\n",
       "    }\n",
       "\n",
       "    .dataframe tbody tr th {\n",
       "        vertical-align: top;\n",
       "    }\n",
       "\n",
       "    .dataframe thead th {\n",
       "        text-align: right;\n",
       "    }\n",
       "</style>\n",
       "<table border=\"1\" class=\"dataframe\">\n",
       "  <thead>\n",
       "    <tr style=\"text-align: right;\">\n",
       "      <th></th>\n",
       "      <th>V2</th>\n",
       "      <th>V4</th>\n",
       "      <th>V5</th>\n",
       "      <th>V6</th>\n",
       "      <th>V7</th>\n",
       "      <th>V8</th>\n",
       "      <th>V9</th>\n",
       "      <th>V10</th>\n",
       "      <th>V11</th>\n",
       "      <th>V12</th>\n",
       "      <th>...</th>\n",
       "      <th>MN_228S8</th>\n",
       "      <th>MN_229A</th>\n",
       "      <th>MN_230A</th>\n",
       "      <th>MN_233A</th>\n",
       "      <th>MN_237B1</th>\n",
       "      <th>MN_249A1</th>\n",
       "      <th>MN_249A3</th>\n",
       "      <th>I_RELIGBEL</th>\n",
       "      <th>I_NORM1</th>\n",
       "      <th>I_VOICE1</th>\n",
       "    </tr>\n",
       "  </thead>\n",
       "  <tbody>\n",
       "    <tr>\n",
       "      <th>0</th>\n",
       "      <td>12</td>\n",
       "      <td>1</td>\n",
       "      <td>1</td>\n",
       "      <td>1</td>\n",
       "      <td>-2</td>\n",
       "      <td>1</td>\n",
       "      <td>1</td>\n",
       "      <td>2</td>\n",
       "      <td>1</td>\n",
       "      <td>1</td>\n",
       "      <td>...</td>\n",
       "      <td>3</td>\n",
       "      <td>-3</td>\n",
       "      <td>-3</td>\n",
       "      <td>-3</td>\n",
       "      <td>-3</td>\n",
       "      <td>1</td>\n",
       "      <td>1</td>\n",
       "      <td>0.0</td>\n",
       "      <td>1.0</td>\n",
       "      <td>0.00</td>\n",
       "    </tr>\n",
       "    <tr>\n",
       "      <th>1</th>\n",
       "      <td>12</td>\n",
       "      <td>1</td>\n",
       "      <td>2</td>\n",
       "      <td>3</td>\n",
       "      <td>4</td>\n",
       "      <td>2</td>\n",
       "      <td>2</td>\n",
       "      <td>2</td>\n",
       "      <td>2</td>\n",
       "      <td>2</td>\n",
       "      <td>...</td>\n",
       "      <td>3</td>\n",
       "      <td>-3</td>\n",
       "      <td>-3</td>\n",
       "      <td>-3</td>\n",
       "      <td>-3</td>\n",
       "      <td>2</td>\n",
       "      <td>-1</td>\n",
       "      <td>0.0</td>\n",
       "      <td>1.0</td>\n",
       "      <td>0.66</td>\n",
       "    </tr>\n",
       "    <tr>\n",
       "      <th>2</th>\n",
       "      <td>12</td>\n",
       "      <td>1</td>\n",
       "      <td>3</td>\n",
       "      <td>2</td>\n",
       "      <td>4</td>\n",
       "      <td>2</td>\n",
       "      <td>1</td>\n",
       "      <td>2</td>\n",
       "      <td>2</td>\n",
       "      <td>2</td>\n",
       "      <td>...</td>\n",
       "      <td>4</td>\n",
       "      <td>1</td>\n",
       "      <td>1</td>\n",
       "      <td>2</td>\n",
       "      <td>-3</td>\n",
       "      <td>1</td>\n",
       "      <td>1</td>\n",
       "      <td>0.0</td>\n",
       "      <td>1.0</td>\n",
       "      <td>0.33</td>\n",
       "    </tr>\n",
       "    <tr>\n",
       "      <th>3</th>\n",
       "      <td>12</td>\n",
       "      <td>1</td>\n",
       "      <td>1</td>\n",
       "      <td>3</td>\n",
       "      <td>4</td>\n",
       "      <td>3</td>\n",
       "      <td>1</td>\n",
       "      <td>2</td>\n",
       "      <td>1</td>\n",
       "      <td>2</td>\n",
       "      <td>...</td>\n",
       "      <td>2</td>\n",
       "      <td>2</td>\n",
       "      <td>1</td>\n",
       "      <td>2</td>\n",
       "      <td>-3</td>\n",
       "      <td>1</td>\n",
       "      <td>2</td>\n",
       "      <td>0.0</td>\n",
       "      <td>1.0</td>\n",
       "      <td>0.00</td>\n",
       "    </tr>\n",
       "    <tr>\n",
       "      <th>4</th>\n",
       "      <td>12</td>\n",
       "      <td>1</td>\n",
       "      <td>1</td>\n",
       "      <td>1</td>\n",
       "      <td>2</td>\n",
       "      <td>1</td>\n",
       "      <td>1</td>\n",
       "      <td>1</td>\n",
       "      <td>3</td>\n",
       "      <td>2</td>\n",
       "      <td>...</td>\n",
       "      <td>2</td>\n",
       "      <td>2</td>\n",
       "      <td>1</td>\n",
       "      <td>2</td>\n",
       "      <td>-3</td>\n",
       "      <td>1</td>\n",
       "      <td>2</td>\n",
       "      <td>0.0</td>\n",
       "      <td>1.0</td>\n",
       "      <td>0.66</td>\n",
       "    </tr>\n",
       "  </tbody>\n",
       "</table>\n",
       "<p>5 rows × 328 columns</p>\n",
       "</div>"
      ],
      "text/plain": [
       "   V2  V4  V5  V6  V7  V8  V9  V10  V11  V12    ...     MN_228S8  MN_229A  \\\n",
       "0  12   1   1   1  -2   1   1    2    1    1    ...            3       -3   \n",
       "1  12   1   2   3   4   2   2    2    2    2    ...            3       -3   \n",
       "2  12   1   3   2   4   2   1    2    2    2    ...            4        1   \n",
       "3  12   1   1   3   4   3   1    2    1    2    ...            2        2   \n",
       "4  12   1   1   1   2   1   1    1    3    2    ...            2        2   \n",
       "\n",
       "   MN_230A  MN_233A  MN_237B1  MN_249A1  MN_249A3  I_RELIGBEL  I_NORM1  \\\n",
       "0       -3       -3        -3         1         1         0.0      1.0   \n",
       "1       -3       -3        -3         2        -1         0.0      1.0   \n",
       "2        1        2        -3         1         1         0.0      1.0   \n",
       "3        1        2        -3         1         2         0.0      1.0   \n",
       "4        1        2        -3         1         2         0.0      1.0   \n",
       "\n",
       "   I_VOICE1  \n",
       "0      0.00  \n",
       "1      0.66  \n",
       "2      0.33  \n",
       "3      0.00  \n",
       "4      0.66  \n",
       "\n",
       "[5 rows x 328 columns]"
      ]
     },
     "execution_count": 12,
     "metadata": {},
     "output_type": "execute_result"
    }
   ],
   "source": [
    "data_wvs.head()"
   ]
  },
  {
   "cell_type": "markdown",
   "metadata": {},
   "source": [
    "### Create a summary table"
   ]
  },
  {
   "cell_type": "code",
   "execution_count": 83,
   "metadata": {},
   "outputs": [
    {
     "data": {
      "text/html": [
       "<div>\n",
       "<style scoped>\n",
       "    .dataframe tbody tr th:only-of-type {\n",
       "        vertical-align: middle;\n",
       "    }\n",
       "\n",
       "    .dataframe tbody tr th {\n",
       "        vertical-align: top;\n",
       "    }\n",
       "\n",
       "    .dataframe thead th {\n",
       "        text-align: right;\n",
       "    }\n",
       "</style>\n",
       "<table border=\"1\" class=\"dataframe\">\n",
       "  <thead>\n",
       "    <tr style=\"text-align: right;\">\n",
       "      <th></th>\n",
       "      <th>country</th>\n",
       "      <th>V4</th>\n",
       "      <th>V5</th>\n",
       "      <th>V6</th>\n",
       "      <th>V7</th>\n",
       "      <th>V8</th>\n",
       "      <th>V9</th>\n",
       "      <th>V10</th>\n",
       "      <th>V11</th>\n",
       "      <th>V12</th>\n",
       "      <th>...</th>\n",
       "      <th>MN_229A</th>\n",
       "      <th>MN_230A</th>\n",
       "      <th>MN_233A</th>\n",
       "      <th>MN_237B1</th>\n",
       "      <th>MN_249A1</th>\n",
       "      <th>MN_249A3</th>\n",
       "      <th>I_RELIGBEL</th>\n",
       "      <th>I_NORM1</th>\n",
       "      <th>I_VOICE1</th>\n",
       "      <th>abortion</th>\n",
       "    </tr>\n",
       "  </thead>\n",
       "  <tbody>\n",
       "    <tr>\n",
       "      <th>count</th>\n",
       "      <td>79267.000000</td>\n",
       "      <td>79267.000000</td>\n",
       "      <td>79267.000000</td>\n",
       "      <td>79267.000000</td>\n",
       "      <td>79267.000000</td>\n",
       "      <td>79267.000000</td>\n",
       "      <td>79267.000000</td>\n",
       "      <td>79267.000000</td>\n",
       "      <td>79267.000000</td>\n",
       "      <td>79267.000000</td>\n",
       "      <td>...</td>\n",
       "      <td>79267.000000</td>\n",
       "      <td>79267.000000</td>\n",
       "      <td>79267.000000</td>\n",
       "      <td>79267.000000</td>\n",
       "      <td>79267.000000</td>\n",
       "      <td>79267.000000</td>\n",
       "      <td>79267.000000</td>\n",
       "      <td>79267.000000</td>\n",
       "      <td>79267.000000</td>\n",
       "      <td>79267.000000</td>\n",
       "    </tr>\n",
       "    <tr>\n",
       "      <th>mean</th>\n",
       "      <td>463.059054</td>\n",
       "      <td>1.097935</td>\n",
       "      <td>1.667945</td>\n",
       "      <td>1.851767</td>\n",
       "      <td>2.571776</td>\n",
       "      <td>1.471091</td>\n",
       "      <td>1.856195</td>\n",
       "      <td>1.811826</td>\n",
       "      <td>2.065412</td>\n",
       "      <td>1.479632</td>\n",
       "      <td>...</td>\n",
       "      <td>-3.512319</td>\n",
       "      <td>-3.636949</td>\n",
       "      <td>-3.579712</td>\n",
       "      <td>-3.858213</td>\n",
       "      <td>-3.578160</td>\n",
       "      <td>-3.582449</td>\n",
       "      <td>0.315238</td>\n",
       "      <td>0.467017</td>\n",
       "      <td>0.337433</td>\n",
       "      <td>0.363733</td>\n",
       "    </tr>\n",
       "    <tr>\n",
       "      <th>std</th>\n",
       "      <td>247.769472</td>\n",
       "      <td>0.392617</td>\n",
       "      <td>0.761947</td>\n",
       "      <td>0.884780</td>\n",
       "      <td>1.067100</td>\n",
       "      <td>0.917788</td>\n",
       "      <td>1.087241</td>\n",
       "      <td>0.761601</td>\n",
       "      <td>0.867091</td>\n",
       "      <td>0.503287</td>\n",
       "      <td>...</td>\n",
       "      <td>1.574501</td>\n",
       "      <td>1.325860</td>\n",
       "      <td>1.580421</td>\n",
       "      <td>0.627439</td>\n",
       "      <td>1.421441</td>\n",
       "      <td>1.413258</td>\n",
       "      <td>0.464614</td>\n",
       "      <td>0.498914</td>\n",
       "      <td>0.316637</td>\n",
       "      <td>0.481076</td>\n",
       "    </tr>\n",
       "    <tr>\n",
       "      <th>min</th>\n",
       "      <td>12.000000</td>\n",
       "      <td>-5.000000</td>\n",
       "      <td>-5.000000</td>\n",
       "      <td>-5.000000</td>\n",
       "      <td>-5.000000</td>\n",
       "      <td>-5.000000</td>\n",
       "      <td>-5.000000</td>\n",
       "      <td>-5.000000</td>\n",
       "      <td>-5.000000</td>\n",
       "      <td>-5.000000</td>\n",
       "      <td>...</td>\n",
       "      <td>-4.000000</td>\n",
       "      <td>-4.000000</td>\n",
       "      <td>-4.000000</td>\n",
       "      <td>-4.000000</td>\n",
       "      <td>-5.000000</td>\n",
       "      <td>-5.000000</td>\n",
       "      <td>0.000000</td>\n",
       "      <td>0.000000</td>\n",
       "      <td>0.000000</td>\n",
       "      <td>0.000000</td>\n",
       "    </tr>\n",
       "    <tr>\n",
       "      <th>25%</th>\n",
       "      <td>275.000000</td>\n",
       "      <td>1.000000</td>\n",
       "      <td>1.000000</td>\n",
       "      <td>1.000000</td>\n",
       "      <td>2.000000</td>\n",
       "      <td>1.000000</td>\n",
       "      <td>1.000000</td>\n",
       "      <td>1.000000</td>\n",
       "      <td>1.000000</td>\n",
       "      <td>1.000000</td>\n",
       "      <td>...</td>\n",
       "      <td>-4.000000</td>\n",
       "      <td>-4.000000</td>\n",
       "      <td>-4.000000</td>\n",
       "      <td>-4.000000</td>\n",
       "      <td>-4.000000</td>\n",
       "      <td>-4.000000</td>\n",
       "      <td>0.000000</td>\n",
       "      <td>0.000000</td>\n",
       "      <td>0.000000</td>\n",
       "      <td>0.000000</td>\n",
       "    </tr>\n",
       "    <tr>\n",
       "      <th>50%</th>\n",
       "      <td>434.000000</td>\n",
       "      <td>1.000000</td>\n",
       "      <td>2.000000</td>\n",
       "      <td>2.000000</td>\n",
       "      <td>3.000000</td>\n",
       "      <td>1.000000</td>\n",
       "      <td>1.000000</td>\n",
       "      <td>2.000000</td>\n",
       "      <td>2.000000</td>\n",
       "      <td>1.000000</td>\n",
       "      <td>...</td>\n",
       "      <td>-4.000000</td>\n",
       "      <td>-4.000000</td>\n",
       "      <td>-4.000000</td>\n",
       "      <td>-4.000000</td>\n",
       "      <td>-4.000000</td>\n",
       "      <td>-4.000000</td>\n",
       "      <td>0.000000</td>\n",
       "      <td>0.000000</td>\n",
       "      <td>0.330000</td>\n",
       "      <td>0.000000</td>\n",
       "    </tr>\n",
       "    <tr>\n",
       "      <th>75%</th>\n",
       "      <td>702.000000</td>\n",
       "      <td>1.000000</td>\n",
       "      <td>2.000000</td>\n",
       "      <td>2.000000</td>\n",
       "      <td>3.000000</td>\n",
       "      <td>2.000000</td>\n",
       "      <td>3.000000</td>\n",
       "      <td>2.000000</td>\n",
       "      <td>3.000000</td>\n",
       "      <td>2.000000</td>\n",
       "      <td>...</td>\n",
       "      <td>-4.000000</td>\n",
       "      <td>-4.000000</td>\n",
       "      <td>-4.000000</td>\n",
       "      <td>-4.000000</td>\n",
       "      <td>-4.000000</td>\n",
       "      <td>-4.000000</td>\n",
       "      <td>1.000000</td>\n",
       "      <td>1.000000</td>\n",
       "      <td>0.660000</td>\n",
       "      <td>1.000000</td>\n",
       "    </tr>\n",
       "    <tr>\n",
       "      <th>max</th>\n",
       "      <td>887.000000</td>\n",
       "      <td>4.000000</td>\n",
       "      <td>4.000000</td>\n",
       "      <td>4.000000</td>\n",
       "      <td>4.000000</td>\n",
       "      <td>4.000000</td>\n",
       "      <td>4.000000</td>\n",
       "      <td>4.000000</td>\n",
       "      <td>4.000000</td>\n",
       "      <td>2.000000</td>\n",
       "      <td>...</td>\n",
       "      <td>2.000000</td>\n",
       "      <td>2.000000</td>\n",
       "      <td>5.000000</td>\n",
       "      <td>1.000000</td>\n",
       "      <td>2.000000</td>\n",
       "      <td>2.000000</td>\n",
       "      <td>1.000000</td>\n",
       "      <td>1.000000</td>\n",
       "      <td>1.000000</td>\n",
       "      <td>1.000000</td>\n",
       "    </tr>\n",
       "  </tbody>\n",
       "</table>\n",
       "<p>8 rows × 329 columns</p>\n",
       "</div>"
      ],
      "text/plain": [
       "            country            V4            V5            V6            V7  \\\n",
       "count  79267.000000  79267.000000  79267.000000  79267.000000  79267.000000   \n",
       "mean     463.059054      1.097935      1.667945      1.851767      2.571776   \n",
       "std      247.769472      0.392617      0.761947      0.884780      1.067100   \n",
       "min       12.000000     -5.000000     -5.000000     -5.000000     -5.000000   \n",
       "25%      275.000000      1.000000      1.000000      1.000000      2.000000   \n",
       "50%      434.000000      1.000000      2.000000      2.000000      3.000000   \n",
       "75%      702.000000      1.000000      2.000000      2.000000      3.000000   \n",
       "max      887.000000      4.000000      4.000000      4.000000      4.000000   \n",
       "\n",
       "                 V8            V9           V10           V11           V12  \\\n",
       "count  79267.000000  79267.000000  79267.000000  79267.000000  79267.000000   \n",
       "mean       1.471091      1.856195      1.811826      2.065412      1.479632   \n",
       "std        0.917788      1.087241      0.761601      0.867091      0.503287   \n",
       "min       -5.000000     -5.000000     -5.000000     -5.000000     -5.000000   \n",
       "25%        1.000000      1.000000      1.000000      1.000000      1.000000   \n",
       "50%        1.000000      1.000000      2.000000      2.000000      1.000000   \n",
       "75%        2.000000      3.000000      2.000000      3.000000      2.000000   \n",
       "max        4.000000      4.000000      4.000000      4.000000      2.000000   \n",
       "\n",
       "           ...            MN_229A       MN_230A       MN_233A      MN_237B1  \\\n",
       "count      ...       79267.000000  79267.000000  79267.000000  79267.000000   \n",
       "mean       ...          -3.512319     -3.636949     -3.579712     -3.858213   \n",
       "std        ...           1.574501      1.325860      1.580421      0.627439   \n",
       "min        ...          -4.000000     -4.000000     -4.000000     -4.000000   \n",
       "25%        ...          -4.000000     -4.000000     -4.000000     -4.000000   \n",
       "50%        ...          -4.000000     -4.000000     -4.000000     -4.000000   \n",
       "75%        ...          -4.000000     -4.000000     -4.000000     -4.000000   \n",
       "max        ...           2.000000      2.000000      5.000000      1.000000   \n",
       "\n",
       "           MN_249A1      MN_249A3    I_RELIGBEL       I_NORM1      I_VOICE1  \\\n",
       "count  79267.000000  79267.000000  79267.000000  79267.000000  79267.000000   \n",
       "mean      -3.578160     -3.582449      0.315238      0.467017      0.337433   \n",
       "std        1.421441      1.413258      0.464614      0.498914      0.316637   \n",
       "min       -5.000000     -5.000000      0.000000      0.000000      0.000000   \n",
       "25%       -4.000000     -4.000000      0.000000      0.000000      0.000000   \n",
       "50%       -4.000000     -4.000000      0.000000      0.000000      0.330000   \n",
       "75%       -4.000000     -4.000000      1.000000      1.000000      0.660000   \n",
       "max        2.000000      2.000000      1.000000      1.000000      1.000000   \n",
       "\n",
       "           abortion  \n",
       "count  79267.000000  \n",
       "mean       0.363733  \n",
       "std        0.481076  \n",
       "min        0.000000  \n",
       "25%        0.000000  \n",
       "50%        0.000000  \n",
       "75%        1.000000  \n",
       "max        1.000000  \n",
       "\n",
       "[8 rows x 329 columns]"
      ]
     },
     "execution_count": 83,
     "metadata": {},
     "output_type": "execute_result"
    }
   ],
   "source": [
    "data_wvs.shape\n"
   ]
  },
  {
   "cell_type": "code",
   "execution_count": 20,
   "metadata": {},
   "outputs": [],
   "source": [
    "#The total number of rows are 90350"
   ]
  },
  {
   "cell_type": "code",
   "execution_count": 84,
   "metadata": {},
   "outputs": [
    {
     "data": {
      "text/html": [
       "<div>\n",
       "<style scoped>\n",
       "    .dataframe tbody tr th:only-of-type {\n",
       "        vertical-align: middle;\n",
       "    }\n",
       "\n",
       "    .dataframe tbody tr th {\n",
       "        vertical-align: top;\n",
       "    }\n",
       "\n",
       "    .dataframe thead th {\n",
       "        text-align: right;\n",
       "    }\n",
       "</style>\n",
       "<table border=\"1\" class=\"dataframe\">\n",
       "  <thead>\n",
       "    <tr style=\"text-align: right;\">\n",
       "      <th></th>\n",
       "      <th>country</th>\n",
       "      <th>V4</th>\n",
       "      <th>V5</th>\n",
       "      <th>V6</th>\n",
       "      <th>V7</th>\n",
       "      <th>V8</th>\n",
       "      <th>V9</th>\n",
       "      <th>V10</th>\n",
       "      <th>V11</th>\n",
       "      <th>V12</th>\n",
       "      <th>...</th>\n",
       "      <th>MN_229A</th>\n",
       "      <th>MN_230A</th>\n",
       "      <th>MN_233A</th>\n",
       "      <th>MN_237B1</th>\n",
       "      <th>MN_249A1</th>\n",
       "      <th>MN_249A3</th>\n",
       "      <th>I_RELIGBEL</th>\n",
       "      <th>I_NORM1</th>\n",
       "      <th>I_VOICE1</th>\n",
       "      <th>abortion</th>\n",
       "    </tr>\n",
       "  </thead>\n",
       "  <tbody>\n",
       "    <tr>\n",
       "      <th>count</th>\n",
       "      <td>79267.000000</td>\n",
       "      <td>79267.000000</td>\n",
       "      <td>79267.000000</td>\n",
       "      <td>79267.000000</td>\n",
       "      <td>79267.000000</td>\n",
       "      <td>79267.000000</td>\n",
       "      <td>79267.000000</td>\n",
       "      <td>79267.000000</td>\n",
       "      <td>79267.000000</td>\n",
       "      <td>79267.000000</td>\n",
       "      <td>...</td>\n",
       "      <td>79267.000000</td>\n",
       "      <td>79267.000000</td>\n",
       "      <td>79267.000000</td>\n",
       "      <td>79267.000000</td>\n",
       "      <td>79267.000000</td>\n",
       "      <td>79267.000000</td>\n",
       "      <td>79267.000000</td>\n",
       "      <td>79267.000000</td>\n",
       "      <td>79267.000000</td>\n",
       "      <td>79267.000000</td>\n",
       "    </tr>\n",
       "    <tr>\n",
       "      <th>mean</th>\n",
       "      <td>463.059054</td>\n",
       "      <td>1.097935</td>\n",
       "      <td>1.667945</td>\n",
       "      <td>1.851767</td>\n",
       "      <td>2.571776</td>\n",
       "      <td>1.471091</td>\n",
       "      <td>1.856195</td>\n",
       "      <td>1.811826</td>\n",
       "      <td>2.065412</td>\n",
       "      <td>1.479632</td>\n",
       "      <td>...</td>\n",
       "      <td>-3.512319</td>\n",
       "      <td>-3.636949</td>\n",
       "      <td>-3.579712</td>\n",
       "      <td>-3.858213</td>\n",
       "      <td>-3.578160</td>\n",
       "      <td>-3.582449</td>\n",
       "      <td>0.315238</td>\n",
       "      <td>0.467017</td>\n",
       "      <td>0.337433</td>\n",
       "      <td>0.363733</td>\n",
       "    </tr>\n",
       "    <tr>\n",
       "      <th>std</th>\n",
       "      <td>247.769472</td>\n",
       "      <td>0.392617</td>\n",
       "      <td>0.761947</td>\n",
       "      <td>0.884780</td>\n",
       "      <td>1.067100</td>\n",
       "      <td>0.917788</td>\n",
       "      <td>1.087241</td>\n",
       "      <td>0.761601</td>\n",
       "      <td>0.867091</td>\n",
       "      <td>0.503287</td>\n",
       "      <td>...</td>\n",
       "      <td>1.574501</td>\n",
       "      <td>1.325860</td>\n",
       "      <td>1.580421</td>\n",
       "      <td>0.627439</td>\n",
       "      <td>1.421441</td>\n",
       "      <td>1.413258</td>\n",
       "      <td>0.464614</td>\n",
       "      <td>0.498914</td>\n",
       "      <td>0.316637</td>\n",
       "      <td>0.481076</td>\n",
       "    </tr>\n",
       "    <tr>\n",
       "      <th>min</th>\n",
       "      <td>12.000000</td>\n",
       "      <td>-5.000000</td>\n",
       "      <td>-5.000000</td>\n",
       "      <td>-5.000000</td>\n",
       "      <td>-5.000000</td>\n",
       "      <td>-5.000000</td>\n",
       "      <td>-5.000000</td>\n",
       "      <td>-5.000000</td>\n",
       "      <td>-5.000000</td>\n",
       "      <td>-5.000000</td>\n",
       "      <td>...</td>\n",
       "      <td>-4.000000</td>\n",
       "      <td>-4.000000</td>\n",
       "      <td>-4.000000</td>\n",
       "      <td>-4.000000</td>\n",
       "      <td>-5.000000</td>\n",
       "      <td>-5.000000</td>\n",
       "      <td>0.000000</td>\n",
       "      <td>0.000000</td>\n",
       "      <td>0.000000</td>\n",
       "      <td>0.000000</td>\n",
       "    </tr>\n",
       "    <tr>\n",
       "      <th>25%</th>\n",
       "      <td>275.000000</td>\n",
       "      <td>1.000000</td>\n",
       "      <td>1.000000</td>\n",
       "      <td>1.000000</td>\n",
       "      <td>2.000000</td>\n",
       "      <td>1.000000</td>\n",
       "      <td>1.000000</td>\n",
       "      <td>1.000000</td>\n",
       "      <td>1.000000</td>\n",
       "      <td>1.000000</td>\n",
       "      <td>...</td>\n",
       "      <td>-4.000000</td>\n",
       "      <td>-4.000000</td>\n",
       "      <td>-4.000000</td>\n",
       "      <td>-4.000000</td>\n",
       "      <td>-4.000000</td>\n",
       "      <td>-4.000000</td>\n",
       "      <td>0.000000</td>\n",
       "      <td>0.000000</td>\n",
       "      <td>0.000000</td>\n",
       "      <td>0.000000</td>\n",
       "    </tr>\n",
       "    <tr>\n",
       "      <th>50%</th>\n",
       "      <td>434.000000</td>\n",
       "      <td>1.000000</td>\n",
       "      <td>2.000000</td>\n",
       "      <td>2.000000</td>\n",
       "      <td>3.000000</td>\n",
       "      <td>1.000000</td>\n",
       "      <td>1.000000</td>\n",
       "      <td>2.000000</td>\n",
       "      <td>2.000000</td>\n",
       "      <td>1.000000</td>\n",
       "      <td>...</td>\n",
       "      <td>-4.000000</td>\n",
       "      <td>-4.000000</td>\n",
       "      <td>-4.000000</td>\n",
       "      <td>-4.000000</td>\n",
       "      <td>-4.000000</td>\n",
       "      <td>-4.000000</td>\n",
       "      <td>0.000000</td>\n",
       "      <td>0.000000</td>\n",
       "      <td>0.330000</td>\n",
       "      <td>0.000000</td>\n",
       "    </tr>\n",
       "    <tr>\n",
       "      <th>75%</th>\n",
       "      <td>702.000000</td>\n",
       "      <td>1.000000</td>\n",
       "      <td>2.000000</td>\n",
       "      <td>2.000000</td>\n",
       "      <td>3.000000</td>\n",
       "      <td>2.000000</td>\n",
       "      <td>3.000000</td>\n",
       "      <td>2.000000</td>\n",
       "      <td>3.000000</td>\n",
       "      <td>2.000000</td>\n",
       "      <td>...</td>\n",
       "      <td>-4.000000</td>\n",
       "      <td>-4.000000</td>\n",
       "      <td>-4.000000</td>\n",
       "      <td>-4.000000</td>\n",
       "      <td>-4.000000</td>\n",
       "      <td>-4.000000</td>\n",
       "      <td>1.000000</td>\n",
       "      <td>1.000000</td>\n",
       "      <td>0.660000</td>\n",
       "      <td>1.000000</td>\n",
       "    </tr>\n",
       "    <tr>\n",
       "      <th>max</th>\n",
       "      <td>887.000000</td>\n",
       "      <td>4.000000</td>\n",
       "      <td>4.000000</td>\n",
       "      <td>4.000000</td>\n",
       "      <td>4.000000</td>\n",
       "      <td>4.000000</td>\n",
       "      <td>4.000000</td>\n",
       "      <td>4.000000</td>\n",
       "      <td>4.000000</td>\n",
       "      <td>2.000000</td>\n",
       "      <td>...</td>\n",
       "      <td>2.000000</td>\n",
       "      <td>2.000000</td>\n",
       "      <td>5.000000</td>\n",
       "      <td>1.000000</td>\n",
       "      <td>2.000000</td>\n",
       "      <td>2.000000</td>\n",
       "      <td>1.000000</td>\n",
       "      <td>1.000000</td>\n",
       "      <td>1.000000</td>\n",
       "      <td>1.000000</td>\n",
       "    </tr>\n",
       "  </tbody>\n",
       "</table>\n",
       "<p>8 rows × 329 columns</p>\n",
       "</div>"
      ],
      "text/plain": [
       "            country            V4            V5            V6            V7  \\\n",
       "count  79267.000000  79267.000000  79267.000000  79267.000000  79267.000000   \n",
       "mean     463.059054      1.097935      1.667945      1.851767      2.571776   \n",
       "std      247.769472      0.392617      0.761947      0.884780      1.067100   \n",
       "min       12.000000     -5.000000     -5.000000     -5.000000     -5.000000   \n",
       "25%      275.000000      1.000000      1.000000      1.000000      2.000000   \n",
       "50%      434.000000      1.000000      2.000000      2.000000      3.000000   \n",
       "75%      702.000000      1.000000      2.000000      2.000000      3.000000   \n",
       "max      887.000000      4.000000      4.000000      4.000000      4.000000   \n",
       "\n",
       "                 V8            V9           V10           V11           V12  \\\n",
       "count  79267.000000  79267.000000  79267.000000  79267.000000  79267.000000   \n",
       "mean       1.471091      1.856195      1.811826      2.065412      1.479632   \n",
       "std        0.917788      1.087241      0.761601      0.867091      0.503287   \n",
       "min       -5.000000     -5.000000     -5.000000     -5.000000     -5.000000   \n",
       "25%        1.000000      1.000000      1.000000      1.000000      1.000000   \n",
       "50%        1.000000      1.000000      2.000000      2.000000      1.000000   \n",
       "75%        2.000000      3.000000      2.000000      3.000000      2.000000   \n",
       "max        4.000000      4.000000      4.000000      4.000000      2.000000   \n",
       "\n",
       "           ...            MN_229A       MN_230A       MN_233A      MN_237B1  \\\n",
       "count      ...       79267.000000  79267.000000  79267.000000  79267.000000   \n",
       "mean       ...          -3.512319     -3.636949     -3.579712     -3.858213   \n",
       "std        ...           1.574501      1.325860      1.580421      0.627439   \n",
       "min        ...          -4.000000     -4.000000     -4.000000     -4.000000   \n",
       "25%        ...          -4.000000     -4.000000     -4.000000     -4.000000   \n",
       "50%        ...          -4.000000     -4.000000     -4.000000     -4.000000   \n",
       "75%        ...          -4.000000     -4.000000     -4.000000     -4.000000   \n",
       "max        ...           2.000000      2.000000      5.000000      1.000000   \n",
       "\n",
       "           MN_249A1      MN_249A3    I_RELIGBEL       I_NORM1      I_VOICE1  \\\n",
       "count  79267.000000  79267.000000  79267.000000  79267.000000  79267.000000   \n",
       "mean      -3.578160     -3.582449      0.315238      0.467017      0.337433   \n",
       "std        1.421441      1.413258      0.464614      0.498914      0.316637   \n",
       "min       -5.000000     -5.000000      0.000000      0.000000      0.000000   \n",
       "25%       -4.000000     -4.000000      0.000000      0.000000      0.000000   \n",
       "50%       -4.000000     -4.000000      0.000000      0.000000      0.330000   \n",
       "75%       -4.000000     -4.000000      1.000000      1.000000      0.660000   \n",
       "max        2.000000      2.000000      1.000000      1.000000      1.000000   \n",
       "\n",
       "           abortion  \n",
       "count  79267.000000  \n",
       "mean       0.363733  \n",
       "std        0.481076  \n",
       "min        0.000000  \n",
       "25%        0.000000  \n",
       "50%        0.000000  \n",
       "75%        1.000000  \n",
       "max        1.000000  \n",
       "\n",
       "[8 rows x 329 columns]"
      ]
     },
     "execution_count": 84,
     "metadata": {},
     "output_type": "execute_result"
    }
   ],
   "source": [
    "data_wvs.describe()"
   ]
  },
  {
   "cell_type": "code",
   "execution_count": 16,
   "metadata": {},
   "outputs": [
    {
     "data": {
      "text/plain": [
       " 1     40227\n",
       " 5      9580\n",
       " 2      7896\n",
       " 3      6294\n",
       " 4      4497\n",
       " 6      4395\n",
       " 10     4067\n",
       " 7      3493\n",
       " 8      3397\n",
       "-1      2017\n",
       " 9      1896\n",
       "-4      1523\n",
       "-2      1045\n",
       "-5        23\n",
       "Name: V204, dtype: int64"
      ]
     },
     "execution_count": 16,
     "metadata": {},
     "output_type": "execute_result"
    }
   ],
   "source": [
    "data_wvs['V204'].value_counts()"
   ]
  },
  {
   "cell_type": "code",
   "execution_count": 17,
   "metadata": {},
   "outputs": [
    {
     "data": {
      "image/png": "[encoded data removed]",
      "text/plain": [
       "<matplotlib.figure.Figure at 0x1a0acac400>"
      ]
     },
     "metadata": {},
     "output_type": "display_data"
    }
   ],
   "source": [
    "plt.hist(data_wvs['V204'])\n",
    "plt.show()"
   ]
  },
  {
   "cell_type": "markdown",
   "metadata": {},
   "source": [
    "from the 90350 responses, almost 50% felt that abortion was not justifiable. Also 95% of the respondents had non missing value. "
   ]
  },
  {
   "cell_type": "markdown",
   "metadata": {},
   "source": [
    "### Remove Missings"
   ]
  },
  {
   "cell_type": "markdown",
   "metadata": {},
   "source": [
    "\n",
    "There are no negative values for V2 variable. Hence, no removals there. Below, we remove all negative values for V204."
   ]
  },
  {
   "cell_type": "code",
   "execution_count": 22,
   "metadata": {},
   "outputs": [],
   "source": [
    "data_wvs = data_wvs[data_wvs['V204']>0]"
   ]
  },
  {
   "cell_type": "code",
   "execution_count": 23,
   "metadata": {},
   "outputs": [
    {
     "data": {
      "text/plain": [
       "85742"
      ]
     },
     "execution_count": 23,
     "metadata": {},
     "output_type": "execute_result"
    }
   ],
   "source": [
    "len(data_wvs)"
   ]
  },
  {
   "cell_type": "markdown",
   "metadata": {},
   "source": [
    "We are left with 85742 rows after the removal of negative values from V204 & V2.\n",
    "\n"
   ]
  },
  {
   "cell_type": "code",
   "execution_count": 85,
   "metadata": {},
   "outputs": [],
   "source": [
    "#using the dropna function\n",
    "data_wvs.isnull().sum()\n",
    "\n",
    "data_wvs= data_wvs.dropna()"
   ]
  },
  {
   "cell_type": "code",
   "execution_count": 86,
   "metadata": {},
   "outputs": [
    {
     "data": {
      "text/plain": [
       "(79267, 329)"
      ]
     },
     "execution_count": 86,
     "metadata": {},
     "output_type": "execute_result"
    }
   ],
   "source": [
    "#using the shape function to get the number of rows and columns \n",
    "data_wvs.shape"
   ]
  },
  {
   "cell_type": "markdown",
   "metadata": {},
   "source": [
    "After removing null values there are 79267 rows"
   ]
  },
  {
   "cell_type": "markdown",
   "metadata": {},
   "source": [
    "### Creation of binary variable "
   ]
  },
  {
   "cell_type": "code",
   "execution_count": 28,
   "metadata": {},
   "outputs": [],
   "source": [
    "#using the where function to assign a value based on the condition\n",
    "data_wvs['abortion'] = np.where(data_wvs['V204']>3, 1, 0)"
   ]
  },
  {
   "cell_type": "code",
   "execution_count": 29,
   "metadata": {},
   "outputs": [
    {
     "data": {
      "text/plain": [
       "0    50435\n",
       "1    28832\n",
       "Name: abortion, dtype: int64"
      ]
     },
     "execution_count": 29,
     "metadata": {},
     "output_type": "execute_result"
    }
   ],
   "source": [
    "data_wvs['abortion'].value_counts()"
   ]
  },
  {
   "cell_type": "markdown",
   "metadata": {},
   "source": [
    "### Correlation table"
   ]
  },
  {
   "cell_type": "code",
   "execution_count": 50,
   "metadata": {},
   "outputs": [],
   "source": [
    "#correlation of abortion\n",
    "cor = data_wvs.corrwith(data_wvs['abortion'])"
   ]
  },
  {
   "cell_type": "code",
   "execution_count": 57,
   "metadata": {},
   "outputs": [
    {
     "data": {
      "text/html": [
       "<div>\n",
       "<style scoped>\n",
       "    .dataframe tbody tr th:only-of-type {\n",
       "        vertical-align: middle;\n",
       "    }\n",
       "\n",
       "    .dataframe tbody tr th {\n",
       "        vertical-align: top;\n",
       "    }\n",
       "\n",
       "    .dataframe thead th {\n",
       "        text-align: right;\n",
       "    }\n",
       "</style>\n",
       "<table border=\"1\" class=\"dataframe\">\n",
       "  <thead>\n",
       "    <tr style=\"text-align: right;\">\n",
       "      <th></th>\n",
       "      <th>Variable</th>\n",
       "      <th>Correlation</th>\n",
       "    </tr>\n",
       "  </thead>\n",
       "  <tbody>\n",
       "    <tr>\n",
       "      <th>0</th>\n",
       "      <td>V2</td>\n",
       "      <td>0.038487</td>\n",
       "    </tr>\n",
       "    <tr>\n",
       "      <th>1</th>\n",
       "      <td>V4</td>\n",
       "      <td>0.051921</td>\n",
       "    </tr>\n",
       "    <tr>\n",
       "      <th>2</th>\n",
       "      <td>V5</td>\n",
       "      <td>-0.028951</td>\n",
       "    </tr>\n",
       "    <tr>\n",
       "      <th>3</th>\n",
       "      <td>V6</td>\n",
       "      <td>-0.070634</td>\n",
       "    </tr>\n",
       "    <tr>\n",
       "      <th>4</th>\n",
       "      <td>V7</td>\n",
       "      <td>0.003503</td>\n",
       "    </tr>\n",
       "    <tr>\n",
       "      <th>5</th>\n",
       "      <td>V8</td>\n",
       "      <td>0.075076</td>\n",
       "    </tr>\n",
       "    <tr>\n",
       "      <th>6</th>\n",
       "      <td>V9</td>\n",
       "      <td>0.314117</td>\n",
       "    </tr>\n",
       "    <tr>\n",
       "      <th>7</th>\n",
       "      <td>V10</td>\n",
       "      <td>0.020985</td>\n",
       "    </tr>\n",
       "    <tr>\n",
       "      <th>8</th>\n",
       "      <td>V11</td>\n",
       "      <td>0.025678</td>\n",
       "    </tr>\n",
       "    <tr>\n",
       "      <th>9</th>\n",
       "      <td>V12</td>\n",
       "      <td>-0.077677</td>\n",
       "    </tr>\n",
       "  </tbody>\n",
       "</table>\n",
       "</div>"
      ],
      "text/plain": [
       "  Variable  Correlation\n",
       "0       V2     0.038487\n",
       "1       V4     0.051921\n",
       "2       V5    -0.028951\n",
       "3       V6    -0.070634\n",
       "4       V7     0.003503\n",
       "5       V8     0.075076\n",
       "6       V9     0.314117\n",
       "7      V10     0.020985\n",
       "8      V11     0.025678\n",
       "9      V12    -0.077677"
      ]
     },
     "execution_count": 57,
     "metadata": {},
     "output_type": "execute_result"
    }
   ],
   "source": [
    "cor = cor.reset_index()\n",
    "cor.columns = ['Variable','Correlation'] #giving column headers\n",
    "cor.head(10)\n"
   ]
  },
  {
   "cell_type": "markdown",
   "metadata": {},
   "source": [
    "Now, we check strong correlation between variables and abortion"
   ]
  },
  {
   "cell_type": "code",
   "execution_count": 52,
   "metadata": {},
   "outputs": [
    {
     "data": {
      "text/plain": [
       "abortion    1.000000\n",
       "V204        0.881048\n",
       "V205        0.548653\n",
       "V203        0.485419\n",
       "V206        0.446394\n",
       "V207        0.418271\n",
       "V9          0.314117\n",
       "V203A       0.291576\n",
       "V146        0.272220\n",
       "V210        0.257035\n",
       "dtype: float64"
      ]
     },
     "execution_count": 52,
     "metadata": {},
     "output_type": "execute_result"
    }
   ],
   "source": [
    "#top 10 positive correlated values\n",
    "cor.sort_values(kind=\"quicksort\",ascending=False).head(10)\n"
   ]
  },
  {
   "cell_type": "code",
   "execution_count": 56,
   "metadata": {},
   "outputs": [
    {
     "data": {
      "text/plain": [
       "V152   -0.315280\n",
       "V252   -0.191483\n",
       "V223   -0.165924\n",
       "V255   -0.149844\n",
       "V138   -0.142894\n",
       "V132   -0.140972\n",
       "V222   -0.140166\n",
       "V107   -0.134199\n",
       "V106   -0.121063\n",
       "V217   -0.117946\n",
       "dtype: float64"
      ]
     },
     "execution_count": 56,
     "metadata": {},
     "output_type": "execute_result"
    }
   ],
   "source": [
    "#top 10 negative correlated values\n",
    "cor.sort_values(kind=\"quicksort\",ascending=True).head(10)"
   ]
  },
  {
   "cell_type": "code",
   "execution_count": 58,
   "metadata": {},
   "outputs": [
    {
     "data": {
      "text/html": [
       "<div>\n",
       "<style scoped>\n",
       "    .dataframe tbody tr th:only-of-type {\n",
       "        vertical-align: middle;\n",
       "    }\n",
       "\n",
       "    .dataframe tbody tr th {\n",
       "        vertical-align: top;\n",
       "    }\n",
       "\n",
       "    .dataframe thead th {\n",
       "        text-align: right;\n",
       "    }\n",
       "</style>\n",
       "<table border=\"1\" class=\"dataframe\">\n",
       "  <thead>\n",
       "    <tr style=\"text-align: right;\">\n",
       "      <th></th>\n",
       "      <th>Variable</th>\n",
       "      <th>Correlation</th>\n",
       "    </tr>\n",
       "  </thead>\n",
       "  <tbody>\n",
       "    <tr>\n",
       "      <th>6</th>\n",
       "      <td>V9</td>\n",
       "      <td>0.314117</td>\n",
       "    </tr>\n",
       "    <tr>\n",
       "      <th>226</th>\n",
       "      <td>V203</td>\n",
       "      <td>0.485419</td>\n",
       "    </tr>\n",
       "    <tr>\n",
       "      <th>228</th>\n",
       "      <td>V204</td>\n",
       "      <td>0.881048</td>\n",
       "    </tr>\n",
       "    <tr>\n",
       "      <th>229</th>\n",
       "      <td>V205</td>\n",
       "      <td>0.548653</td>\n",
       "    </tr>\n",
       "    <tr>\n",
       "      <th>230</th>\n",
       "      <td>V206</td>\n",
       "      <td>0.446394</td>\n",
       "    </tr>\n",
       "    <tr>\n",
       "      <th>231</th>\n",
       "      <td>V207</td>\n",
       "      <td>0.418271</td>\n",
       "    </tr>\n",
       "    <tr>\n",
       "      <th>328</th>\n",
       "      <td>abortion</td>\n",
       "      <td>1.000000</td>\n",
       "    </tr>\n",
       "  </tbody>\n",
       "</table>\n",
       "</div>"
      ],
      "text/plain": [
       "     Variable  Correlation\n",
       "6          V9     0.314117\n",
       "226      V203     0.485419\n",
       "228      V204     0.881048\n",
       "229      V205     0.548653\n",
       "230      V206     0.446394\n",
       "231      V207     0.418271\n",
       "328  abortion     1.000000"
      ]
     },
     "execution_count": 58,
     "metadata": {},
     "output_type": "execute_result"
    }
   ],
   "source": [
    "#considering variables greater than 0.3 as strongly positive correlated variables\n",
    "cor[cor['Correlation']>0.3]"
   ]
  },
  {
   "cell_type": "code",
   "execution_count": 59,
   "metadata": {},
   "outputs": [
    {
     "data": {
      "text/html": [
       "<div>\n",
       "<style scoped>\n",
       "    .dataframe tbody tr th:only-of-type {\n",
       "        vertical-align: middle;\n",
       "    }\n",
       "\n",
       "    .dataframe tbody tr th {\n",
       "        vertical-align: top;\n",
       "    }\n",
       "\n",
       "    .dataframe thead th {\n",
       "        text-align: right;\n",
       "    }\n",
       "</style>\n",
       "<table border=\"1\" class=\"dataframe\">\n",
       "  <thead>\n",
       "    <tr style=\"text-align: right;\">\n",
       "      <th></th>\n",
       "      <th>Variable</th>\n",
       "      <th>Correlation</th>\n",
       "    </tr>\n",
       "  </thead>\n",
       "  <tbody>\n",
       "    <tr>\n",
       "      <th>165</th>\n",
       "      <td>V152</td>\n",
       "      <td>-0.31528</td>\n",
       "    </tr>\n",
       "  </tbody>\n",
       "</table>\n",
       "</div>"
      ],
      "text/plain": [
       "    Variable  Correlation\n",
       "165     V152     -0.31528"
      ]
     },
     "execution_count": 59,
     "metadata": {},
     "output_type": "execute_result"
    }
   ],
   "source": [
    "#considering variables less than -0.3 as strongle negatively correlated \n",
    "cor[cor['Correlation']<-0.3]"
   ]
  },
  {
   "cell_type": "markdown",
   "metadata": {},
   "source": [
    "Strongly positive corelated variables\n",
    "\n",
    "V9 - Religion: Importance in life V203 - Justifiable: Homosexuality V205 - Justifiable: Divorce V206 - Justifiable: Sex before marriage V207 - Justifiable: Suicide\n",
    "\n",
    "Strongly negatively correlated variables\n",
    "\n",
    "V12 - Important child qualities: independence"
   ]
  },
  {
   "cell_type": "code",
   "execution_count": 87,
   "metadata": {},
   "outputs": [
    {
     "data": {
      "text/html": [
       "<div>\n",
       "<style scoped>\n",
       "    .dataframe tbody tr th:only-of-type {\n",
       "        vertical-align: middle;\n",
       "    }\n",
       "\n",
       "    .dataframe tbody tr th {\n",
       "        vertical-align: top;\n",
       "    }\n",
       "\n",
       "    .dataframe thead th {\n",
       "        text-align: right;\n",
       "    }\n",
       "</style>\n",
       "<table border=\"1\" class=\"dataframe\">\n",
       "  <thead>\n",
       "    <tr style=\"text-align: right;\">\n",
       "      <th></th>\n",
       "      <th>V4</th>\n",
       "      <th>V5</th>\n",
       "      <th>V6</th>\n",
       "      <th>V7</th>\n",
       "      <th>V8</th>\n",
       "      <th>V9</th>\n",
       "      <th>V10</th>\n",
       "      <th>V11</th>\n",
       "      <th>V12</th>\n",
       "      <th>V13</th>\n",
       "      <th>...</th>\n",
       "      <th>country_752</th>\n",
       "      <th>country_764</th>\n",
       "      <th>country_780</th>\n",
       "      <th>country_788</th>\n",
       "      <th>country_792</th>\n",
       "      <th>country_804</th>\n",
       "      <th>country_840</th>\n",
       "      <th>country_858</th>\n",
       "      <th>country_860</th>\n",
       "      <th>country_887</th>\n",
       "    </tr>\n",
       "  </thead>\n",
       "  <tbody>\n",
       "    <tr>\n",
       "      <th>0</th>\n",
       "      <td>1</td>\n",
       "      <td>1</td>\n",
       "      <td>1</td>\n",
       "      <td>-2</td>\n",
       "      <td>1</td>\n",
       "      <td>1</td>\n",
       "      <td>2</td>\n",
       "      <td>1</td>\n",
       "      <td>1</td>\n",
       "      <td>1</td>\n",
       "      <td>...</td>\n",
       "      <td>0</td>\n",
       "      <td>0</td>\n",
       "      <td>0</td>\n",
       "      <td>0</td>\n",
       "      <td>0</td>\n",
       "      <td>0</td>\n",
       "      <td>0</td>\n",
       "      <td>0</td>\n",
       "      <td>0</td>\n",
       "      <td>0</td>\n",
       "    </tr>\n",
       "    <tr>\n",
       "      <th>1</th>\n",
       "      <td>1</td>\n",
       "      <td>2</td>\n",
       "      <td>3</td>\n",
       "      <td>4</td>\n",
       "      <td>2</td>\n",
       "      <td>2</td>\n",
       "      <td>2</td>\n",
       "      <td>2</td>\n",
       "      <td>2</td>\n",
       "      <td>1</td>\n",
       "      <td>...</td>\n",
       "      <td>0</td>\n",
       "      <td>0</td>\n",
       "      <td>0</td>\n",
       "      <td>0</td>\n",
       "      <td>0</td>\n",
       "      <td>0</td>\n",
       "      <td>0</td>\n",
       "      <td>0</td>\n",
       "      <td>0</td>\n",
       "      <td>0</td>\n",
       "    </tr>\n",
       "    <tr>\n",
       "      <th>2</th>\n",
       "      <td>1</td>\n",
       "      <td>3</td>\n",
       "      <td>2</td>\n",
       "      <td>4</td>\n",
       "      <td>2</td>\n",
       "      <td>1</td>\n",
       "      <td>2</td>\n",
       "      <td>2</td>\n",
       "      <td>2</td>\n",
       "      <td>2</td>\n",
       "      <td>...</td>\n",
       "      <td>0</td>\n",
       "      <td>0</td>\n",
       "      <td>0</td>\n",
       "      <td>0</td>\n",
       "      <td>0</td>\n",
       "      <td>0</td>\n",
       "      <td>0</td>\n",
       "      <td>0</td>\n",
       "      <td>0</td>\n",
       "      <td>0</td>\n",
       "    </tr>\n",
       "    <tr>\n",
       "      <th>3</th>\n",
       "      <td>1</td>\n",
       "      <td>1</td>\n",
       "      <td>3</td>\n",
       "      <td>4</td>\n",
       "      <td>3</td>\n",
       "      <td>1</td>\n",
       "      <td>2</td>\n",
       "      <td>1</td>\n",
       "      <td>2</td>\n",
       "      <td>2</td>\n",
       "      <td>...</td>\n",
       "      <td>0</td>\n",
       "      <td>0</td>\n",
       "      <td>0</td>\n",
       "      <td>0</td>\n",
       "      <td>0</td>\n",
       "      <td>0</td>\n",
       "      <td>0</td>\n",
       "      <td>0</td>\n",
       "      <td>0</td>\n",
       "      <td>0</td>\n",
       "    </tr>\n",
       "    <tr>\n",
       "      <th>4</th>\n",
       "      <td>1</td>\n",
       "      <td>1</td>\n",
       "      <td>1</td>\n",
       "      <td>2</td>\n",
       "      <td>1</td>\n",
       "      <td>1</td>\n",
       "      <td>1</td>\n",
       "      <td>3</td>\n",
       "      <td>2</td>\n",
       "      <td>1</td>\n",
       "      <td>...</td>\n",
       "      <td>0</td>\n",
       "      <td>0</td>\n",
       "      <td>0</td>\n",
       "      <td>0</td>\n",
       "      <td>0</td>\n",
       "      <td>0</td>\n",
       "      <td>0</td>\n",
       "      <td>0</td>\n",
       "      <td>0</td>\n",
       "      <td>0</td>\n",
       "    </tr>\n",
       "  </tbody>\n",
       "</table>\n",
       "<p>5 rows × 385 columns</p>\n",
       "</div>"
      ],
      "text/plain": [
       "   V4  V5  V6  V7  V8  V9  V10  V11  V12  V13     ...       country_752  \\\n",
       "0   1   1   1  -2   1   1    2    1    1    1     ...                 0   \n",
       "1   1   2   3   4   2   2    2    2    2    1     ...                 0   \n",
       "2   1   3   2   4   2   1    2    2    2    2     ...                 0   \n",
       "3   1   1   3   4   3   1    2    1    2    2     ...                 0   \n",
       "4   1   1   1   2   1   1    1    3    2    1     ...                 0   \n",
       "\n",
       "   country_764  country_780  country_788  country_792  country_804  \\\n",
       "0            0            0            0            0            0   \n",
       "1            0            0            0            0            0   \n",
       "2            0            0            0            0            0   \n",
       "3            0            0            0            0            0   \n",
       "4            0            0            0            0            0   \n",
       "\n",
       "   country_840  country_858  country_860  country_887  \n",
       "0            0            0            0            0  \n",
       "1            0            0            0            0  \n",
       "2            0            0            0            0  \n",
       "3            0            0            0            0  \n",
       "4            0            0            0            0  \n",
       "\n",
       "[5 rows x 385 columns]"
      ]
     },
     "execution_count": 87,
     "metadata": {},
     "output_type": "execute_result"
    }
   ],
   "source": [
    "#renaming V2 as country\n",
    "data_wvs = data_wvs.rename(columns = {\"V2\": \"country\"}) \n",
    "#removing multicollinearity\n",
    "data_wvs_new=pd.get_dummies(data_wvs,columns=['country'], drop_first=True)\n",
    "data_wvs_new.head()"
   ]
  },
  {
   "cell_type": "code",
   "execution_count": 88,
   "metadata": {},
   "outputs": [],
   "source": [
    "from sklearn.preprocessing import StandardScaler\n",
    "scaler = StandardScaler()"
   ]
  },
  {
   "cell_type": "code",
   "execution_count": 90,
   "metadata": {},
   "outputs": [
    {
     "data": {
      "text/plain": [
       "StandardScaler(copy=True, with_mean=True, with_std=True)"
      ]
     },
     "execution_count": 90,
     "metadata": {},
     "output_type": "execute_result"
    }
   ],
   "source": [
    "scaler.fit(data_wvs_new.drop('abortion',axis=1))"
   ]
  },
  {
   "cell_type": "code",
   "execution_count": 97,
   "metadata": {},
   "outputs": [],
   "source": [
    "#feature trasnformation\n",
    "new_scaled_features=scaler.transform(data_wvs_new.drop(['abortion'],axis=1))"
   ]
  },
  {
   "cell_type": "code",
   "execution_count": 98,
   "metadata": {},
   "outputs": [
    {
     "data": {
      "text/html": [
       "<div>\n",
       "<style scoped>\n",
       "    .dataframe tbody tr th:only-of-type {\n",
       "        vertical-align: middle;\n",
       "    }\n",
       "\n",
       "    .dataframe tbody tr th {\n",
       "        vertical-align: top;\n",
       "    }\n",
       "\n",
       "    .dataframe thead th {\n",
       "        text-align: right;\n",
       "    }\n",
       "</style>\n",
       "<table border=\"1\" class=\"dataframe\">\n",
       "  <thead>\n",
       "    <tr style=\"text-align: right;\">\n",
       "      <th></th>\n",
       "      <th>V4</th>\n",
       "      <th>V5</th>\n",
       "      <th>V6</th>\n",
       "      <th>V7</th>\n",
       "      <th>V8</th>\n",
       "      <th>V9</th>\n",
       "      <th>V10</th>\n",
       "      <th>V11</th>\n",
       "      <th>V12</th>\n",
       "      <th>V13</th>\n",
       "      <th>...</th>\n",
       "      <th>country_752</th>\n",
       "      <th>country_764</th>\n",
       "      <th>country_780</th>\n",
       "      <th>country_788</th>\n",
       "      <th>country_792</th>\n",
       "      <th>country_804</th>\n",
       "      <th>country_840</th>\n",
       "      <th>country_858</th>\n",
       "      <th>country_860</th>\n",
       "      <th>country_887</th>\n",
       "    </tr>\n",
       "  </thead>\n",
       "  <tbody>\n",
       "    <tr>\n",
       "      <th>0</th>\n",
       "      <td>-0.249442</td>\n",
       "      <td>-0.876634</td>\n",
       "      <td>-0.962694</td>\n",
       "      <td>-4.284327</td>\n",
       "      <td>-0.513293</td>\n",
       "      <td>-0.787498</td>\n",
       "      <td>0.247078</td>\n",
       "      <td>-1.228728</td>\n",
       "      <td>-0.953006</td>\n",
       "      <td>-0.807323</td>\n",
       "      <td>...</td>\n",
       "      <td>-0.118955</td>\n",
       "      <td>-0.118079</td>\n",
       "      <td>-0.108898</td>\n",
       "      <td>-0.114739</td>\n",
       "      <td>-0.139354</td>\n",
       "      <td>-0.138883</td>\n",
       "      <td>-0.166332</td>\n",
       "      <td>-0.102365</td>\n",
       "      <td>-0.12852</td>\n",
       "      <td>-0.101861</td>\n",
       "    </tr>\n",
       "    <tr>\n",
       "      <th>1</th>\n",
       "      <td>-0.249442</td>\n",
       "      <td>0.435800</td>\n",
       "      <td>1.297769</td>\n",
       "      <td>1.338424</td>\n",
       "      <td>0.576290</td>\n",
       "      <td>0.132267</td>\n",
       "      <td>0.247078</td>\n",
       "      <td>-0.075439</td>\n",
       "      <td>1.033946</td>\n",
       "      <td>-0.807323</td>\n",
       "      <td>...</td>\n",
       "      <td>-0.118955</td>\n",
       "      <td>-0.118079</td>\n",
       "      <td>-0.108898</td>\n",
       "      <td>-0.114739</td>\n",
       "      <td>-0.139354</td>\n",
       "      <td>-0.138883</td>\n",
       "      <td>-0.166332</td>\n",
       "      <td>-0.102365</td>\n",
       "      <td>-0.12852</td>\n",
       "      <td>-0.101861</td>\n",
       "    </tr>\n",
       "    <tr>\n",
       "      <th>2</th>\n",
       "      <td>-0.249442</td>\n",
       "      <td>1.748235</td>\n",
       "      <td>0.167538</td>\n",
       "      <td>1.338424</td>\n",
       "      <td>0.576290</td>\n",
       "      <td>-0.787498</td>\n",
       "      <td>0.247078</td>\n",
       "      <td>-0.075439</td>\n",
       "      <td>1.033946</td>\n",
       "      <td>1.227788</td>\n",
       "      <td>...</td>\n",
       "      <td>-0.118955</td>\n",
       "      <td>-0.118079</td>\n",
       "      <td>-0.108898</td>\n",
       "      <td>-0.114739</td>\n",
       "      <td>-0.139354</td>\n",
       "      <td>-0.138883</td>\n",
       "      <td>-0.166332</td>\n",
       "      <td>-0.102365</td>\n",
       "      <td>-0.12852</td>\n",
       "      <td>-0.101861</td>\n",
       "    </tr>\n",
       "    <tr>\n",
       "      <th>3</th>\n",
       "      <td>-0.249442</td>\n",
       "      <td>-0.876634</td>\n",
       "      <td>1.297769</td>\n",
       "      <td>1.338424</td>\n",
       "      <td>1.665873</td>\n",
       "      <td>-0.787498</td>\n",
       "      <td>0.247078</td>\n",
       "      <td>-1.228728</td>\n",
       "      <td>1.033946</td>\n",
       "      <td>1.227788</td>\n",
       "      <td>...</td>\n",
       "      <td>-0.118955</td>\n",
       "      <td>-0.118079</td>\n",
       "      <td>-0.108898</td>\n",
       "      <td>-0.114739</td>\n",
       "      <td>-0.139354</td>\n",
       "      <td>-0.138883</td>\n",
       "      <td>-0.166332</td>\n",
       "      <td>-0.102365</td>\n",
       "      <td>-0.12852</td>\n",
       "      <td>-0.101861</td>\n",
       "    </tr>\n",
       "    <tr>\n",
       "      <th>4</th>\n",
       "      <td>-0.249442</td>\n",
       "      <td>-0.876634</td>\n",
       "      <td>-0.962694</td>\n",
       "      <td>-0.535826</td>\n",
       "      <td>-0.513293</td>\n",
       "      <td>-0.787498</td>\n",
       "      <td>-1.065953</td>\n",
       "      <td>1.077850</td>\n",
       "      <td>1.033946</td>\n",
       "      <td>-0.807323</td>\n",
       "      <td>...</td>\n",
       "      <td>-0.118955</td>\n",
       "      <td>-0.118079</td>\n",
       "      <td>-0.108898</td>\n",
       "      <td>-0.114739</td>\n",
       "      <td>-0.139354</td>\n",
       "      <td>-0.138883</td>\n",
       "      <td>-0.166332</td>\n",
       "      <td>-0.102365</td>\n",
       "      <td>-0.12852</td>\n",
       "      <td>-0.101861</td>\n",
       "    </tr>\n",
       "  </tbody>\n",
       "</table>\n",
       "<p>5 rows × 384 columns</p>\n",
       "</div>"
      ],
      "text/plain": [
       "         V4        V5        V6        V7        V8        V9       V10  \\\n",
       "0 -0.249442 -0.876634 -0.962694 -4.284327 -0.513293 -0.787498  0.247078   \n",
       "1 -0.249442  0.435800  1.297769  1.338424  0.576290  0.132267  0.247078   \n",
       "2 -0.249442  1.748235  0.167538  1.338424  0.576290 -0.787498  0.247078   \n",
       "3 -0.249442 -0.876634  1.297769  1.338424  1.665873 -0.787498  0.247078   \n",
       "4 -0.249442 -0.876634 -0.962694 -0.535826 -0.513293 -0.787498 -1.065953   \n",
       "\n",
       "        V11       V12       V13     ...       country_752  country_764  \\\n",
       "0 -1.228728 -0.953006 -0.807323     ...         -0.118955    -0.118079   \n",
       "1 -0.075439  1.033946 -0.807323     ...         -0.118955    -0.118079   \n",
       "2 -0.075439  1.033946  1.227788     ...         -0.118955    -0.118079   \n",
       "3 -1.228728  1.033946  1.227788     ...         -0.118955    -0.118079   \n",
       "4  1.077850  1.033946 -0.807323     ...         -0.118955    -0.118079   \n",
       "\n",
       "   country_780  country_788  country_792  country_804  country_840  \\\n",
       "0    -0.108898    -0.114739    -0.139354    -0.138883    -0.166332   \n",
       "1    -0.108898    -0.114739    -0.139354    -0.138883    -0.166332   \n",
       "2    -0.108898    -0.114739    -0.139354    -0.138883    -0.166332   \n",
       "3    -0.108898    -0.114739    -0.139354    -0.138883    -0.166332   \n",
       "4    -0.108898    -0.114739    -0.139354    -0.138883    -0.166332   \n",
       "\n",
       "   country_858  country_860  country_887  \n",
       "0    -0.102365     -0.12852    -0.101861  \n",
       "1    -0.102365     -0.12852    -0.101861  \n",
       "2    -0.102365     -0.12852    -0.101861  \n",
       "3    -0.102365     -0.12852    -0.101861  \n",
       "4    -0.102365     -0.12852    -0.101861  \n",
       "\n",
       "[5 rows x 384 columns]"
      ]
     },
     "execution_count": 98,
     "metadata": {},
     "output_type": "execute_result"
    }
   ],
   "source": [
    "new_col=data_wvs_new.columns\n",
    "#dropping abortion column \n",
    "new_col=new_col.drop('abortion')\n",
    "new_feat = pd.DataFrame(new_scaled_features,columns=new_col)\n",
    "new_feat.head()"
   ]
  },
  {
   "cell_type": "code",
   "execution_count": 94,
   "metadata": {},
   "outputs": [],
   "source": [
    "from sklearn.model_selection import train_test_split\n",
    "scaler=StandardScaler()"
   ]
  },
  {
   "cell_type": "code",
   "execution_count": 125,
   "metadata": {},
   "outputs": [],
   "source": [
    "xtrain, xtest, ytrain, ytest = train_test_split(new_scaled_features,data_wvs_new['abortion'],train_size=0.1,test_size=0.05,random_state=50)"
   ]
  },
  {
   "cell_type": "code",
   "execution_count": 126,
   "metadata": {},
   "outputs": [],
   "source": [
    "#importing the Classifier\n",
    "from sklearn.neighbors import KNeighborsClassifier"
   ]
  },
  {
   "cell_type": "markdown",
   "metadata": {},
   "source": [
    "### KNN"
   ]
  },
  {
   "cell_type": "code",
   "execution_count": 127,
   "metadata": {},
   "outputs": [
    {
     "data": {
      "text/plain": [
       "KNeighborsClassifier(algorithm='auto', leaf_size=30, metric='minkowski',\n",
       "           metric_params=None, n_jobs=-1, n_neighbors=3, p=2,\n",
       "           weights='uniform')"
      ]
     },
     "execution_count": 127,
     "metadata": {},
     "output_type": "execute_result"
    }
   ],
   "source": [
    "#trying 3 different k values(3,4,7)\n",
    "knn3 = KNeighborsClassifier(3, n_jobs=-1)\n",
    "knn3.fit(xtrain,ytrain)"
   ]
  },
  {
   "cell_type": "code",
   "execution_count": 128,
   "metadata": {},
   "outputs": [
    {
     "data": {
      "text/plain": [
       "KNeighborsClassifier(algorithm='auto', leaf_size=30, metric='minkowski',\n",
       "           metric_params=None, n_jobs=-1, n_neighbors=4, p=2,\n",
       "           weights='uniform')"
      ]
     },
     "execution_count": 128,
     "metadata": {},
     "output_type": "execute_result"
    }
   ],
   "source": [
    "knn4 = KNeighborsClassifier(4, n_jobs=-1)\n",
    "knn4.fit(xtrain,ytrain)"
   ]
  },
  {
   "cell_type": "code",
   "execution_count": 129,
   "metadata": {},
   "outputs": [
    {
     "data": {
      "text/plain": [
       "KNeighborsClassifier(algorithm='auto', leaf_size=30, metric='minkowski',\n",
       "           metric_params=None, n_jobs=-1, n_neighbors=7, p=2,\n",
       "           weights='uniform')"
      ]
     },
     "execution_count": 129,
     "metadata": {},
     "output_type": "execute_result"
    }
   ],
   "source": [
    "knn7 = KNeighborsClassifier(7, n_jobs=-1)\n",
    "knn7.fit(xtrain,ytrain)"
   ]
  },
  {
   "cell_type": "code",
   "execution_count": 130,
   "metadata": {},
   "outputs": [],
   "source": [
    "#predictions\n",
    "pred_knn3=knn3.predict(xtest)\n",
    "pred_knn4=knn4.predict(xtest)\n",
    "pred_knn7=knn7.predict(xtest)"
   ]
  },
  {
   "cell_type": "code",
   "execution_count": 131,
   "metadata": {},
   "outputs": [],
   "source": [
    "from sklearn.metrics import classification_report, confusion_matrix"
   ]
  },
  {
   "cell_type": "code",
   "execution_count": 132,
   "metadata": {},
   "outputs": [
    {
     "name": "stdout",
     "output_type": "stream",
     "text": [
      "[[2176  376]\n",
      " [ 434  978]]\n",
      "for knn when n==3\n",
      "             precision    recall  f1-score   support\n",
      "\n",
      "          0       0.83      0.85      0.84      2552\n",
      "          1       0.72      0.69      0.71      1412\n",
      "\n",
      "avg / total       0.79      0.80      0.79      3964\n",
      "\n",
      "------------------------------------\n",
      "for knn when n==4\n",
      "             precision    recall  f1-score   support\n",
      "\n",
      "          0       0.80      0.90      0.85      2552\n",
      "          1       0.77      0.59      0.67      1412\n",
      "\n",
      "avg / total       0.79      0.79      0.78      3964\n",
      "\n",
      "------------------------------------\n",
      "for knn when n==7\n",
      "             precision    recall  f1-score   support\n",
      "\n",
      "          0       0.83      0.86      0.85      2552\n",
      "          1       0.73      0.67      0.70      1412\n",
      "\n",
      "avg / total       0.79      0.80      0.79      3964\n",
      "\n"
     ]
    }
   ],
   "source": [
    "print(confusion_matrix(ytest,pred_knn3))\n",
    "print(\"for knn when n==3\")\n",
    "print(classification_report(ytest,pred_knn3))\n",
    "print(\"------------------------------------\")\n",
    "print(\"for knn when n==4\")\n",
    "print(classification_report(ytest,pred_knn4))\n",
    "print(\"------------------------------------\")\n",
    "print(\"for knn when n==7\")\n",
    "print(classification_report(ytest,pred_knn7))"
   ]
  },
  {
   "cell_type": "markdown",
   "metadata": {},
   "source": [
    "### confusion matrix and performance measure"
   ]
  },
  {
   "cell_type": "code",
   "execution_count": 133,
   "metadata": {},
   "outputs": [],
   "source": [
    "\n",
    "\n",
    "def perf_measure(pred_values, test_values):\n",
    "    \n",
    "    \n",
    "    pred_values = np.array(pred_values)\n",
    "    test_values = np.array(test_values)\n",
    "    #initialising all the metrics to 0\n",
    "    true_positives=0\n",
    "    true_negatives=0\n",
    "    false_positives=0\n",
    "    false_negatives=0\n",
    "    \n",
    "    for i in range(0,len(pred_values)):\n",
    "        if (pred_values[i] == 0 and test_values[i] == 0):\n",
    "            true_negatives = true_negatives + 1\n",
    "        elif (pred_values[i] == 1 and test_values[i] == 1):\n",
    "            true_positives = true_positives + 1\n",
    "        elif (pred_values[i] == 1 and test_values[i] == 0):\n",
    "            false_positives = false_positives + 1\n",
    "        else:\n",
    "            false_negatives = false_negatives + 1\n",
    "        \n",
    "    \n",
    "    accuracy = 100*(true_positives + true_negatives) / (true_positives + true_negatives + false_positives + false_negatives) \n",
    "    precision = 100*true_positives / (true_positives + false_positives)\n",
    "    recall = 100*true_positives / (true_positives + false_negatives)\n",
    "    f1_score = 2*precision*recall / (precision+recall)\n",
    "    \n",
    "    print(\"Results:\\n----------------------------\")\n",
    "    print(\"Accuracy:\", round(accuracy,2), \"%\")\n",
    "    print(\"Precision:\", round(precision,2), \"%\")\n",
    "    print(\"Recall:\", round(recall,2), \"%\")\n",
    "    print(\"F1 Score:\", round(f1_score,2), \"%\")   \n",
    "\n",
    "    return None"
   ]
  },
  {
   "cell_type": "code",
   "execution_count": 134,
   "metadata": {},
   "outputs": [
    {
     "name": "stdout",
     "output_type": "stream",
     "text": [
      "Results:\n",
      "----------------------------\n",
      "Accuracy: 79.57 %\n",
      "Precision: 72.23 %\n",
      "Recall: 69.26 %\n",
      "F1 Score: 70.72 %\n",
      "None\n",
      "Results:\n",
      "----------------------------\n",
      "Accuracy: 79.09 %\n",
      "Precision: 77.22 %\n",
      "Recall: 58.57 %\n",
      "F1 Score: 66.61 %\n",
      "None\n",
      "Results:\n",
      "----------------------------\n",
      "Accuracy: 79.62 %\n",
      "Precision: 73.3 %\n",
      "Recall: 67.28 %\n",
      "F1 Score: 70.16 %\n",
      "None\n"
     ]
    }
   ],
   "source": [
    "print(perf_measure(pred_knn3,ytest))\n",
    "print(perf_measure(pred_knn4,ytest))\n",
    "print(perf_measure(pred_knn7,ytest))\n",
    "\n",
    "\n"
   ]
  },
  {
   "cell_type": "markdown",
   "metadata": {},
   "source": [
    "Accuracy is around 69% for k==7"
   ]
  },
  {
   "cell_type": "markdown",
   "metadata": {},
   "source": [
    "### Logistic regression"
   ]
  },
  {
   "cell_type": "code",
   "execution_count": 135,
   "metadata": {},
   "outputs": [],
   "source": [
    "from sklearn.linear_model import LogisticRegression\n"
   ]
  },
  {
   "cell_type": "code",
   "execution_count": 136,
   "metadata": {},
   "outputs": [],
   "source": [
    "Y=data_wvs_new['abortion']\n",
    "X=data_wvs_new.drop(['abortion', 'V204'], axis=1)"
   ]
  },
  {
   "cell_type": "code",
   "execution_count": 143,
   "metadata": {},
   "outputs": [],
   "source": [
    "xtrain1, xtest1, ytrain1, ytest1 = train_test_split(X, Y, test_size=0.3, train_size=0.7, random_state=23)\n"
   ]
  },
  {
   "cell_type": "code",
   "execution_count": 162,
   "metadata": {},
   "outputs": [
    {
     "data": {
      "text/plain": [
       "(55486, 383)"
      ]
     },
     "execution_count": 162,
     "metadata": {},
     "output_type": "execute_result"
    }
   ],
   "source": []
  },
  {
   "cell_type": "raw",
   "metadata": {},
   "source": [
    "logistic_reg=LogisticRegression()\n",
    "logistic_reg.fit(xtrain1,ytrain1)"
   ]
  },
  {
   "cell_type": "code",
   "execution_count": 147,
   "metadata": {},
   "outputs": [
    {
     "name": "stdout",
     "output_type": "stream",
     "text": [
      "             precision    recall  f1-score   support\n",
      "\n",
      "          0       0.85      0.89      0.87     15145\n",
      "          1       0.80      0.73      0.76      8636\n",
      "\n",
      "avg / total       0.83      0.83      0.83     23781\n",
      "\n"
     ]
    }
   ],
   "source": [
    "preds=logistic_reg.predict(xtest1)\n",
    "print(classification_report(ytest1,preds))"
   ]
  },
  {
   "cell_type": "code",
   "execution_count": 148,
   "metadata": {},
   "outputs": [
    {
     "name": "stdout",
     "output_type": "stream",
     "text": [
      "Results:\n",
      "----------------------------\n",
      "Accuracy: 83.46 %\n",
      "Precision: 79.56 %\n",
      "Recall: 73.26 %\n",
      "F1 Score: 76.28 %\n"
     ]
    }
   ],
   "source": [
    "perf_measure(preds,ytest1)"
   ]
  },
  {
   "cell_type": "markdown",
   "metadata": {},
   "source": [
    "Log model is better than Knn"
   ]
  },
  {
   "cell_type": "markdown",
   "metadata": {},
   "source": [
    "### svm"
   ]
  },
  {
   "cell_type": "code",
   "execution_count": 165,
   "metadata": {},
   "outputs": [
    {
     "name": "stderr",
     "output_type": "stream",
     "text": [
      "/anaconda3/lib/python3.6/site-packages/sklearn/svm/base.py:218: ConvergenceWarning: Solver terminated early (max_iter=1000).  Consider pre-processing your data with StandardScaler or MinMaxScaler.\n",
      "  % self.max_iter, ConvergenceWarning)\n"
     ]
    },
    {
     "data": {
      "text/plain": [
       "SVC(C=1.0, cache_size=200, class_weight=None, coef0=0.0,\n",
       "  decision_function_shape='ovr', degree=3, gamma='auto', kernel='rbf',\n",
       "  max_iter=1000, probability=False, random_state=None, shrinking=True,\n",
       "  tol=0.001, verbose=False)"
      ]
     },
     "execution_count": 165,
     "metadata": {},
     "output_type": "execute_result"
    }
   ],
   "source": [
    "from sklearn.svm import SVC\n",
    "#1st model\n",
    "svm_model_1 = SVC(gamma='auto', kernel='rbf',max_iter=1000)\n",
    "svm_model_1.fit(xtrain,ytrain)\n"
   ]
  },
  {
   "cell_type": "code",
   "execution_count": 166,
   "metadata": {},
   "outputs": [
    {
     "name": "stderr",
     "output_type": "stream",
     "text": [
      "/anaconda3/lib/python3.6/site-packages/sklearn/svm/base.py:218: ConvergenceWarning: Solver terminated early (max_iter=1000).  Consider pre-processing your data with StandardScaler or MinMaxScaler.\n",
      "  % self.max_iter, ConvergenceWarning)\n"
     ]
    },
    {
     "data": {
      "text/plain": [
       "SVC(C=0.02, cache_size=200, class_weight=None, coef0=0.0,\n",
       "  decision_function_shape='ovr', degree=7, gamma='auto', kernel='poly',\n",
       "  max_iter=1000, probability=False, random_state=None, shrinking=True,\n",
       "  tol=0.001, verbose=False)"
      ]
     },
     "execution_count": 166,
     "metadata": {},
     "output_type": "execute_result"
    }
   ],
   "source": [
    "#2nd model ie poly kernel where degree=7\n",
    "svm_model_2 = SVC(C=0.02,gamma='auto', kernel='poly',max_iter=1000,degree=7)\n",
    "svm_model_2.fit(xtrain,ytrain)\n"
   ]
  },
  {
   "cell_type": "code",
   "execution_count": 167,
   "metadata": {},
   "outputs": [
    {
     "name": "stderr",
     "output_type": "stream",
     "text": [
      "/anaconda3/lib/python3.6/site-packages/sklearn/svm/base.py:218: ConvergenceWarning: Solver terminated early (max_iter=1000).  Consider pre-processing your data with StandardScaler or MinMaxScaler.\n",
      "  % self.max_iter, ConvergenceWarning)\n"
     ]
    },
    {
     "data": {
      "text/plain": [
       "SVC(C=0.01, cache_size=200, class_weight=None, coef0=0.0,\n",
       "  decision_function_shape='ovr', degree=5, gamma='auto', kernel='poly',\n",
       "  max_iter=1000, probability=False, random_state=None, shrinking=True,\n",
       "  tol=0.001, verbose=False)"
      ]
     },
     "execution_count": 167,
     "metadata": {},
     "output_type": "execute_result"
    }
   ],
   "source": [
    "#3rd model where degree=5\n",
    "svm_model_3 = SVC(C=0.01,gamma='auto', kernel='poly',max_iter=1000, degree=5)\n",
    "svm_model_3.fit(xtrain,ytrain)\n"
   ]
  },
  {
   "cell_type": "code",
   "execution_count": 173,
   "metadata": {},
   "outputs": [
    {
     "name": "stdout",
     "output_type": "stream",
     "text": [
      "The result for model 1 is:\n",
      "[[2462   93]\n",
      " [  90 1319]]\n",
      "Results:\n",
      "----------------------------\n",
      "Accuracy: 95.38 %\n",
      "Precision: 93.61 %\n",
      "Recall: 93.41 %\n",
      "F1 Score: 93.51 %\n",
      "None\n",
      "The result for model 1 is:\n",
      "[[  19    4]\n",
      " [2533 1408]]\n",
      "Results:\n",
      "----------------------------\n",
      "Accuracy: 95.38 %\n",
      "Precision: 93.61 %\n",
      "Recall: 93.41 %\n",
      "F1 Score: 93.51 %\n",
      "None\n",
      "The result for model 1 is:\n",
      "[[   1    0]\n",
      " [2551 1412]]\n",
      "Results:\n",
      "----------------------------\n",
      "Accuracy: 35.65 %\n",
      "Precision: 35.63 %\n",
      "Recall: 100.0 %\n",
      "F1 Score: 52.54 %\n",
      "None\n"
     ]
    }
   ],
   "source": [
    "print(\"The result for model 1 is:\")\n",
    "\n",
    "svm_pred_1=svm_model_1.predict(xtest)\n",
    "print(confusion_matrix(svm_pred_1,ytest))\n",
    "print(perf_measure(svm_pred_1,ytest))\n",
    "\n",
    "print(\"The result for model 1 is:\")\n",
    "\n",
    "svm_pred_2=svm_model_2.predict(xtest)\n",
    "print(confusion_matrix(svm_pred_2,ytest))\n",
    "print(perf_measure(svm_pred_1,ytest))\n",
    "\n",
    "print(\"The result for model 1 is:\")\n",
    "\n",
    "svm_pred_3=svm_model_3.predict(xtest)\n",
    "print(confusion_matrix(svm_pred_3,ytest))\n",
    "print(perf_measure(svm_pred_3,ytest))"
   ]
  },
  {
   "cell_type": "markdown",
   "metadata": {},
   "source": [
    "The accuracy for first 2 models is 95% which is higher than log regression. Here we see that for model 3 precision and accuracy is very low and recall is very high. One reason might be that the kernels are not well fitted to the training data that might be causing a higher number of misclassification"
   ]
  },
  {
   "cell_type": "markdown",
   "metadata": {},
   "source": [
    "ROC CURVES"
   ]
  },
  {
   "cell_type": "code",
   "execution_count": 176,
   "metadata": {},
   "outputs": [],
   "source": [
    "from sklearn.metrics import auc, roc_curve"
   ]
  },
  {
   "cell_type": "code",
   "execution_count": 184,
   "metadata": {},
   "outputs": [],
   "source": [
    "def roc_curv(model):\n",
    "    \n",
    "    num_threshold = 10\n",
    "    n = np.shape(ytest1)[0]\n",
    "    t,f = [],[]\n",
    "    threshold = np.linspace(0, 0.7, num_threshold)\n",
    "    pred_proba = model.predict_proba(Xtest1)[:,1]\n",
    "    \n",
    "    for i in threshold:\n",
    "        current_t = sum(((pred_proba >= i) == True) & (ytest1 == 1)) / sum(ytest1)\n",
    "        current_f = sum((pred_proba >= i) & (ytest1 == 0)) / sum(ytest1 == 0)\n",
    "        t.append(current_t)\n",
    "        f.append(current_f)\n",
    "        fig, ax = plt.subplots()\n",
    "        plt.plot(f, t)  \n",
    "        plt.show()\n",
    "        \n",
    "    print(\"AUC for Threshold value \", i,  \"is\", auc(f, t))\n",
    "    \n",
    "    \n",
    "    \n",
    "#http://benalexkeen.com/scoring-classifier-models-using-scikit-learn/#"
   ]
  },
  {
   "cell_type": "code",
   "execution_count": 185,
   "metadata": {},
   "outputs": [
    {
     "data": {
      "image/png": "[encoded data removed]",
      "text/plain": [
       "<matplotlib.figure.Figure at 0x1a1b401160>"
      ]
     },
     "metadata": {},
     "output_type": "display_data"
    },
    {
     "data": {
      "image/png": "[encoded data removed]",
      "text/plain": [
       "<matplotlib.figure.Figure at 0x1a0bc76160>"
      ]
     },
     "metadata": {},
     "output_type": "display_data"
    },
    {
     "data": {
      "image/png": "[encoded data removed]",
      "text/plain": [
       "<matplotlib.figure.Figure at 0x1a1b581e80>"
      ]
     },
     "metadata": {},
     "output_type": "display_data"
    },
    {
     "data": {
      "image/png": "[encoded data removed]",
      "text/plain": [
       "<matplotlib.figure.Figure at 0x1a0bd262b0>"
      ]
     },
     "metadata": {},
     "output_type": "display_data"
    },
    {
     "data": {
      "image/png": "[encoded data removed]",
      "text/plain": [
       "<matplotlib.figure.Figure at 0x1a18ee97f0>"
      ]
     },
     "metadata": {},
     "output_type": "display_data"
    },
    {
     "data": {
      "image/png": "[encoded data removed]",
      "text/plain": [
       "<matplotlib.figure.Figure at 0x1a18ed97f0>"
      ]
     },
     "metadata": {},
     "output_type": "display_data"
    },
    {
     "data": {
      "image/png": "[encoded data removed]",
      "text/plain": [
       "<matplotlib.figure.Figure at 0x1a18d89eb8>"
      ]
     },
     "metadata": {},
     "output_type": "display_data"
    },
    {
     "data": {
      "image/png": "[encoded data removed]",
      "text/plain": [
       "<matplotlib.figure.Figure at 0x1a18d0f240>"
      ]
     },
     "metadata": {},
     "output_type": "display_data"
    },
    {
     "data": {
      "image/png": "[encoded data removed]",
      "text/plain": [
       "<matplotlib.figure.Figure at 0x1a0bcefeb8>"
      ]
     },
     "metadata": {},
     "output_type": "display_data"
    },
    {
     "data": {
      "image/png": "[encoded data removed]",
      "text/plain": [
       "<matplotlib.figure.Figure at 0x1a16d7ecc0>"
      ]
     },
     "metadata": {},
     "output_type": "display_data"
    },
    {
     "name": "stdout",
     "output_type": "stream",
     "text": [
      "AUC for Threshold value  0.7 is 0.8828327556486157\n"
     ]
    }
   ],
   "source": [
    "roc_curv(logistic_reg)"
   ]
  },
  {
   "cell_type": "code",
   "execution_count": 204,
   "metadata": {},
   "outputs": [],
   "source": [
    "def roc_curv2(knnmodel):\n",
    "    num_threshold = 10\n",
    "    n = np.shape(ytest)[0]\n",
    "    t,f = [],[]\n",
    "    threshold = np.linspace(0, 0.7, num_threshold)\n",
    "    pred_proba = knnmodel.predict_proba(xtest)[:,1]\n",
    "    \n",
    "    for i in threshold:\n",
    "        \n",
    "        current_t = sum(((pred_proba >= i) == True) & (ytest == 1)) / sum(ytest)\n",
    "        current_f = sum((pred_proba >= i) & (ytest == 0)) / sum(ytest == 0)\n",
    "        t.append(current_t)\n",
    "        f.append(current_f)\n",
    "        fig, ax = plt.subplots()\n",
    "        plt.plot(f, t)  \n",
    "        plt.show()\n",
    "        \n",
    "    print(\"AUC for threshold:\", i,  \"is\", auc(f, t))"
   ]
  },
  {
   "cell_type": "code",
   "execution_count": 205,
   "metadata": {},
   "outputs": [
    {
     "data": {
      "image/png": "[encoded data removed]",
      "text/plain": [
       "<matplotlib.figure.Figure at 0x1a0b3e69b0>"
      ]
     },
     "metadata": {},
     "output_type": "display_data"
    },
    {
     "data": {
      "image/png": "[encoded data removed]",
      "text/plain": [
       "<matplotlib.figure.Figure at 0x1a18e2c860>"
      ]
     },
     "metadata": {},
     "output_type": "display_data"
    },
    {
     "data": {
      "image/png": "[encoded data removed]",
      "text/plain": [
       "<matplotlib.figure.Figure at 0x1a0b3ee0f0>"
      ]
     },
     "metadata": {},
     "output_type": "display_data"
    },
    {
     "data": {
      "image/png": "[encoded data removed]",
      "text/plain": [
       "<matplotlib.figure.Figure at 0x1a0b336438>"
      ]
     },
     "metadata": {},
     "output_type": "display_data"
    },
    {
     "data": {
      "image/png": "[encoded data removed]",
      "text/plain": [
       "<matplotlib.figure.Figure at 0x1a0bc726d8>"
      ]
     },
     "metadata": {},
     "output_type": "display_data"
    },
    {
     "data": {
      "image/png": "[encoded data removed]",
      "text/plain": [
       "<matplotlib.figure.Figure at 0x1a0b150358>"
      ]
     },
     "metadata": {},
     "output_type": "display_data"
    },
    {
     "data": {
      "image/png": "[encoded data removed]",
      "text/plain": [
       "<matplotlib.figure.Figure at 0x1a1b401438>"
      ]
     },
     "metadata": {},
     "output_type": "display_data"
    },
    {
     "data": {
      "image/png": "[encoded data removed]",
      "text/plain": [
       "<matplotlib.figure.Figure at 0x1a1b410390>"
      ]
     },
     "metadata": {},
     "output_type": "display_data"
    },
    {
     "data": {
      "image/png": "[encoded data removed]",
      "text/plain": [
       "<matplotlib.figure.Figure at 0x1a1b5e2a58>"
      ]
     },
     "metadata": {},
     "output_type": "display_data"
    },
    {
     "data": {
      "image/png": "[encoded data removed]",
      "text/plain": [
       "<matplotlib.figure.Figure at 0x1a14876b70>"
      ]
     },
     "metadata": {},
     "output_type": "display_data"
    },
    {
     "name": "stdout",
     "output_type": "stream",
     "text": [
      "AUC for threshold: 0.7 is 0.8107289067287115\n"
     ]
    }
   ],
   "source": [
    "roc_curv2(knn3)"
   ]
  },
  {
   "cell_type": "markdown",
   "metadata": {},
   "source": [
    "Log model has a greater area under the curve as compared to Knn model"
   ]
  },
  {
   "cell_type": "markdown",
   "metadata": {},
   "source": [
    "### How large a role does country play"
   ]
  },
  {
   "cell_type": "markdown",
   "metadata": {},
   "source": [
    "Log Model"
   ]
  },
  {
   "cell_type": "code",
   "execution_count": 207,
   "metadata": {},
   "outputs": [
    {
     "name": "stdout",
     "output_type": "stream",
     "text": [
      "             precision    recall  f1-score   support\n",
      "\n",
      "          0       0.85      0.89      0.87     15145\n",
      "          1       0.80      0.73      0.76      8636\n",
      "\n",
      "avg / total       0.83      0.83      0.83     23781\n",
      "\n"
     ]
    }
   ],
   "source": [
    "log_pred=logistic_reg.predict(xtest1)\n",
    "print(classification_report(ytest1,log_pred))"
   ]
  },
  {
   "cell_type": "code",
   "execution_count": 208,
   "metadata": {},
   "outputs": [
    {
     "name": "stdout",
     "output_type": "stream",
     "text": [
      "Results:\n",
      "----------------------------\n",
      "Accuracy: 83.46 %\n",
      "Precision: 79.56 %\n",
      "Recall: 73.26 %\n",
      "F1 Score: 76.28 %\n"
     ]
    }
   ],
   "source": [
    "perf_measure(log_pred,ytest1)"
   ]
  },
  {
   "cell_type": "code",
   "execution_count": 213,
   "metadata": {},
   "outputs": [],
   "source": [
    "#removing all columns starting with country\n",
    "col_without_country=[column for column in xtrain1.columns if not(column.lower().startswith('country'))]\n",
    "\n",
    "#https://www.programiz.com/python-programming/methods/string/startswith"
   ]
  },
  {
   "cell_type": "code",
   "execution_count": 216,
   "metadata": {},
   "outputs": [],
   "source": [
    "xtrain_nodummies=xtrain1[col_without_country]\n",
    "xtest_nodummies=xtest1[col_without_country]"
   ]
  },
  {
   "cell_type": "code",
   "execution_count": 221,
   "metadata": {},
   "outputs": [
    {
     "name": "stdout",
     "output_type": "stream",
     "text": [
      "Results:\n",
      "----------------------------\n",
      "Accuracy: 83.15 %\n",
      "Precision: 79.14 %\n",
      "Recall: 72.78 %\n",
      "F1 Score: 75.82 %\n",
      "None\n"
     ]
    }
   ],
   "source": [
    "#prediction without dummies\n",
    "log_model_without_dummies=LogisticRegression()\n",
    "log_model_without_dummies.fit(xtrain_nodummies,ytrain1)\n",
    "log_pred_no_dummies=log_model_without_dummies.predict(xtest_nodummies)\n",
    "print(perf_measure(log_pred_no_dummies,ytest1))"
   ]
  },
  {
   "cell_type": "markdown",
   "metadata": {},
   "source": [
    "removal of dummies did not have a significant effect in accuracy as it is nearpy the same in both the cases"
   ]
  },
  {
   "cell_type": "markdown",
   "metadata": {},
   "source": [
    "### Removing Highly correlated variables"
   ]
  },
  {
   "cell_type": "code",
   "execution_count": 234,
   "metadata": {},
   "outputs": [],
   "source": [
    "high_cor_columns=['V205', 'V203', 'V207', 'V203A', 'V206']\n",
    "xtrain_no_dummies_no_corr=xtrain_nodummies.drop(high_cor_columns, axis=1)\n",
    "\n",
    "xtest_no_dummies_no_corr=xtest_nodummies.drop(high_cor_columns, axis=1)\n",
    "\n",
    "\n",
    "\n"
   ]
  },
  {
   "cell_type": "code",
   "execution_count": 236,
   "metadata": {},
   "outputs": [
    {
     "data": {
      "text/plain": [
       "LogisticRegression(C=1.0, class_weight=None, dual=False, fit_intercept=True,\n",
       "          intercept_scaling=1, max_iter=100, multi_class='ovr', n_jobs=1,\n",
       "          penalty='l2', random_state=None, solver='liblinear', tol=0.0001,\n",
       "          verbose=0, warm_start=False)"
      ]
     },
     "execution_count": 236,
     "metadata": {},
     "output_type": "execute_result"
    }
   ],
   "source": [
    "log_reg_without_dummies_and_no_cor=LogisticRegression()\n",
    "log_reg_without_dummies_and_no_cor.fit(xtrain_no_dummies_no_corr,ytrain1)"
   ]
  },
  {
   "cell_type": "code",
   "execution_count": 238,
   "metadata": {},
   "outputs": [],
   "source": [
    "pred_log_no_dummies_no_cor=log_reg_without_dummies_and_no_cor.predict(xtest_no_dummies_no_corr)"
   ]
  },
  {
   "cell_type": "code",
   "execution_count": 239,
   "metadata": {},
   "outputs": [
    {
     "name": "stdout",
     "output_type": "stream",
     "text": [
      "Results:\n",
      "----------------------------\n",
      "Accuracy: 79.37 %\n",
      "Precision: 74.59 %\n",
      "Recall: 65.48 %\n",
      "F1 Score: 69.74 %\n"
     ]
    }
   ],
   "source": [
    "perf_measure(pred_log_no_dummies_no_cor,ytest1)"
   ]
  },
  {
   "cell_type": "markdown",
   "metadata": {},
   "source": [
    "We see that there is a reduction in accuracy by less than 5% after removing the dummies and the highly correlated columns"
   ]
  }
 ],
 "metadata": {
  "kernelspec": {
   "display_name": "Python 3",
   "language": "python",
   "name": "python3"
  },
  "language_info": {
   "codemirror_mode": {
    "name": "ipython",
    "version": 3
   },
   "file_extension": ".py",
   "mimetype": "text/x-python",
   "name": "python",
   "nbconvert_exporter": "python",
   "pygments_lexer": "ipython3",
   "version": "3.6.4"
  },
  "toc": {
   "base_numbering": 1,
   "nav_menu": {},
   "number_sections": true,
   "sideBar": true,
   "skip_h1_title": false,
   "title_cell": "Table of Contents",
   "title_sidebar": "Contents",
   "toc_cell": false,
   "toc_position": {},
   "toc_section_display": true,
   "toc_window_display": false
  },
  "varInspector": {
   "cols": {
    "lenName": 16,
    "lenType": 16,
    "lenVar": 40
   },
   "kernels_config": {
    "python": {
     "delete_cmd_postfix": "",
     "delete_cmd_prefix": "del ",
     "library": "var_list.py",
     "varRefreshCmd": "print(var_dic_list())"
    },
    "r": {
     "delete_cmd_postfix": ") ",
     "delete_cmd_prefix": "rm(",
     "library": "var_list.r",
     "varRefreshCmd": "cat(var_dic_list()) "
    }
   },
   "position": {
    "height": "383px",
    "left": "1166px",
    "right": "20px",
    "top": "120px",
    "width": "359px"
   },
   "types_to_exclude": [
    "module",
    "function",
    "builtin_function_or_method",
    "instance",
    "_Feature"
   ],
   "window_display": false
  }
 },
 "nbformat": 4,
 "nbformat_minor": 2
}
