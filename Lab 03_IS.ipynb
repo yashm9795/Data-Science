{
 "cells": [
  {
   "cell_type": "code",
   "execution_count": 27,
   "metadata": {},
   "outputs": [],
   "source": [
    "#IMPORTING ALL THE PACKAGES\n",
    "import numpy as np\n",
    "import pandas as pd\n",
    "import sklearn.linear_model as lm\n",
    "import statsmodels.formula.api as smf\n",
    "\n",
    "%matplotlib inline\n",
    "from sklearn.metrics import accuracy_score"
   ]
  },
  {
   "cell_type": "markdown",
   "metadata": {},
   "source": [
    "## 1. Loading the Data"
   ]
  },
  {
   "cell_type": "code",
   "execution_count": 28,
   "metadata": {},
   "outputs": [],
   "source": [
    "data_titanic = pd.read_csv('titanic.csv.bz2')\n",
    "data_titanic.head()\n",
    "target_data = data_titanic['survived']\n",
    "\n"
   ]
  },
  {
   "cell_type": "markdown",
   "metadata": {},
   "source": [
    "## 2. LPM Model"
   ]
  },
  {
   "cell_type": "markdown",
   "metadata": {},
   "source": [
    "#Estimate an LPM model\n",
    "mod_titanic = smf.ols(formula='survived ~ C(pclass) + sex', data=data_titanic)\n",
    "result = mod_titanic.fit()\n",
    "print(result.summary())"
   ]
  },
  {
   "cell_type": "code",
   "execution_count": 29,
   "metadata": {},
   "outputs": [
    {
     "data": {
      "text/plain": [
       "0       0.898984\n",
       "1       0.394113\n",
       "2       0.898984\n",
       "3       0.394113\n",
       "4       0.898984\n",
       "5       0.394113\n",
       "6       0.898984\n",
       "7       0.394113\n",
       "8       0.898984\n",
       "9       0.394113\n",
       "10      0.394113\n",
       "11      0.898984\n",
       "12      0.898984\n",
       "13      0.898984\n",
       "14      0.394113\n",
       "15      0.394113\n",
       "16      0.394113\n",
       "17      0.898984\n",
       "18      0.898984\n",
       "19      0.394113\n",
       "20      0.394113\n",
       "21      0.898984\n",
       "22      0.394113\n",
       "23      0.898984\n",
       "24      0.898984\n",
       "25      0.394113\n",
       "26      0.394113\n",
       "27      0.898984\n",
       "28      0.898984\n",
       "29      0.394113\n",
       "          ...   \n",
       "1279    0.606349\n",
       "1280    0.101478\n",
       "1281    0.101478\n",
       "1282    0.101478\n",
       "1283    0.101478\n",
       "1284    0.101478\n",
       "1285    0.101478\n",
       "1286    0.606349\n",
       "1287    0.101478\n",
       "1288    0.101478\n",
       "1289    0.101478\n",
       "1290    0.606349\n",
       "1291    0.101478\n",
       "1292    0.101478\n",
       "1293    0.101478\n",
       "1294    0.101478\n",
       "1295    0.101478\n",
       "1296    0.101478\n",
       "1297    0.101478\n",
       "1298    0.101478\n",
       "1299    0.101478\n",
       "1300    0.606349\n",
       "1301    0.101478\n",
       "1302    0.101478\n",
       "1303    0.101478\n",
       "1304    0.606349\n",
       "1305    0.606349\n",
       "1306    0.101478\n",
       "1307    0.101478\n",
       "1308    0.101478\n",
       "Length: 1309, dtype: float64"
      ]
     },
     "execution_count": 29,
     "metadata": {},
     "output_type": "execute_result"
    }
   ],
   "source": [
    "predictions = result.predict(data)   #predicting the survival rates\n",
    "predictions"
   ]
  },
  {
   "cell_type": "markdown",
   "metadata": {},
   "source": [
    "## 3. Max & Min of survival predictions"
   ]
  },
  {
   "cell_type": "code",
   "execution_count": 30,
   "metadata": {},
   "outputs": [
    {
     "name": "stdout",
     "output_type": "stream",
     "text": [
      "0.8989839322447716\n",
      "0.10147811470358636\n"
     ]
    }
   ],
   "source": [
    "print(predictions.max())\n",
    "print(predictions.min())"
   ]
  },
  {
   "cell_type": "markdown",
   "metadata": {},
   "source": [
    "## 4. Conditional Prediction"
   ]
  },
  {
   "cell_type": "code",
   "execution_count": 31,
   "metadata": {},
   "outputs": [],
   "source": [
    "for i in range(0,len(predictions)):\n",
    "    if predictions[i] >= 0.5:\n",
    "        predictions[i] = 1\n",
    "    else:\n",
    "        predictions[i] = 0"
   ]
  },
  {
   "cell_type": "markdown",
   "metadata": {},
   "source": [
    "## 5. Compare actual and predicted values"
   ]
  },
  {
   "cell_type": "code",
   "execution_count": 32,
   "metadata": {},
   "outputs": [
    {
     "name": "stdout",
     "output_type": "stream",
     "text": [
      "0.7799847211611918\n"
     ]
    }
   ],
   "source": [
    "print(accuracy_score(target_data,predictions))"
   ]
  },
  {
   "cell_type": "markdown",
   "metadata": {},
   "source": [
    "## 6. Estimate similar model "
   ]
  },
  {
   "cell_type": "code",
   "execution_count": 35,
   "metadata": {
    "scrolled": true
   },
   "outputs": [
    {
     "name": "stdout",
     "output_type": "stream",
     "text": [
      "                            OLS Regression Results                            \n",
      "==============================================================================\n",
      "Dep. Variable:               survived   R-squared:                       0.370\n",
      "Model:                            OLS   Adj. R-squared:                  0.368\n",
      "Method:                 Least Squares   F-statistic:                     153.2\n",
      "Date:                Wed, 24 Apr 2019   Prob (F-statistic):          4.02e-128\n",
      "Time:                        15:20:44   Log-Likelihood:                -609.86\n",
      "No. Observations:                1309   AIC:                             1232.\n",
      "Df Residuals:                    1303   BIC:                             1263.\n",
      "Df Model:                           5                                         \n",
      "Covariance Type:            nonrobust                                         \n",
      "==============================================================================================\n",
      "                                 coef    std err          t      P>|t|      [0.025      0.975]\n",
      "----------------------------------------------------------------------------------------------\n",
      "Intercept                      0.9653      0.032     29.974      0.000       0.902       1.028\n",
      "C(pclass)[T.2]                -0.0785      0.049     -1.587      0.113      -0.176       0.019\n",
      "C(pclass)[T.3]                -0.4745      0.042    -11.414      0.000      -0.556      -0.393\n",
      "sex[T.male]                   -0.6245      0.043    -14.436      0.000      -0.709      -0.540\n",
      "C(pclass)[T.2]:sex[T.male]    -0.1161      0.064     -1.801      0.072      -0.243       0.010\n",
      "C(pclass)[T.3]:sex[T.male]     0.2859      0.054      5.340      0.000       0.181       0.391\n",
      "==============================================================================\n",
      "Omnibus:                      113.251   Durbin-Watson:                   1.746\n",
      "Prob(Omnibus):                  0.000   Jarque-Bera (JB):              142.526\n",
      "Skew:                           0.805   Prob(JB):                     1.12e-31\n",
      "Kurtosis:                       3.136   Cond. No.                         13.3\n",
      "==============================================================================\n",
      "\n",
      "Warnings:\n",
      "[1] Standard Errors assume that the covariance matrix of the errors is correctly specified.\n"
     ]
    }
   ],
   "source": [
    "passenger_class_effect_model = smf.ols(formula='survived ~ C(pclass)*sex', data=data_titanic)\n",
    "result_class_effect_model = passenger_class_effect_model.fit()\n",
    "print(result_class_effect_model.summary())"
   ]
  },
  {
   "cell_type": "markdown",
   "metadata": {},
   "source": [
    "## 7. Interpretation"
   ]
  },
  {
   "cell_type": "markdown",
   "metadata": {},
   "source": [
    "The highest survival rate is for 1st class females. On the contrary, 3rd class females have a very low survival rate "
   ]
  },
  {
   "cell_type": "markdown",
   "metadata": {},
   "source": [
    "## 8. Accuracy "
   ]
  },
  {
   "cell_type": "code",
   "execution_count": 39,
   "metadata": {},
   "outputs": [],
   "source": [
    "predictions_2 = result_class_effect_model.predict(data_titanic)\n",
    "for i in range(0,len(predictions_2)):\n",
    "    if predictions_2[i] >= 0.5:\n",
    "        predictions_2[i] = 1\n",
    "    else:\n",
    "        predictions_2[i] = 0"
   ]
  },
  {
   "cell_type": "code",
   "execution_count": 40,
   "metadata": {},
   "outputs": [
    {
     "data": {
      "text/plain": [
       "0.7830404889228418"
      ]
     },
     "execution_count": 40,
     "metadata": {},
     "output_type": "execute_result"
    }
   ],
   "source": [
    "accuracy_score(predictions_2,target_data)"
   ]
  },
  {
   "cell_type": "markdown",
   "metadata": {},
   "source": [
    "The accuracy has increased by 1% and the R-square has also increased."
   ]
  }
 ],
 "metadata": {
  "kernelspec": {
   "display_name": "Python 3",
   "language": "python",
   "name": "python3"
  },
  "language_info": {
   "codemirror_mode": {
    "name": "ipython",
    "version": 3
   },
   "file_extension": ".py",
   "mimetype": "text/x-python",
   "name": "python",
   "nbconvert_exporter": "python",
   "pygments_lexer": "ipython3",
   "version": "3.6.4"
  }
 },
 "nbformat": 4,
 "nbformat_minor": 2
}
